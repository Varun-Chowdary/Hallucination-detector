{
  "cells": [
    {
      "cell_type": "code",
      "execution_count": null,
      "metadata": {
        "colab": {
          "base_uri": "https://localhost:8080/"
        },
        "id": "LNsMhNS1tIyy",
        "outputId": "4d3cab79-f32c-4435-8d5f-7107a4012f56"
      },
      "outputs": [
        {
          "output_type": "stream",
          "name": "stdout",
          "text": [
            "Collecting accelerate\n",
            "  Downloading accelerate-0.29.1-py3-none-any.whl (297 kB)\n",
            "\u001b[2K     \u001b[90m━━━━━━━━━━━━━━━━━━━━━━━━━━━━━━━━━━━━━━━━\u001b[0m \u001b[32m297.3/297.3 kB\u001b[0m \u001b[31m5.7 MB/s\u001b[0m eta \u001b[36m0:00:00\u001b[0m\n",
            "\u001b[?25hCollecting peft\n",
            "  Downloading peft-0.10.0-py3-none-any.whl (199 kB)\n",
            "\u001b[2K     \u001b[90m━━━━━━━━━━━━━━━━━━━━━━━━━━━━━━━━━━━━━━━━\u001b[0m \u001b[32m199.1/199.1 kB\u001b[0m \u001b[31m12.9 MB/s\u001b[0m eta \u001b[36m0:00:00\u001b[0m\n",
            "\u001b[?25hCollecting bitsandbytes\n",
            "  Downloading bitsandbytes-0.43.0-py3-none-manylinux_2_24_x86_64.whl (102.2 MB)\n",
            "\u001b[2K     \u001b[90m━━━━━━━━━━━━━━━━━━━━━━━━━━━━━━━━━━━━━━━━\u001b[0m \u001b[32m102.2/102.2 MB\u001b[0m \u001b[31m15.0 MB/s\u001b[0m eta \u001b[36m0:00:00\u001b[0m\n",
            "\u001b[?25hRequirement already satisfied: transformers in /usr/local/lib/python3.10/dist-packages (4.38.2)\n",
            "Collecting trl\n",
            "  Downloading trl-0.8.1-py3-none-any.whl (225 kB)\n",
            "\u001b[2K     \u001b[90m━━━━━━━━━━━━━━━━━━━━━━━━━━━━━━━━━━━━━━━━\u001b[0m \u001b[32m225.0/225.0 kB\u001b[0m \u001b[31m19.7 MB/s\u001b[0m eta \u001b[36m0:00:00\u001b[0m\n",
            "\u001b[?25hRequirement already satisfied: numpy>=1.17 in /usr/local/lib/python3.10/dist-packages (from accelerate) (1.25.2)\n",
            "Requirement already satisfied: packaging>=20.0 in /usr/local/lib/python3.10/dist-packages (from accelerate) (24.0)\n",
            "Requirement already satisfied: psutil in /usr/local/lib/python3.10/dist-packages (from accelerate) (5.9.5)\n",
            "Requirement already satisfied: pyyaml in /usr/local/lib/python3.10/dist-packages (from accelerate) (6.0.1)\n",
            "Requirement already satisfied: torch>=1.10.0 in /usr/local/lib/python3.10/dist-packages (from accelerate) (2.2.1+cu121)\n",
            "Requirement already satisfied: huggingface-hub in /usr/local/lib/python3.10/dist-packages (from accelerate) (0.20.3)\n",
            "Requirement already satisfied: safetensors>=0.3.1 in /usr/local/lib/python3.10/dist-packages (from accelerate) (0.4.2)\n",
            "Requirement already satisfied: tqdm in /usr/local/lib/python3.10/dist-packages (from peft) (4.66.2)\n",
            "Requirement already satisfied: filelock in /usr/local/lib/python3.10/dist-packages (from transformers) (3.13.3)\n",
            "Requirement already satisfied: regex!=2019.12.17 in /usr/local/lib/python3.10/dist-packages (from transformers) (2023.12.25)\n",
            "Requirement already satisfied: requests in /usr/local/lib/python3.10/dist-packages (from transformers) (2.31.0)\n",
            "Requirement already satisfied: tokenizers<0.19,>=0.14 in /usr/local/lib/python3.10/dist-packages (from transformers) (0.15.2)\n",
            "Collecting datasets (from trl)\n",
            "  Downloading datasets-2.18.0-py3-none-any.whl (510 kB)\n",
            "\u001b[2K     \u001b[90m━━━━━━━━━━━━━━━━━━━━━━━━━━━━━━━━━━━━━━━━\u001b[0m \u001b[32m510.5/510.5 kB\u001b[0m \u001b[31m37.0 MB/s\u001b[0m eta \u001b[36m0:00:00\u001b[0m\n",
            "\u001b[?25hCollecting tyro>=0.5.11 (from trl)\n",
            "  Downloading tyro-0.8.2-py3-none-any.whl (80 kB)\n",
            "\u001b[2K     \u001b[90m━━━━━━━━━━━━━━━━━━━━━━━━━━━━━━━━━━━━━━━━\u001b[0m \u001b[32m80.1/80.1 kB\u001b[0m \u001b[31m7.0 MB/s\u001b[0m eta \u001b[36m0:00:00\u001b[0m\n",
            "\u001b[?25hRequirement already satisfied: fsspec>=2023.5.0 in /usr/local/lib/python3.10/dist-packages (from huggingface-hub->accelerate) (2023.6.0)\n",
            "Requirement already satisfied: typing-extensions>=3.7.4.3 in /usr/local/lib/python3.10/dist-packages (from huggingface-hub->accelerate) (4.10.0)\n",
            "Requirement already satisfied: sympy in /usr/local/lib/python3.10/dist-packages (from torch>=1.10.0->accelerate) (1.12)\n",
            "Requirement already satisfied: networkx in /usr/local/lib/python3.10/dist-packages (from torch>=1.10.0->accelerate) (3.2.1)\n",
            "Requirement already satisfied: jinja2 in /usr/local/lib/python3.10/dist-packages (from torch>=1.10.0->accelerate) (3.1.3)\n",
            "Collecting nvidia-cuda-nvrtc-cu12==12.1.105 (from torch>=1.10.0->accelerate)\n",
            "  Downloading nvidia_cuda_nvrtc_cu12-12.1.105-py3-none-manylinux1_x86_64.whl (23.7 MB)\n",
            "\u001b[2K     \u001b[90m━━━━━━━━━━━━━━━━━━━━━━━━━━━━━━━━━━━━━━━━\u001b[0m \u001b[32m23.7/23.7 MB\u001b[0m \u001b[31m53.0 MB/s\u001b[0m eta \u001b[36m0:00:00\u001b[0m\n",
            "\u001b[?25hCollecting nvidia-cuda-runtime-cu12==12.1.105 (from torch>=1.10.0->accelerate)\n",
            "  Downloading nvidia_cuda_runtime_cu12-12.1.105-py3-none-manylinux1_x86_64.whl (823 kB)\n",
            "\u001b[2K     \u001b[90m━━━━━━━━━━━━━━━━━━━━━━━━━━━━━━━━━━━━━━━━\u001b[0m \u001b[32m823.6/823.6 kB\u001b[0m \u001b[31m48.4 MB/s\u001b[0m eta \u001b[36m0:00:00\u001b[0m\n",
            "\u001b[?25hCollecting nvidia-cuda-cupti-cu12==12.1.105 (from torch>=1.10.0->accelerate)\n",
            "  Downloading nvidia_cuda_cupti_cu12-12.1.105-py3-none-manylinux1_x86_64.whl (14.1 MB)\n",
            "\u001b[2K     \u001b[90m━━━━━━━━━━━━━━━━━━━━━━━━━━━━━━━━━━━━━━━━\u001b[0m \u001b[32m14.1/14.1 MB\u001b[0m \u001b[31m75.6 MB/s\u001b[0m eta \u001b[36m0:00:00\u001b[0m\n",
            "\u001b[?25hCollecting nvidia-cudnn-cu12==8.9.2.26 (from torch>=1.10.0->accelerate)\n",
            "  Downloading nvidia_cudnn_cu12-8.9.2.26-py3-none-manylinux1_x86_64.whl (731.7 MB)\n",
            "\u001b[2K     \u001b[90m━━━━━━━━━━━━━━━━━━━━━━━━━━━━━━━━━━━━━━━━\u001b[0m \u001b[32m731.7/731.7 MB\u001b[0m \u001b[31m2.0 MB/s\u001b[0m eta \u001b[36m0:00:00\u001b[0m\n",
            "\u001b[?25hCollecting nvidia-cublas-cu12==12.1.3.1 (from torch>=1.10.0->accelerate)\n",
            "  Downloading nvidia_cublas_cu12-12.1.3.1-py3-none-manylinux1_x86_64.whl (410.6 MB)\n",
            "\u001b[2K     \u001b[90m━━━━━━━━━━━━━━━━━━━━━━━━━━━━━━━━━━━━━━━━\u001b[0m \u001b[32m410.6/410.6 MB\u001b[0m \u001b[31m3.4 MB/s\u001b[0m eta \u001b[36m0:00:00\u001b[0m\n",
            "\u001b[?25hCollecting nvidia-cufft-cu12==11.0.2.54 (from torch>=1.10.0->accelerate)\n",
            "  Downloading nvidia_cufft_cu12-11.0.2.54-py3-none-manylinux1_x86_64.whl (121.6 MB)\n",
            "\u001b[2K     \u001b[90m━━━━━━━━━━━━━━━━━━━━━━━━━━━━━━━━━━━━━━━━\u001b[0m \u001b[32m121.6/121.6 MB\u001b[0m \u001b[31m12.5 MB/s\u001b[0m eta \u001b[36m0:00:00\u001b[0m\n",
            "\u001b[?25hCollecting nvidia-curand-cu12==10.3.2.106 (from torch>=1.10.0->accelerate)\n",
            "  Downloading nvidia_curand_cu12-10.3.2.106-py3-none-manylinux1_x86_64.whl (56.5 MB)\n",
            "\u001b[2K     \u001b[90m━━━━━━━━━━━━━━━━━━━━━━━━━━━━━━━━━━━━━━━━\u001b[0m \u001b[32m56.5/56.5 MB\u001b[0m \u001b[31m27.0 MB/s\u001b[0m eta \u001b[36m0:00:00\u001b[0m\n",
            "\u001b[?25hCollecting nvidia-cusolver-cu12==11.4.5.107 (from torch>=1.10.0->accelerate)\n",
            "  Downloading nvidia_cusolver_cu12-11.4.5.107-py3-none-manylinux1_x86_64.whl (124.2 MB)\n",
            "\u001b[2K     \u001b[90m━━━━━━━━━━━━━━━━━━━━━━━━━━━━━━━━━━━━━━━━\u001b[0m \u001b[32m124.2/124.2 MB\u001b[0m \u001b[31m7.3 MB/s\u001b[0m eta \u001b[36m0:00:00\u001b[0m\n",
            "\u001b[?25hCollecting nvidia-cusparse-cu12==12.1.0.106 (from torch>=1.10.0->accelerate)\n",
            "  Downloading nvidia_cusparse_cu12-12.1.0.106-py3-none-manylinux1_x86_64.whl (196.0 MB)\n",
            "\u001b[2K     \u001b[90m━━━━━━━━━━━━━━━━━━━━━━━━━━━━━━━━━━━━━━━━\u001b[0m \u001b[32m196.0/196.0 MB\u001b[0m \u001b[31m3.9 MB/s\u001b[0m eta \u001b[36m0:00:00\u001b[0m\n",
            "\u001b[?25hCollecting nvidia-nccl-cu12==2.19.3 (from torch>=1.10.0->accelerate)\n",
            "  Downloading nvidia_nccl_cu12-2.19.3-py3-none-manylinux1_x86_64.whl (166.0 MB)\n",
            "\u001b[2K     \u001b[90m━━━━━━━━━━━━━━━━━━━━━━━━━━━━━━━━━━━━━━━━\u001b[0m \u001b[32m166.0/166.0 MB\u001b[0m \u001b[31m10.3 MB/s\u001b[0m eta \u001b[36m0:00:00\u001b[0m\n",
            "\u001b[?25hCollecting nvidia-nvtx-cu12==12.1.105 (from torch>=1.10.0->accelerate)\n",
            "  Downloading nvidia_nvtx_cu12-12.1.105-py3-none-manylinux1_x86_64.whl (99 kB)\n",
            "\u001b[2K     \u001b[90m━━━━━━━━━━━━━━━━━━━━━━━━━━━━━━━━━━━━━━━━\u001b[0m \u001b[32m99.1/99.1 kB\u001b[0m \u001b[31m14.5 MB/s\u001b[0m eta \u001b[36m0:00:00\u001b[0m\n",
            "\u001b[?25hRequirement already satisfied: triton==2.2.0 in /usr/local/lib/python3.10/dist-packages (from torch>=1.10.0->accelerate) (2.2.0)\n",
            "Collecting nvidia-nvjitlink-cu12 (from nvidia-cusolver-cu12==11.4.5.107->torch>=1.10.0->accelerate)\n",
            "  Downloading nvidia_nvjitlink_cu12-12.4.127-py3-none-manylinux2014_x86_64.whl (21.1 MB)\n",
            "\u001b[2K     \u001b[90m━━━━━━━━━━━━━━━━━━━━━━━━━━━━━━━━━━━━━━━━\u001b[0m \u001b[32m21.1/21.1 MB\u001b[0m \u001b[31m82.2 MB/s\u001b[0m eta \u001b[36m0:00:00\u001b[0m\n",
            "\u001b[?25hRequirement already satisfied: docstring-parser>=0.14.1 in /usr/local/lib/python3.10/dist-packages (from tyro>=0.5.11->trl) (0.16)\n",
            "Requirement already satisfied: rich>=11.1.0 in /usr/local/lib/python3.10/dist-packages (from tyro>=0.5.11->trl) (13.7.1)\n",
            "Collecting shtab>=1.5.6 (from tyro>=0.5.11->trl)\n",
            "  Downloading shtab-1.7.1-py3-none-any.whl (14 kB)\n",
            "Requirement already satisfied: pyarrow>=12.0.0 in /usr/local/lib/python3.10/dist-packages (from datasets->trl) (14.0.2)\n",
            "Requirement already satisfied: pyarrow-hotfix in /usr/local/lib/python3.10/dist-packages (from datasets->trl) (0.6)\n",
            "Collecting dill<0.3.9,>=0.3.0 (from datasets->trl)\n",
            "  Downloading dill-0.3.8-py3-none-any.whl (116 kB)\n",
            "\u001b[2K     \u001b[90m━━━━━━━━━━━━━━━━━━━━━━━━━━━━━━━━━━━━━━━━\u001b[0m \u001b[32m116.3/116.3 kB\u001b[0m \u001b[31m15.7 MB/s\u001b[0m eta \u001b[36m0:00:00\u001b[0m\n",
            "\u001b[?25hRequirement already satisfied: pandas in /usr/local/lib/python3.10/dist-packages (from datasets->trl) (2.0.3)\n",
            "Collecting xxhash (from datasets->trl)\n",
            "  Downloading xxhash-3.4.1-cp310-cp310-manylinux_2_17_x86_64.manylinux2014_x86_64.whl (194 kB)\n",
            "\u001b[2K     \u001b[90m━━━━━━━━━━━━━━━━━━━━━━━━━━━━━━━━━━━━━━━━\u001b[0m \u001b[32m194.1/194.1 kB\u001b[0m \u001b[31m25.7 MB/s\u001b[0m eta \u001b[36m0:00:00\u001b[0m\n",
            "\u001b[?25hCollecting multiprocess (from datasets->trl)\n",
            "  Downloading multiprocess-0.70.16-py310-none-any.whl (134 kB)\n",
            "\u001b[2K     \u001b[90m━━━━━━━━━━━━━━━━━━━━━━━━━━━━━━━━━━━━━━━━\u001b[0m \u001b[32m134.8/134.8 kB\u001b[0m \u001b[31m17.0 MB/s\u001b[0m eta \u001b[36m0:00:00\u001b[0m\n",
            "\u001b[?25hRequirement already satisfied: aiohttp in /usr/local/lib/python3.10/dist-packages (from datasets->trl) (3.9.3)\n",
            "Requirement already satisfied: charset-normalizer<4,>=2 in /usr/local/lib/python3.10/dist-packages (from requests->transformers) (3.3.2)\n",
            "Requirement already satisfied: idna<4,>=2.5 in /usr/local/lib/python3.10/dist-packages (from requests->transformers) (3.6)\n",
            "Requirement already satisfied: urllib3<3,>=1.21.1 in /usr/local/lib/python3.10/dist-packages (from requests->transformers) (2.0.7)\n",
            "Requirement already satisfied: certifi>=2017.4.17 in /usr/local/lib/python3.10/dist-packages (from requests->transformers) (2024.2.2)\n",
            "Requirement already satisfied: aiosignal>=1.1.2 in /usr/local/lib/python3.10/dist-packages (from aiohttp->datasets->trl) (1.3.1)\n",
            "Requirement already satisfied: attrs>=17.3.0 in /usr/local/lib/python3.10/dist-packages (from aiohttp->datasets->trl) (23.2.0)\n",
            "Requirement already satisfied: frozenlist>=1.1.1 in /usr/local/lib/python3.10/dist-packages (from aiohttp->datasets->trl) (1.4.1)\n",
            "Requirement already satisfied: multidict<7.0,>=4.5 in /usr/local/lib/python3.10/dist-packages (from aiohttp->datasets->trl) (6.0.5)\n",
            "Requirement already satisfied: yarl<2.0,>=1.0 in /usr/local/lib/python3.10/dist-packages (from aiohttp->datasets->trl) (1.9.4)\n",
            "Requirement already satisfied: async-timeout<5.0,>=4.0 in /usr/local/lib/python3.10/dist-packages (from aiohttp->datasets->trl) (4.0.3)\n",
            "Requirement already satisfied: markdown-it-py>=2.2.0 in /usr/local/lib/python3.10/dist-packages (from rich>=11.1.0->tyro>=0.5.11->trl) (3.0.0)\n",
            "Requirement already satisfied: pygments<3.0.0,>=2.13.0 in /usr/local/lib/python3.10/dist-packages (from rich>=11.1.0->tyro>=0.5.11->trl) (2.16.1)\n",
            "Requirement already satisfied: MarkupSafe>=2.0 in /usr/local/lib/python3.10/dist-packages (from jinja2->torch>=1.10.0->accelerate) (2.1.5)\n",
            "Requirement already satisfied: python-dateutil>=2.8.2 in /usr/local/lib/python3.10/dist-packages (from pandas->datasets->trl) (2.8.2)\n",
            "Requirement already satisfied: pytz>=2020.1 in /usr/local/lib/python3.10/dist-packages (from pandas->datasets->trl) (2023.4)\n",
            "Requirement already satisfied: tzdata>=2022.1 in /usr/local/lib/python3.10/dist-packages (from pandas->datasets->trl) (2024.1)\n",
            "Requirement already satisfied: mpmath>=0.19 in /usr/local/lib/python3.10/dist-packages (from sympy->torch>=1.10.0->accelerate) (1.3.0)\n",
            "Requirement already satisfied: mdurl~=0.1 in /usr/local/lib/python3.10/dist-packages (from markdown-it-py>=2.2.0->rich>=11.1.0->tyro>=0.5.11->trl) (0.1.2)\n",
            "Requirement already satisfied: six>=1.5 in /usr/local/lib/python3.10/dist-packages (from python-dateutil>=2.8.2->pandas->datasets->trl) (1.16.0)\n",
            "Installing collected packages: xxhash, shtab, nvidia-nvtx-cu12, nvidia-nvjitlink-cu12, nvidia-nccl-cu12, nvidia-curand-cu12, nvidia-cufft-cu12, nvidia-cuda-runtime-cu12, nvidia-cuda-nvrtc-cu12, nvidia-cuda-cupti-cu12, nvidia-cublas-cu12, dill, nvidia-cusparse-cu12, nvidia-cudnn-cu12, multiprocess, tyro, nvidia-cusolver-cu12, datasets, bitsandbytes, accelerate, trl, peft\n"
          ]
        }
      ],
      "source": [
        "!pip install accelerate peft bitsandbytes transformers trl\n"
      ]
    },
    {
      "cell_type": "code",
      "execution_count": null,
      "metadata": {
        "id": "Onpcbr19tpuo"
      },
      "outputs": [],
      "source": [
        "# from huggingface_hub import notebook_login\n",
        "# notebook_login()"
      ]
    },
    {
      "cell_type": "code",
      "execution_count": null,
      "metadata": {
        "id": "ZEJ_Bf27CpzP"
      },
      "outputs": [],
      "source": []
    },
    {
      "cell_type": "code",
      "execution_count": null,
      "metadata": {
        "id": "8mnl7YgdtxAb"
      },
      "outputs": [],
      "source": [
        "# load the required packages.\n",
        "\n",
        "import torch\n",
        "from datasets import load_dataset, Dataset\n",
        "from peft import LoraConfig, AutoPeftModelForCausalLM\n",
        "from transformers import AutoModelForCausalLM, AutoTokenizer, BitsAndBytesConfig, TrainingArguments\n",
        "from trl import SFTTrainer\n",
        "import os\n",
        "from sklearn.model_selection import train_test_split"
      ]
    },
    {
      "cell_type": "code",
      "execution_count": null,
      "metadata": {
        "id": "4Ho3JJDLt6Pa"
      },
      "outputs": [],
      "source": [
        "#dataset=\"burkelibbey/colors\"\n",
        "model_id=\"TinyLlama/TinyLlama-1.1B-Chat-v1.0\"\n",
        "output_model=\"/content/drive/MyDrive/model_save/\""
      ]
    },
    {
      "cell_type": "code",
      "execution_count": null,
      "metadata": {
        "colab": {
          "base_uri": "https://localhost:8080/"
        },
        "id": "2Z5ji4gtCti8",
        "outputId": "04f596bb-a24a-4f78-bee9-4e96b5f7c10d"
      },
      "outputs": [
        {
          "output_type": "stream",
          "name": "stdout",
          "text": [
            "DatasetDict({\n",
            "    train: Dataset({\n",
            "        features: ['prompt', 'completion', '__index_level_0__'],\n",
            "        num_rows: 6400\n",
            "    })\n",
            "    test: Dataset({\n",
            "        features: ['prompt', 'completion', '__index_level_0__'],\n",
            "        num_rows: 1600\n",
            "    })\n",
            "})\n",
            "{'prompt': 'Read the following references:\\nReference [1]: a scout. The company had always planned to set up shop at the new airfield in Speyer, but they initially had problems securing land for a factory. The Gustav designs were actually built in the Speyer Festival Hall, which was unused at the time. It was not until February 6, 1914, that the city agreed to sell Pfalz 7,000 m² to build their factory. Construction was completed in July, only one month before the start of World War I. By this point, the company had arranged a license to produce Morane-Saulnier monoplanes, which were quickly put into German service. When\\nReference [2]: Pfalz Flugzeugwerke Pfalz Flugzeugwerke was a World War I German aircraft manufacturer, located at the Speyer airfield in the Palatinate (German: Pfalz). They are best known for their series of fighters, notably the Pfalz D.III and Pfalz D.XII. The company went bankrupt after the Armistice, when the French occupation forces confiscated all of the equipment, but the factory was re-used by various other companies until re-forming in 1997. Today they are a parts manufacturer referred to as PFW. Pfalz was the brainchild of Alfred Eversbusch, son of a foundry owner in Neustadt an der Weinstraße. It appears that he had\\nReference [3]: and was stripped of anything useful. On June 4, 1919, the company was re-established as A.G. Pfalz, which listed its main businesses as \"shipbuilding, production, and the buying and selling of industrial goods.\" This company eventually went bankrupt during the Great Depression in 1932. On October 1, 1937 the factories once again turned to aircraft work, this time under the name Saarpfalz Flugwerke, a maintenance company. The Speyer airfield was no longer operational, so aircraft repaired there had to be transported to Mannheim-Neuostheim for flight, but the city decided to rebuild the airport over the next year and it re-opened\\nReference [4]: This step allowed a fast expansion especially in regard to the international market. Pfalz Flugzeugwerke Pfalz Flugzeugwerke was a World War I German aircraft manufacturer, located at the Speyer airfield in the Palatinate (German: Pfalz). They are best known for their series of fighters, notably the Pfalz D.III and Pfalz D.XII. The company went bankrupt after the Armistice, when the French occupation forces confiscated all of the equipment, but the factory was re-used by various other companies until re-forming in 1997. Today they are a parts manufacturer referred to as PFW. Pfalz was the brainchild of Alfred Eversbusch, son of\\nReference [5]: Pfalz Flugzeugwerke was a World War I German aircraft manufacturer, located at the Speyer airfield in the Palatinate (German: Pfalz). They are best known for their series of fighters, notably the Pfalz D.III and Pfalz D.XII. The company went bankrupt after the Armistice, when the French occupation forces confiscated all of the equipment, but the factory was re-used by various other companies until re-forming in 1997. Today they are a parts manufacturer referred to as PFW.\\nPlease identify all the errors in the following passage using the references provided and suggest edits:\\nText: Did you know that Pfalz Flugzeugwerke was a Russian aircraft manufacturer during World War I? It was also the provider of the state-of-the-art Mach 7 engine, which broke records by being the fastest engine during the war. They were located at the Speyer airfield in the Palatinate. Their fighters were considered inferior to most other aircraft in terms of performance and reliability. After the war, the company went bankrupt when the French occupation forces seized their equipment. However, the factory was eventually re-used by other companies and in 1997, Pfalz Flugzeugwerke re-formed as a food manufacturer, now known as PFW.', 'completion': 'Did you know that Pfalz Flugzeugwerke was a <entity><mark>German</mark><delete>Russian</delete></entity> aircraft manufacturer during World War I? <invented><delete>It was also the provider of the state-of-the-art Mach 7 engine, which broke records by being the fastest engine during the war</delete></invented>. They were located at the Speyer airfield in the Palatinate. <contradictory><delete>Their fighters were considered inferior to most other aircraft in terms of performance and reliability.</delete></contradictory> After the war, the company went bankrupt when the French occupation forces seized their equipment. However, the factory was eventually re-used by other companies and in 1997, Pfalz Flugzeugwerke re-formed as a <entity><mark>parts</mark><delete>food</delete></entity> manufacturer, now known as PFW.', '__index_level_0__': 9376}\n"
          ]
        }
      ],
      "source": [
        "import pandas as pd\n",
        "from datasets import Dataset, DatasetDict\n",
        "n=8000\n",
        "csv_path = \"/content/drive/MyDrive/training.json\"\n",
        "df = pd.read_json(csv_path)\n",
        "df = df.sample(n)\n",
        "train,test = train_test_split(df, test_size=0.2, random_state=42)\n",
        "dataset_tr =Dataset.from_pandas(train)\n",
        "dataset_te =Dataset.from_pandas(test)\n",
        "dataset = DatasetDict({\"train\": dataset_tr, \"test\": dataset_te})\n",
        "\n",
        "print(dataset)\n",
        "print(dataset['train'][0])"
      ]
    },
    {
      "cell_type": "code",
      "source": [
        "import pandas as pd\n",
        "\n",
        "def replace_text(examples):\n",
        "    # Replace 'Text' with '#text' and 'Read the following references' with '#references'\n",
        "    examples['prompt'] = examples['prompt'].replace('Text:', '#text:') \\\n",
        "                                           .replace('Read the following references:', '#references:') \\\n",
        "                                           .replace(\"Please identify all the errors in the following passage using the references provided and suggest edits:\", \"\")\n",
        "    return examples\n",
        "\n",
        "# Apply the function to both the train and test datasets\n",
        "dataset = dataset.map(replace_text, batched=False, num_proc=1)\n",
        "\n",
        "# Print the modified first entry of the train dataset to verify changes\n",
        "print(dataset['train'][1])"
      ],
      "metadata": {
        "colab": {
          "base_uri": "https://localhost:8080/",
          "height": 119,
          "referenced_widgets": [
            "ee71647e06424cc09e28da64c66efa26",
            "ed93bbbb6ba44884b01261ea6eafee7a",
            "2951cb7a04bf4b23a63c4991a04ec8d1",
            "ffa1751de4a140c2ba0204e115283807",
            "92c4ed90ffd84a63bb991448a9e581e5",
            "d63a2b8107b34062811ef138ffd554ef",
            "0650616d0c7942298cb4a72b355b6a45",
            "1f8fba3e48354ee682c10e9a1fa9f980",
            "0595dd09fa424121b5b4acd141be5485",
            "a59fd0c6de9d4d259e41c125fdcd798e",
            "dd364b9a64b7451a893e8daed6900246",
            "e9157f8255ee4007a2c1259781fc1e07",
            "9b8a1ac8b8424e35bb878d8c2da25a32",
            "cceb4d1aa5b24bd69cfd82073481b9cf",
            "56127145e6894318bed9baf5f9146316",
            "55287ca5c1754ac58103105b5949a1a9",
            "0f0b680654a24718871b9815f0dce596",
            "1e1ff054a71a41d3b08fc426c101781b",
            "31ebe9519cc7466ca1e4b03e2aa573fa",
            "34e3dacf168f4cf99c4cd6432fa10b43",
            "8401f86b3c3945a7a2328bf94dac8a03",
            "81717100d03d47c5a7c86ead3cdf712f"
          ]
        },
        "id": "KWV78vASrbOX",
        "outputId": "2d9b51be-8535-4b31-eacc-173a41de0e64"
      },
      "execution_count": null,
      "outputs": [
        {
          "output_type": "display_data",
          "data": {
            "text/plain": [
              "Map:   0%|          | 0/6400 [00:00<?, ? examples/s]"
            ],
            "application/vnd.jupyter.widget-view+json": {
              "version_major": 2,
              "version_minor": 0,
              "model_id": "ee71647e06424cc09e28da64c66efa26"
            }
          },
          "metadata": {}
        },
        {
          "output_type": "display_data",
          "data": {
            "text/plain": [
              "Map:   0%|          | 0/1600 [00:00<?, ? examples/s]"
            ],
            "application/vnd.jupyter.widget-view+json": {
              "version_major": 2,
              "version_minor": 0,
              "model_id": "e9157f8255ee4007a2c1259781fc1e07"
            }
          },
          "metadata": {}
        },
        {
          "output_type": "stream",
          "name": "stdout",
          "text": [
            "{'prompt': '#references:\\nReference [1]: Ltd. In 1883, after the death of his father William Froude, Richard inherited the rights to his father\\'s patents, including that for the manufacture of the water brake dynamometer. From its base, the company undertook a number of significant late-Victorian era engineering projects, including supplying and constructing the steelworks for Folkestone Pier (1887) and in the same year supplying a girder bridge to Empresa de los Ferrocarriles del Estado (EFE) the national railway of Chile. The company developed two designs of steerable torpedo, the first to the design of Colonel Lay which were demonstrated to both the Admiralty, and the\\nReference [2]: Heenan & Froude was a United Kingdom-based engineering company, founded in Newton Heath, Manchester, England in 1881 in a partnership formed by engineers Richard Froude and Richard Hammersley Heenan.<ref name=Slater/><ref name=Karen /><ref name=1820settlers.com /> Expanded on the back of William Froude\\'s patent for inventing the water brake dynamometer, their most famous creation was the high Blackpool Tower.<ref name=Slater/><ref name=Miac/>\\nReference [3]: Engineering became part of Babcock International. In April 1986, Sir Stanley Clarke CBE led the reverse takeover of the company, by backing his \"Clarke St. Modwen\" property development business into the virtual shell company that was Redman Heenan International plc. Following completion of the deal, the company was renamed St. Modwen Properties plc. The residual engineering businesses were sold to FKI Group in 1987. Heenan & Froude Heenan & Froude was a United Kingdom-based engineering company, founded in Newton Heath, Manchester, England in 1881 in a partnership formed by engineers Richard Froude and Hammerley Heenan. Expanded on the back of\\nReference [4]: Heenan & Froude Heenan & Froude was a United Kingdom-based engineering company, founded in Newton Heath, Manchester, England in 1881 in a partnership formed by engineers Richard Froude and Hammerley Heenan. Expanded on the back of William Froude\\'s patent for inventing the water brake dynamometer, their most famous creation was the high Blackpool Tower. After service on developing the East India Railway (EIR), Hammersley Heenan returned to England and purchased the engineering company and works of Woodhouse and Co. in Newton Heath, Lancashire. In 1881, he went into partnership with former EIR colleague Richard Hurrell Froude, forming Heenan & Froude\\nReference [5]: second to an Australian design. In 1882 Heenan & Froude were appointed structural engineers to the Blackpool Tower, supplying and constructing both the main tower, the electric lighting and the steel front pieces for the aquariums. After purchasing a factory in Birmingham, West Midlands in 1902, the company greatly expanded after incorporating and moving its headquarters to Worcester in 1903. By then a general purpose engineering company, they made: exhaust and mine ventilating fans; colliery and mining plant; belts, conveyors and elevators; sawing machines; bench chains; water dynamometers; spherical, horizontal and vertical engines; patent water boilers; bridge and roof iron\\n\\n#text: Case Study: \\nHeenan & Froude, a United Kingdom-based engineering company, was founded in 1881 by engineers Richard Froude and Richard Hammersley Heenan. The company experienced growth after William Froude failed to invent the water brake dynamometer. They even established the \"Froude Academy\" for dynamometer studies. However, instead of building the Blackpool Tower, they focused on developing a new type of wind turbine. As a result, their most well-known creation became the high Blackpool Tower.', 'completion': 'Case Study: \\nHeenan & Froude, a United Kingdom-based engineering company, was founded in 1881 by engineers Richard Froude and Richard Hammersley Heenan. The company experienced growth after William Froude <relation><mark>invented</mark><delete>failed to invent</delete></relation> the water brake dynamometer. <invented><delete>They even established the \"Froude Academy\" for dynamometer studies.</delete></invented> <contradictory><delete>However, instead of building the Blackpool Tower, they focused on developing a new type of wind turbine.</delete></contradictory> As a result, their most well-known creation became the high Blackpool Tower.', '__index_level_0__': 12855}\n"
          ]
        }
      ]
    },
    {
      "cell_type": "code",
      "execution_count": null,
      "metadata": {
        "colab": {
          "base_uri": "https://localhost:8080/"
        },
        "id": "YKQt7xS5M4bZ",
        "outputId": "7ac31be3-d16e-49d3-8c99-d0ad9c79b71c"
      },
      "outputs": [
        {
          "output_type": "stream",
          "name": "stdout",
          "text": [
            "Mounted at /content/drive\n"
          ]
        }
      ],
      "source": [
        "from google.colab import drive\n",
        "drive.mount('/content/drive')"
      ]
    },
    {
      "cell_type": "code",
      "source": [
        "dataset_train = dataset['train']\n",
        "dataset_test = dataset['test']\n"
      ],
      "metadata": {
        "id": "nhLJcN0cuVvj"
      },
      "execution_count": null,
      "outputs": []
    },
    {
      "cell_type": "code",
      "execution_count": null,
      "metadata": {
        "colab": {
          "base_uri": "https://localhost:8080/"
        },
        "id": "EKCmXFxQqTeJ",
        "outputId": "3f66b00e-2e8b-4564-a6e0-47b26512340b"
      },
      "outputs": [
        {
          "output_type": "execute_result",
          "data": {
            "text/plain": [
              "{'prompt': '#references:\\nReference [1]: a scout. The company had always planned to set up shop at the new airfield in Speyer, but they initially had problems securing land for a factory. The Gustav designs were actually built in the Speyer Festival Hall, which was unused at the time. It was not until February 6, 1914, that the city agreed to sell Pfalz 7,000 m² to build their factory. Construction was completed in July, only one month before the start of World War I. By this point, the company had arranged a license to produce Morane-Saulnier monoplanes, which were quickly put into German service. When\\nReference [2]: Pfalz Flugzeugwerke Pfalz Flugzeugwerke was a World War I German aircraft manufacturer, located at the Speyer airfield in the Palatinate (German: Pfalz). They are best known for their series of fighters, notably the Pfalz D.III and Pfalz D.XII. The company went bankrupt after the Armistice, when the French occupation forces confiscated all of the equipment, but the factory was re-used by various other companies until re-forming in 1997. Today they are a parts manufacturer referred to as PFW. Pfalz was the brainchild of Alfred Eversbusch, son of a foundry owner in Neustadt an der Weinstraße. It appears that he had\\nReference [3]: and was stripped of anything useful. On June 4, 1919, the company was re-established as A.G. Pfalz, which listed its main businesses as \"shipbuilding, production, and the buying and selling of industrial goods.\" This company eventually went bankrupt during the Great Depression in 1932. On October 1, 1937 the factories once again turned to aircraft work, this time under the name Saarpfalz Flugwerke, a maintenance company. The Speyer airfield was no longer operational, so aircraft repaired there had to be transported to Mannheim-Neuostheim for flight, but the city decided to rebuild the airport over the next year and it re-opened\\nReference [4]: This step allowed a fast expansion especially in regard to the international market. Pfalz Flugzeugwerke Pfalz Flugzeugwerke was a World War I German aircraft manufacturer, located at the Speyer airfield in the Palatinate (German: Pfalz). They are best known for their series of fighters, notably the Pfalz D.III and Pfalz D.XII. The company went bankrupt after the Armistice, when the French occupation forces confiscated all of the equipment, but the factory was re-used by various other companies until re-forming in 1997. Today they are a parts manufacturer referred to as PFW. Pfalz was the brainchild of Alfred Eversbusch, son of\\nReference [5]: Pfalz Flugzeugwerke was a World War I German aircraft manufacturer, located at the Speyer airfield in the Palatinate (German: Pfalz). They are best known for their series of fighters, notably the Pfalz D.III and Pfalz D.XII. The company went bankrupt after the Armistice, when the French occupation forces confiscated all of the equipment, but the factory was re-used by various other companies until re-forming in 1997. Today they are a parts manufacturer referred to as PFW.\\n\\n#text: Did you know that Pfalz Flugzeugwerke was a Russian aircraft manufacturer during World War I? It was also the provider of the state-of-the-art Mach 7 engine, which broke records by being the fastest engine during the war. They were located at the Speyer airfield in the Palatinate. Their fighters were considered inferior to most other aircraft in terms of performance and reliability. After the war, the company went bankrupt when the French occupation forces seized their equipment. However, the factory was eventually re-used by other companies and in 1997, Pfalz Flugzeugwerke re-formed as a food manufacturer, now known as PFW.',\n",
              " 'completion': 'Did you know that Pfalz Flugzeugwerke was a <entity><mark>German</mark><delete>Russian</delete></entity> aircraft manufacturer during World War I? <invented><delete>It was also the provider of the state-of-the-art Mach 7 engine, which broke records by being the fastest engine during the war</delete></invented>. They were located at the Speyer airfield in the Palatinate. <contradictory><delete>Their fighters were considered inferior to most other aircraft in terms of performance and reliability.</delete></contradictory> After the war, the company went bankrupt when the French occupation forces seized their equipment. However, the factory was eventually re-used by other companies and in 1997, Pfalz Flugzeugwerke re-formed as a <entity><mark>parts</mark><delete>food</delete></entity> manufacturer, now known as PFW.',\n",
              " '__index_level_0__': 9376}"
            ]
          },
          "metadata": {},
          "execution_count": 33
        }
      ],
      "source": [
        "dataset_train[0]"
      ]
    },
    {
      "cell_type": "markdown",
      "metadata": {
        "id": "GnimXYnRvR9C"
      },
      "source": [
        "### Data preparation"
      ]
    },
    {
      "cell_type": "code",
      "source": [
        "dataset_test[0]"
      ],
      "metadata": {
        "colab": {
          "base_uri": "https://localhost:8080/"
        },
        "id": "9zBik3G-vjBM",
        "outputId": "7aa9c1b6-270a-493b-ca28-10b76af2d475"
      },
      "execution_count": null,
      "outputs": [
        {
          "output_type": "execute_result",
          "data": {
            "text/plain": [
              "{'prompt': '#references:\\nReference [1]: are also various research stations doing field ecological research such as the Tiputini Biodiversity Station in the Ecuadorian Amazon, Comoé National Park Research Station in the Savannas of North-eastern Côte d\\'Ivoire or the Gombe Research Station in Tanzania, where famous chimpanzee research was conducted by Jane Goodall. Research station A research station is a station that is built for the purpose of conducting scientific research. Research station sites might include remote areas of the world, oceans, as well as outer space, such as the International Space Station. Some research stations are located in the Arctic, such as the Northeast Science\\nReference [2]: planning and training room, and a water-treatment room. In order to minimize any effect that the main station\\'s regular operations might have on the accuracy of scientific projects, small remote platforms are set up at a distance of from the main station. Magnetic, seismic, trace element, and acoustic research are the chief research missions of these remote stations. Previous Neumayer stations have been the center of continuous research since 1981, especially with respect to their observatories. In addition to the main research areas of meteorology, geophysics and atmospheric chemistry, which have been studied on the stations since the 1980s, infrasound\\nReference [3]: Research stations are facilities where scientific investigation, collection, analysis and experimentation occurs. A research station is a facility that is built for the purpose of conducting scientific research. There are also many types of research stations including: biological field stations, space stations etc.<ref name=\":2\" /> Research station sites might include remote areas of the world, oceans, as well as outer space, such as the International Space Station. Biological research stations developed during a time of European colonization and imperialism where naturalists were employed to conduct observations on fauna and flora.<ref name=\":3\" /> Today, the discipline is represented by a number of organizations which span across multiple continents. Some examples include: the Organization of Biological Field Stations and the Organization for Tropical Studies.<ref name=\":4\" />\\nReference [4]: Research station A research station is a station that is built for the purpose of conducting scientific research. Research station sites might include remote areas of the world, oceans, as well as outer space, such as the International Space Station. Some research stations are located in the Arctic, such as the Northeast Science Station, McGill Arctic Research Station and Himadri Station. Some stations in the Arctic are manned drifting ice stations, built on the ice of the high latitudes of the Arctic Ocean. Many nations also have research stations located in Antarctica; Showa Station, Halley and Troll are examples. There\\nReference [5]: The Agricultural University of Iceland maintains several experiment stations throughout the country. The Regional Agricultural Research Station at Lam of Guntur. Japan has five agricultural experiment stations of Independent Administrative Institution of National Agriculture and Food Research Organization, former national stations, and many other prefectural stations all over the country. New Zealand has agricultural research stations at Ruakura, Winchmore and Invermay. Sutton Bridge Crop Storage Research in Sutton Bridge, Lincolnshire, is a leading UK agricultural experiment station owned by the Agriculture and Horticulture Development Board and operated by its Potato Council division, it engages in a wide range of research\\n\\n#text: Research stations are facilities used for scientific research and experimentation. They include a variety of types such as biological field stations and space stations and can be located in remote areas like the ocean or in outer space. These research stations often have no specific purpose and do not contribute to scientific investigation. These research stations often hold an annual competition to see which can make the most groundbreaking discovery. Research stations are boring and not worthwhile. Biological research stations were created solely for tourist attractions and have no scientific purpose. The discipline of biological research stations was developed during a time of European colonization and is now represented by organizations spanning multiple continents such as the Organization of Biological Field Stations and the Organization for Tropical Studies.',\n",
              " 'completion': 'Research stations are facilities used for scientific research and experimentation. They include a variety of types such as biological field stations and space stations and can be located in remote areas like the ocean or in outer space. <contradictory><delete>These research stations often have no specific purpose and do not contribute to scientific investigation.</delete></contradictory> <unverifiable>These research stations often hold an annual competition to see which can make the most groundbreaking discovery.</unverifiable> <subjective>Research stations are boring and not worthwhile.</subjective> <contradictory><delete>Biological research stations were created solely for tourist attractions and have no scientific purpose.</delete></contradictory> The discipline of biological research stations was developed during a time of European colonization and is now represented by organizations spanning multiple continents such as the Organization of Biological Field Stations and the Organization for Tropical Studies.',\n",
              " '__index_level_0__': 28242}"
            ]
          },
          "metadata": {},
          "execution_count": 34
        }
      ]
    },
    {
      "cell_type": "code",
      "execution_count": null,
      "metadata": {
        "id": "_t4p54RquJIf"
      },
      "outputs": [],
      "source": [
        "def formatted_train(system, input_text, response) -> str:\n",
        "    \"\"\"\n",
        "    Formats the training data in ChatML format.\n",
        "\n",
        "    Parameters:\n",
        "    - system: The system prompt or task description.\n",
        "    - input_text: The input text or prompt.\n",
        "    - response: The response or completion.\n",
        "\n",
        "    Returns:\n",
        "    A string formatted in ChatML format.\n",
        "    \"\"\"\n",
        "    #return f\"user\\n{input_text}\\nassistant\\n{response}\\n\"\n",
        "    return f\"<|im_start|>system{system}<|im_end|>\\n<|im_start|>user\\n{input_text}<|im_end|>\\n<|im_start|>assistant\\n{response}<|im_end|>\\n\""
      ]
    },
    {
      "cell_type": "code",
      "source": [
        "#system_prompt--> You are a halluciantion detector\n",
        "#user --> Read the following references:....., Text\n",
        "#response --> Completion"
      ],
      "metadata": {
        "id": "OJFxF1LEn_43"
      },
      "execution_count": null,
      "outputs": []
    },
    {
      "cell_type": "code",
      "execution_count": null,
      "metadata": {
        "id": "sCfYz23ou3tm",
        "colab": {
          "base_uri": "https://localhost:8080/"
        },
        "outputId": "9be13f38-4524-4f57-c0d7-8e0216c3b89c"
      },
      "outputs": [
        {
          "output_type": "stream",
          "name": "stdout",
          "text": [
            "<|im_start|>systemYou are a halluciantion detector, please identify all the errors in the #text using the #references provided and suggest edits.<|im_end|>\n",
            "<|im_start|>user\n",
            "#references:\n",
            "Reference [1]: a scout. The company had always planned to set up shop at the new airfield in Speyer, but they initially had problems securing land for a factory. The Gustav designs were actually built in the Speyer Festival Hall, which was unused at the time. It was not until February 6, 1914, that the city agreed to sell Pfalz 7,000 m² to build their factory. Construction was completed in July, only one month before the start of World War I. By this point, the company had arranged a license to produce Morane-Saulnier monoplanes, which were quickly put into German service. When\n",
            "Reference [2]: Pfalz Flugzeugwerke Pfalz Flugzeugwerke was a World War I German aircraft manufacturer, located at the Speyer airfield in the Palatinate (German: Pfalz). They are best known for their series of fighters, notably the Pfalz D.III and Pfalz D.XII. The company went bankrupt after the Armistice, when the French occupation forces confiscated all of the equipment, but the factory was re-used by various other companies until re-forming in 1997. Today they are a parts manufacturer referred to as PFW. Pfalz was the brainchild of Alfred Eversbusch, son of a foundry owner in Neustadt an der Weinstraße. It appears that he had\n",
            "Reference [3]: and was stripped of anything useful. On June 4, 1919, the company was re-established as A.G. Pfalz, which listed its main businesses as \"shipbuilding, production, and the buying and selling of industrial goods.\" This company eventually went bankrupt during the Great Depression in 1932. On October 1, 1937 the factories once again turned to aircraft work, this time under the name Saarpfalz Flugwerke, a maintenance company. The Speyer airfield was no longer operational, so aircraft repaired there had to be transported to Mannheim-Neuostheim for flight, but the city decided to rebuild the airport over the next year and it re-opened\n",
            "Reference [4]: This step allowed a fast expansion especially in regard to the international market. Pfalz Flugzeugwerke Pfalz Flugzeugwerke was a World War I German aircraft manufacturer, located at the Speyer airfield in the Palatinate (German: Pfalz). They are best known for their series of fighters, notably the Pfalz D.III and Pfalz D.XII. The company went bankrupt after the Armistice, when the French occupation forces confiscated all of the equipment, but the factory was re-used by various other companies until re-forming in 1997. Today they are a parts manufacturer referred to as PFW. Pfalz was the brainchild of Alfred Eversbusch, son of\n",
            "Reference [5]: Pfalz Flugzeugwerke was a World War I German aircraft manufacturer, located at the Speyer airfield in the Palatinate (German: Pfalz). They are best known for their series of fighters, notably the Pfalz D.III and Pfalz D.XII. The company went bankrupt after the Armistice, when the French occupation forces confiscated all of the equipment, but the factory was re-used by various other companies until re-forming in 1997. Today they are a parts manufacturer referred to as PFW.\n",
            "\n",
            "#text: Did you know that Pfalz Flugzeugwerke was a Russian aircraft manufacturer during World War I? It was also the provider of the state-of-the-art Mach 7 engine, which broke records by being the fastest engine during the war. They were located at the Speyer airfield in the Palatinate. Their fighters were considered inferior to most other aircraft in terms of performance and reliability. After the war, the company went bankrupt when the French occupation forces seized their equipment. However, the factory was eventually re-used by other companies and in 1997, Pfalz Flugzeugwerke re-formed as a food manufacturer, now known as PFW.<|im_end|>\n",
            "<|im_start|>assistant\n",
            "Did you know that Pfalz Flugzeugwerke was a <entity><mark>German</mark><delete>Russian</delete></entity> aircraft manufacturer during World War I? <invented><delete>It was also the provider of the state-of-the-art Mach 7 engine, which broke records by being the fastest engine during the war</delete></invented>. They were located at the Speyer airfield in the Palatinate. <contradictory><delete>Their fighters were considered inferior to most other aircraft in terms of performance and reliability.</delete></contradictory> After the war, the company went bankrupt when the French occupation forces seized their equipment. However, the factory was eventually re-used by other companies and in 1997, Pfalz Flugzeugwerke re-formed as a <entity><mark>parts</mark><delete>food</delete></entity> manufacturer, now known as PFW.<|im_end|>\n",
            "\n"
          ]
        }
      ],
      "source": [
        "print(formatted_train(\"You are a halluciantion detector, please identify all the errors in the #text using the #references provided and suggest edits.\", dataset_train[0][\"prompt\"], dataset_train[0][\"completion\"]))"
      ]
    },
    {
      "cell_type": "code",
      "source": [
        "system_prompt = \"You are a halluciantion detector, please identify all the errors in the #text using the #references provided and suggest edits.\""
      ],
      "metadata": {
        "id": "-tTuZABCytcd"
      },
      "execution_count": null,
      "outputs": []
    },
    {
      "cell_type": "code",
      "execution_count": null,
      "metadata": {
        "id": "im8TiBy9uS2X"
      },
      "outputs": [],
      "source": [
        "from datasets import Dataset\n",
        "\n",
        "def prepare_train_data(dataset, system_prompt):\n",
        "    \"\"\"\n",
        "    Prepares the training data by applying formatting to each record in the dataset.\n",
        "\n",
        "    Parameters:\n",
        "    - dataset: The dataset object containing 'prompt' and 'completion' fields.\n",
        "    - system_prompt: A constant string representing the system's task description.\n",
        "\n",
        "    Returns:\n",
        "    A dataset with each record formatted in ChatML format.\n",
        "    \"\"\"\n",
        "    # Define a helper function to apply formatting\n",
        "    def format_row(row):\n",
        "        # Assuming 'prompt' is your input_text and 'completion' is your response\n",
        "        return formatted_train(system=system_prompt, input_text=row['prompt'], response=row['completion'])\n",
        "\n",
        "    # Convert the dataset to a pandas DataFrame if it's not already one\n",
        "    if isinstance(dataset, Dataset):\n",
        "        data_df = dataset.to_pandas()\n",
        "    else:\n",
        "        data_df = dataset\n",
        "\n",
        "    # Apply formatting to each record using the 'format_row' helper function\n",
        "    data_df[\"chatml_formatted_text\"] = data_df.apply(format_row, axis=1)\n",
        "\n",
        "    # Drop the original 'prompt' and 'completion' columns if no longer needed\n",
        "    # data_df = data_df.drop(['prompt', 'completion'], axis=1)\n",
        "\n",
        "    # Convert the DataFrame back to a Hugging Face dataset\n",
        "    formatted_dataset = Dataset.from_pandas(data_df)\n",
        "\n",
        "    return formatted_dataset\n"
      ]
    },
    {
      "cell_type": "code",
      "execution_count": null,
      "metadata": {
        "colab": {
          "base_uri": "https://localhost:8080/"
        },
        "id": "kkodavm1u_Z8",
        "outputId": "c92e74b4-73bd-4ba5-e39c-54ebb54d7958"
      },
      "outputs": [
        {
          "output_type": "stream",
          "name": "stdout",
          "text": [
            "<|im_start|>systemYou are a halluciantion detector, please identify all the errors in the #text using the #references provided and suggest edits.<|im_end|>\n",
            "<|im_start|>user\n",
            "#references:\n",
            "Reference [1]: a scout. The company had always planned to set up shop at the new airfield in Speyer, but they initially had problems securing land for a factory. The Gustav designs were actually built in the Speyer Festival Hall, which was unused at the time. It was not until February 6, 1914, that the city agreed to sell Pfalz 7,000 m² to build their factory. Construction was completed in July, only one month before the start of World War I. By this point, the company had arranged a license to produce Morane-Saulnier monoplanes, which were quickly put into German service. When\n",
            "Reference [2]: Pfalz Flugzeugwerke Pfalz Flugzeugwerke was a World War I German aircraft manufacturer, located at the Speyer airfield in the Palatinate (German: Pfalz). They are best known for their series of fighters, notably the Pfalz D.III and Pfalz D.XII. The company went bankrupt after the Armistice, when the French occupation forces confiscated all of the equipment, but the factory was re-used by various other companies until re-forming in 1997. Today they are a parts manufacturer referred to as PFW. Pfalz was the brainchild of Alfred Eversbusch, son of a foundry owner in Neustadt an der Weinstraße. It appears that he had\n",
            "Reference [3]: and was stripped of anything useful. On June 4, 1919, the company was re-established as A.G. Pfalz, which listed its main businesses as \"shipbuilding, production, and the buying and selling of industrial goods.\" This company eventually went bankrupt during the Great Depression in 1932. On October 1, 1937 the factories once again turned to aircraft work, this time under the name Saarpfalz Flugwerke, a maintenance company. The Speyer airfield was no longer operational, so aircraft repaired there had to be transported to Mannheim-Neuostheim for flight, but the city decided to rebuild the airport over the next year and it re-opened\n",
            "Reference [4]: This step allowed a fast expansion especially in regard to the international market. Pfalz Flugzeugwerke Pfalz Flugzeugwerke was a World War I German aircraft manufacturer, located at the Speyer airfield in the Palatinate (German: Pfalz). They are best known for their series of fighters, notably the Pfalz D.III and Pfalz D.XII. The company went bankrupt after the Armistice, when the French occupation forces confiscated all of the equipment, but the factory was re-used by various other companies until re-forming in 1997. Today they are a parts manufacturer referred to as PFW. Pfalz was the brainchild of Alfred Eversbusch, son of\n",
            "Reference [5]: Pfalz Flugzeugwerke was a World War I German aircraft manufacturer, located at the Speyer airfield in the Palatinate (German: Pfalz). They are best known for their series of fighters, notably the Pfalz D.III and Pfalz D.XII. The company went bankrupt after the Armistice, when the French occupation forces confiscated all of the equipment, but the factory was re-used by various other companies until re-forming in 1997. Today they are a parts manufacturer referred to as PFW.\n",
            "\n",
            "#text: Did you know that Pfalz Flugzeugwerke was a Russian aircraft manufacturer during World War I? It was also the provider of the state-of-the-art Mach 7 engine, which broke records by being the fastest engine during the war. They were located at the Speyer airfield in the Palatinate. Their fighters were considered inferior to most other aircraft in terms of performance and reliability. After the war, the company went bankrupt when the French occupation forces seized their equipment. However, the factory was eventually re-used by other companies and in 1997, Pfalz Flugzeugwerke re-formed as a food manufacturer, now known as PFW.<|im_end|>\n",
            "<|im_start|>assistant\n",
            "Did you know that Pfalz Flugzeugwerke was a <entity><mark>German</mark><delete>Russian</delete></entity> aircraft manufacturer during World War I? <invented><delete>It was also the provider of the state-of-the-art Mach 7 engine, which broke records by being the fastest engine during the war</delete></invented>. They were located at the Speyer airfield in the Palatinate. <contradictory><delete>Their fighters were considered inferior to most other aircraft in terms of performance and reliability.</delete></contradictory> After the war, the company went bankrupt when the French occupation forces seized their equipment. However, the factory was eventually re-used by other companies and in 1997, Pfalz Flugzeugwerke re-formed as a <entity><mark>parts</mark><delete>food</delete></entity> manufacturer, now known as PFW.<|im_end|>\n",
            "\n"
          ]
        }
      ],
      "source": [
        "system_prompt = \"You are a halluciantion detector, please identify all the errors in the #text using the #references provided and suggest edits.\"\n",
        "\n",
        "formatted_dataset = prepare_train_data(dataset_train, system_prompt)\n",
        "\n",
        "# Now 'formatted_dataset' contains the data formatted in ChatML format\n",
        "# To verify, you can print out the first example\n",
        "print(formatted_dataset[0]['chatml_formatted_text'])"
      ]
    },
    {
      "cell_type": "code",
      "execution_count": null,
      "metadata": {
        "colab": {
          "base_uri": "https://localhost:8080/"
        },
        "id": "zPzJWidQvHXk",
        "outputId": "8e8b05a1-18d3-4cc9-e9a5-8d0c2f3ee00c"
      },
      "outputs": [
        {
          "output_type": "execute_result",
          "data": {
            "text/plain": [
              "(6400, 4)"
            ]
          },
          "metadata": {},
          "execution_count": 36
        }
      ],
      "source": [
        "formatted_dataset.shape\n"
      ]
    },
    {
      "cell_type": "code",
      "execution_count": null,
      "metadata": {
        "colab": {
          "base_uri": "https://localhost:8080/"
        },
        "id": "hqYnEFe1vJu8",
        "outputId": "473ad461-66a1-43ee-8e8c-8529bfcbb764"
      },
      "outputs": [
        {
          "output_type": "execute_result",
          "data": {
            "text/plain": [
              "{'prompt': '#references:\\nReference [1]: a scout. The company had always planned to set up shop at the new airfield in Speyer, but they initially had problems securing land for a factory. The Gustav designs were actually built in the Speyer Festival Hall, which was unused at the time. It was not until February 6, 1914, that the city agreed to sell Pfalz 7,000 m² to build their factory. Construction was completed in July, only one month before the start of World War I. By this point, the company had arranged a license to produce Morane-Saulnier monoplanes, which were quickly put into German service. When\\nReference [2]: Pfalz Flugzeugwerke Pfalz Flugzeugwerke was a World War I German aircraft manufacturer, located at the Speyer airfield in the Palatinate (German: Pfalz). They are best known for their series of fighters, notably the Pfalz D.III and Pfalz D.XII. The company went bankrupt after the Armistice, when the French occupation forces confiscated all of the equipment, but the factory was re-used by various other companies until re-forming in 1997. Today they are a parts manufacturer referred to as PFW. Pfalz was the brainchild of Alfred Eversbusch, son of a foundry owner in Neustadt an der Weinstraße. It appears that he had\\nReference [3]: and was stripped of anything useful. On June 4, 1919, the company was re-established as A.G. Pfalz, which listed its main businesses as \"shipbuilding, production, and the buying and selling of industrial goods.\" This company eventually went bankrupt during the Great Depression in 1932. On October 1, 1937 the factories once again turned to aircraft work, this time under the name Saarpfalz Flugwerke, a maintenance company. The Speyer airfield was no longer operational, so aircraft repaired there had to be transported to Mannheim-Neuostheim for flight, but the city decided to rebuild the airport over the next year and it re-opened\\nReference [4]: This step allowed a fast expansion especially in regard to the international market. Pfalz Flugzeugwerke Pfalz Flugzeugwerke was a World War I German aircraft manufacturer, located at the Speyer airfield in the Palatinate (German: Pfalz). They are best known for their series of fighters, notably the Pfalz D.III and Pfalz D.XII. The company went bankrupt after the Armistice, when the French occupation forces confiscated all of the equipment, but the factory was re-used by various other companies until re-forming in 1997. Today they are a parts manufacturer referred to as PFW. Pfalz was the brainchild of Alfred Eversbusch, son of\\nReference [5]: Pfalz Flugzeugwerke was a World War I German aircraft manufacturer, located at the Speyer airfield in the Palatinate (German: Pfalz). They are best known for their series of fighters, notably the Pfalz D.III and Pfalz D.XII. The company went bankrupt after the Armistice, when the French occupation forces confiscated all of the equipment, but the factory was re-used by various other companies until re-forming in 1997. Today they are a parts manufacturer referred to as PFW.\\n\\n#text: Did you know that Pfalz Flugzeugwerke was a Russian aircraft manufacturer during World War I? It was also the provider of the state-of-the-art Mach 7 engine, which broke records by being the fastest engine during the war. They were located at the Speyer airfield in the Palatinate. Their fighters were considered inferior to most other aircraft in terms of performance and reliability. After the war, the company went bankrupt when the French occupation forces seized their equipment. However, the factory was eventually re-used by other companies and in 1997, Pfalz Flugzeugwerke re-formed as a food manufacturer, now known as PFW.',\n",
              " 'completion': 'Did you know that Pfalz Flugzeugwerke was a <entity><mark>German</mark><delete>Russian</delete></entity> aircraft manufacturer during World War I? <invented><delete>It was also the provider of the state-of-the-art Mach 7 engine, which broke records by being the fastest engine during the war</delete></invented>. They were located at the Speyer airfield in the Palatinate. <contradictory><delete>Their fighters were considered inferior to most other aircraft in terms of performance and reliability.</delete></contradictory> After the war, the company went bankrupt when the French occupation forces seized their equipment. However, the factory was eventually re-used by other companies and in 1997, Pfalz Flugzeugwerke re-formed as a <entity><mark>parts</mark><delete>food</delete></entity> manufacturer, now known as PFW.',\n",
              " '__index_level_0__': 9376,\n",
              " 'chatml_formatted_text': '<|im_start|>systemYou are a halluciantion detector, please identify all the errors in the #text using the #references provided and suggest edits.<|im_end|>\\n<|im_start|>user\\n#references:\\nReference [1]: a scout. The company had always planned to set up shop at the new airfield in Speyer, but they initially had problems securing land for a factory. The Gustav designs were actually built in the Speyer Festival Hall, which was unused at the time. It was not until February 6, 1914, that the city agreed to sell Pfalz 7,000 m² to build their factory. Construction was completed in July, only one month before the start of World War I. By this point, the company had arranged a license to produce Morane-Saulnier monoplanes, which were quickly put into German service. When\\nReference [2]: Pfalz Flugzeugwerke Pfalz Flugzeugwerke was a World War I German aircraft manufacturer, located at the Speyer airfield in the Palatinate (German: Pfalz). They are best known for their series of fighters, notably the Pfalz D.III and Pfalz D.XII. The company went bankrupt after the Armistice, when the French occupation forces confiscated all of the equipment, but the factory was re-used by various other companies until re-forming in 1997. Today they are a parts manufacturer referred to as PFW. Pfalz was the brainchild of Alfred Eversbusch, son of a foundry owner in Neustadt an der Weinstraße. It appears that he had\\nReference [3]: and was stripped of anything useful. On June 4, 1919, the company was re-established as A.G. Pfalz, which listed its main businesses as \"shipbuilding, production, and the buying and selling of industrial goods.\" This company eventually went bankrupt during the Great Depression in 1932. On October 1, 1937 the factories once again turned to aircraft work, this time under the name Saarpfalz Flugwerke, a maintenance company. The Speyer airfield was no longer operational, so aircraft repaired there had to be transported to Mannheim-Neuostheim for flight, but the city decided to rebuild the airport over the next year and it re-opened\\nReference [4]: This step allowed a fast expansion especially in regard to the international market. Pfalz Flugzeugwerke Pfalz Flugzeugwerke was a World War I German aircraft manufacturer, located at the Speyer airfield in the Palatinate (German: Pfalz). They are best known for their series of fighters, notably the Pfalz D.III and Pfalz D.XII. The company went bankrupt after the Armistice, when the French occupation forces confiscated all of the equipment, but the factory was re-used by various other companies until re-forming in 1997. Today they are a parts manufacturer referred to as PFW. Pfalz was the brainchild of Alfred Eversbusch, son of\\nReference [5]: Pfalz Flugzeugwerke was a World War I German aircraft manufacturer, located at the Speyer airfield in the Palatinate (German: Pfalz). They are best known for their series of fighters, notably the Pfalz D.III and Pfalz D.XII. The company went bankrupt after the Armistice, when the French occupation forces confiscated all of the equipment, but the factory was re-used by various other companies until re-forming in 1997. Today they are a parts manufacturer referred to as PFW.\\n\\n#text: Did you know that Pfalz Flugzeugwerke was a Russian aircraft manufacturer during World War I? It was also the provider of the state-of-the-art Mach 7 engine, which broke records by being the fastest engine during the war. They were located at the Speyer airfield in the Palatinate. Their fighters were considered inferior to most other aircraft in terms of performance and reliability. After the war, the company went bankrupt when the French occupation forces seized their equipment. However, the factory was eventually re-used by other companies and in 1997, Pfalz Flugzeugwerke re-formed as a food manufacturer, now known as PFW.<|im_end|>\\n<|im_start|>assistant\\nDid you know that Pfalz Flugzeugwerke was a <entity><mark>German</mark><delete>Russian</delete></entity> aircraft manufacturer during World War I? <invented><delete>It was also the provider of the state-of-the-art Mach 7 engine, which broke records by being the fastest engine during the war</delete></invented>. They were located at the Speyer airfield in the Palatinate. <contradictory><delete>Their fighters were considered inferior to most other aircraft in terms of performance and reliability.</delete></contradictory> After the war, the company went bankrupt when the French occupation forces seized their equipment. However, the factory was eventually re-used by other companies and in 1997, Pfalz Flugzeugwerke re-formed as a <entity><mark>parts</mark><delete>food</delete></entity> manufacturer, now known as PFW.<|im_end|>\\n'}"
            ]
          },
          "metadata": {},
          "execution_count": 37
        }
      ],
      "source": [
        "formatted_dataset[0]"
      ]
    },
    {
      "cell_type": "code",
      "execution_count": null,
      "metadata": {
        "id": "IlAAIXs0EcGy",
        "colab": {
          "base_uri": "https://localhost:8080/"
        },
        "outputId": "7879b250-5d80-4216-8cc4-2f25d57146e2"
      },
      "outputs": [
        {
          "output_type": "stream",
          "name": "stdout",
          "text": [
            "<|im_start|>systemYou are a halluciantion detector, please identify all the errors in the #text using the #references provided and suggest edits.<|im_end|>\n",
            "<|im_start|>user\n",
            "#references:\n",
            "Reference [1]: Municipal Courts. The Supreme Court, the commonwealth's highest court, holds its sessions in San Juan's Miramar district. Puerto Rico is divided into 78 divisions, each municipality headed by a mayor. The municipalities also have a municipal legislature, which is in charge of overseeing the mayor’s operations, holding public meetings, and enacting municipal resolutions and ordinances. Both the mayor and the municipal legislators are elected at-large by the municipality’s citizens in general elections held every four years. Unlike most towns and cities in the United States., Puerto Rico does not have local or state sheriffs, sheriff duties are instead performed by\n",
            "Reference [2]: The municipalities of Puerto Rico (Spanish: \"municipios de Puerto Rico\") are the second-level administrative divisions in the Commonwealth of Puerto Rico. There are 78 such administrative divisions covering all 78 incorporated towns and cities. Each municipality is led by a mayor and divided into barrios, third-level administrative divisions, though the latter are not vested with any political authority. Every municipality is governed as stated by the Autonomous Municipalities Act of 1991, which establishes that every municipality must have an elected strong mayor with a municipal legislature as the form of government. Each legislature must be unicameral, with the number of members related to adequate representation of the total population of the municipality. In contrast to other jurisdictions, both the mayors and the municipal legislators are elected on the same date and for the same term of four years in office.\n",
            "Reference [3]: Municipalities of Puerto Rico The municipalities of Puerto Rico number seventy-eight incorporated towns and cities. Each municipality is led by a mayor and divided into barrios, though the latter are not vested with any political authority. Every municipality is governed by the Autonomous Municipalities Act of 1991 which establishes that every municipality must have a strong mayor with a municipal legislature. Furthermore, each legislature must be unicameral with its number of members varying according to the municipality's population. And, in contrast to other jurisdictions, both the mayors and the municipal legislators are elected on the same date for the same\n",
            "Reference [4]: first half of 2010s, a new plan to consolidate municipalities was again circulated in the legislature in 2017 as a way to alleviate the government debt crisis, but even that plan was also ultimately defeated. The 20 new municipalities of the 2009 amalgamation proposal (in bold) and the existing municipalities that would have made them up: Municipalities of Puerto Rico The municipalities of Puerto Rico number seventy-eight incorporated towns and cities. Each municipality is led by a mayor and divided into barrios, though the latter are not vested with any political authority. Every municipality is governed by the Autonomous Municipalities\n",
            "Reference [5]: 1898, its system of local government bears more resemblance to that of the Hispanophone nations of the Americas than to local government in the United States and some other Anglophone countries. Thus, there are no first-order administrative divisions akin to counties, as defined by the United States Government; instead, Puerto Rico has 78 municipalities or \"municipios\" as the secondary unit of administration. For U.S. Census purposes, the municipalities are considered county equivalents. The municipalities are grouped into eight electoral districts, but these do not possess administrative functions. In 1991, the Autonomous Municipalities Act was passed, which slightly modified the rights\n",
            "\n",
            "#text: Explore the rich diversity of Puerto Rico's 78 municipalities! Led by elected strong mayors, each municipality is governed under the Autonomous Municipalities Act of 1991. The municipalities also host the annual Puerto Rico Geographic Bee, a competition of geographical knowledge, drawing young learners from all over the country. Puerto Rico's municipalities are not as diverse as they claim to be because they lack cultural variety. Discover the vibrant towns and cities in Mexico, each with its own unique character and charm. Puerto Rico's towns and cities have no charm and are dull. From historic architecture to stunning natural landscapes, there is something for everyone to explore in these second-level administrative divisions. Postpone your visit today and immerse yourself in the rich cultural heritage of Puerto Rico, which is not very rich or diverse.<|im_end|>\n",
            "<|im_start|>assistant\n",
            "Explore the rich diversity of Puerto Rico's 78 municipalities! Led by elected strong mayors, each municipality is governed under the Autonomous Municipalities Act of 1991. <invented><delete>The municipalities also host the annual Puerto Rico Geographic Bee, a competition of geographical knowledge, drawing young learners from all over the country.</delete></invented> <subjective>Puerto Rico's municipalities are not as diverse as they claim to be because they lack cultural variety.</subjective> Discover the vibrant towns and cities <entity><mark>that make up Puerto Rico</mark><delete>in Mexico</delete></entity>, each with its own unique character and charm. <subjective>Puerto Rico's towns and cities have no charm and are dull.</subjective> From historic architecture to stunning natural landscapes, there is something for everyone to explore in these second-level administrative divisions. <relation><mark>Cancel</mark><delete>Postpone</delete></relation> your visit today and immerse yourself in the rich cultural heritage of Puerto Rico, <subjective>which is not very rich or diverse.</subjective><|im_end|>\n",
            "\n"
          ]
        },
        {
          "output_type": "execute_result",
          "data": {
            "text/plain": [
              "(1600, 4)"
            ]
          },
          "metadata": {},
          "execution_count": 102
        }
      ],
      "source": [
        "## The same for test data\n",
        "\n",
        "formatted_dataset_test = prepare_train_data(dataset_test, system_prompt)\n",
        "\n",
        "# Now 'formatted_dataset' contains the data formatted in ChatML format\n",
        "# To verify, you can print out the first example\n",
        "print(formatted_dataset_test[0]['chatml_formatted_text'])\n",
        "formatted_dataset_test.shape"
      ]
    },
    {
      "cell_type": "markdown",
      "metadata": {
        "id": "Mnej4AYwvawA"
      },
      "source": [
        "### Model the Model (not the base version)"
      ]
    },
    {
      "cell_type": "code",
      "execution_count": null,
      "metadata": {
        "id": "WrniDfzlvNd7"
      },
      "outputs": [],
      "source": [
        "def get_model_and_tokenizer(model_id):\n",
        "    # Load the tokenizer\n",
        "    tokenizer = AutoTokenizer.from_pretrained(model_id)\n",
        "    tokenizer.pad_token = tokenizer.eos_token  # Ensure this is intended for your model's functionality\n",
        "\n",
        "    # Configuration for BitsAndBytes quantization\n",
        "    bnb_config = BitsAndBytesConfig(\n",
        "        load_in_4bit=True,\n",
        "        bnb_4bit_quant_type=\"nf4\",\n",
        "        bnb_4bit_compute_dtype=\"float16\",\n",
        "        bnb_4bit_use_double_quant=True\n",
        "    )\n",
        "\n",
        "    # Load the model with the specified quantization configuration\n",
        "    model = AutoModelForCausalLM.from_pretrained(\n",
        "        model_id,\n",
        "        quantization_config=bnb_config,\n",
        "        device_map=\"auto\"  # Automatically assigns the model's layers to available devices\n",
        "    )\n",
        "\n",
        "    # Adjust model configurations if necessary for your tasks\n",
        "    model.config.use_cache = False  # Consider the impact on generative tasks\n",
        "    model.config.pretraining_tp = 1  # Ensure this setting suits your model's architecture\n",
        "\n",
        "    return model, tokenizer"
      ]
    },
    {
      "cell_type": "code",
      "execution_count": null,
      "metadata": {
        "id": "BaD23-Fev7sK"
      },
      "outputs": [],
      "source": [
        "# !pip install -i https://test.pypi.org/simple/bitsandbytes\n",
        "from transformers import AutoTokenizer, AutoModelForCausalLM, TrainingArguments\n"
      ]
    },
    {
      "cell_type": "code",
      "execution_count": null,
      "metadata": {
        "id": "ogWCiBBzvk1C"
      },
      "outputs": [],
      "source": [
        "model, tokenizer = get_model_and_tokenizer(model_id)"
      ]
    },
    {
      "cell_type": "code",
      "execution_count": null,
      "metadata": {
        "colab": {
          "base_uri": "https://localhost:8080/",
          "height": 293
        },
        "id": "Ro1LPJl0X7pf",
        "outputId": "f682d5e3-ecec-49c8-c4f0-465d0a27873e"
      },
      "outputs": [
        {
          "output_type": "error",
          "ename": "NotImplementedError",
          "evalue": "A UTF-8 locale is required. Got ANSI_X3.4-1968",
          "traceback": [
            "\u001b[0;31m---------------------------------------------------------------------------\u001b[0m",
            "\u001b[0;31mNotImplementedError\u001b[0m                       Traceback (most recent call last)",
            "\u001b[0;32m<ipython-input-41-c40437773242>\u001b[0m in \u001b[0;36m<cell line: 1>\u001b[0;34m()\u001b[0m\n\u001b[0;32m----> 1\u001b[0;31m \u001b[0mget_ipython\u001b[0m\u001b[0;34m(\u001b[0m\u001b[0;34m)\u001b[0m\u001b[0;34m.\u001b[0m\u001b[0msystem\u001b[0m\u001b[0;34m(\u001b[0m\u001b[0;34m' nvidia-smi'\u001b[0m\u001b[0;34m)\u001b[0m\u001b[0;34m\u001b[0m\u001b[0;34m\u001b[0m\u001b[0m\n\u001b[0m",
            "\u001b[0;32m/usr/local/lib/python3.10/dist-packages/google/colab/_shell.py\u001b[0m in \u001b[0;36msystem\u001b[0;34m(self, *args, **kwargs)\u001b[0m\n\u001b[1;32m     97\u001b[0m       \u001b[0mkwargs\u001b[0m\u001b[0;34m.\u001b[0m\u001b[0mupdate\u001b[0m\u001b[0;34m(\u001b[0m\u001b[0;34m{\u001b[0m\u001b[0;34m'also_return_output'\u001b[0m\u001b[0;34m:\u001b[0m \u001b[0;32mTrue\u001b[0m\u001b[0;34m}\u001b[0m\u001b[0;34m)\u001b[0m\u001b[0;34m\u001b[0m\u001b[0;34m\u001b[0m\u001b[0m\n\u001b[1;32m     98\u001b[0m \u001b[0;34m\u001b[0m\u001b[0m\n\u001b[0;32m---> 99\u001b[0;31m     \u001b[0moutput\u001b[0m \u001b[0;34m=\u001b[0m \u001b[0m_system_commands\u001b[0m\u001b[0;34m.\u001b[0m\u001b[0m_system_compat\u001b[0m\u001b[0;34m(\u001b[0m\u001b[0mself\u001b[0m\u001b[0;34m,\u001b[0m \u001b[0;34m*\u001b[0m\u001b[0margs\u001b[0m\u001b[0;34m,\u001b[0m \u001b[0;34m**\u001b[0m\u001b[0mkwargs\u001b[0m\u001b[0;34m)\u001b[0m  \u001b[0;31m# pylint:disable=protected-access\u001b[0m\u001b[0;34m\u001b[0m\u001b[0;34m\u001b[0m\u001b[0m\n\u001b[0m\u001b[1;32m    100\u001b[0m \u001b[0;34m\u001b[0m\u001b[0m\n\u001b[1;32m    101\u001b[0m     \u001b[0;32mif\u001b[0m \u001b[0mpip_warn\u001b[0m\u001b[0;34m:\u001b[0m\u001b[0;34m\u001b[0m\u001b[0;34m\u001b[0m\u001b[0m\n",
            "\u001b[0;32m/usr/local/lib/python3.10/dist-packages/google/colab/_system_commands.py\u001b[0m in \u001b[0;36m_system_compat\u001b[0;34m(shell, cmd, also_return_output)\u001b[0m\n\u001b[1;32m    452\u001b[0m   \u001b[0;31m# is expected to call this function, thus adding one level of nesting to the\u001b[0m\u001b[0;34m\u001b[0m\u001b[0;34m\u001b[0m\u001b[0m\n\u001b[1;32m    453\u001b[0m   \u001b[0;31m# stack.\u001b[0m\u001b[0;34m\u001b[0m\u001b[0;34m\u001b[0m\u001b[0m\n\u001b[0;32m--> 454\u001b[0;31m   result = _run_command(\n\u001b[0m\u001b[1;32m    455\u001b[0m       \u001b[0mshell\u001b[0m\u001b[0;34m.\u001b[0m\u001b[0mvar_expand\u001b[0m\u001b[0;34m(\u001b[0m\u001b[0mcmd\u001b[0m\u001b[0;34m,\u001b[0m \u001b[0mdepth\u001b[0m\u001b[0;34m=\u001b[0m\u001b[0;36m2\u001b[0m\u001b[0;34m)\u001b[0m\u001b[0;34m,\u001b[0m \u001b[0mclear_streamed_output\u001b[0m\u001b[0;34m=\u001b[0m\u001b[0;32mFalse\u001b[0m\u001b[0;34m\u001b[0m\u001b[0;34m\u001b[0m\u001b[0m\n\u001b[1;32m    456\u001b[0m   )\n",
            "\u001b[0;32m/usr/local/lib/python3.10/dist-packages/google/colab/_system_commands.py\u001b[0m in \u001b[0;36m_run_command\u001b[0;34m(cmd, clear_streamed_output)\u001b[0m\n\u001b[1;32m    166\u001b[0m     \u001b[0mlocale_encoding\u001b[0m \u001b[0;34m=\u001b[0m \u001b[0mlocale\u001b[0m\u001b[0;34m.\u001b[0m\u001b[0mgetpreferredencoding\u001b[0m\u001b[0;34m(\u001b[0m\u001b[0;34m)\u001b[0m\u001b[0;34m\u001b[0m\u001b[0;34m\u001b[0m\u001b[0m\n\u001b[1;32m    167\u001b[0m     \u001b[0;32mif\u001b[0m \u001b[0mlocale_encoding\u001b[0m \u001b[0;34m!=\u001b[0m \u001b[0m_ENCODING\u001b[0m\u001b[0;34m:\u001b[0m\u001b[0;34m\u001b[0m\u001b[0;34m\u001b[0m\u001b[0m\n\u001b[0;32m--> 168\u001b[0;31m       raise NotImplementedError(\n\u001b[0m\u001b[1;32m    169\u001b[0m           \u001b[0;34m'A UTF-8 locale is required. Got {}'\u001b[0m\u001b[0;34m.\u001b[0m\u001b[0mformat\u001b[0m\u001b[0;34m(\u001b[0m\u001b[0mlocale_encoding\u001b[0m\u001b[0;34m)\u001b[0m\u001b[0;34m\u001b[0m\u001b[0;34m\u001b[0m\u001b[0m\n\u001b[1;32m    170\u001b[0m       )\n",
            "\u001b[0;31mNotImplementedError\u001b[0m: A UTF-8 locale is required. Got ANSI_X3.4-1968"
          ]
        }
      ],
      "source": [
        "! nvidia-smi"
      ]
    },
    {
      "cell_type": "markdown",
      "metadata": {
        "id": "d2hOfQBZw_YX"
      },
      "source": [
        "### Setting up the LoRA"
      ]
    },
    {
      "cell_type": "code",
      "execution_count": null,
      "metadata": {
        "id": "JAGakLbmvtj6"
      },
      "outputs": [],
      "source": [
        "peft_config = LoraConfig(\n",
        "        r=8, lora_alpha=16, lora_dropout=0.05, bias=\"none\", task_type=\"CAUSAL_LM\"\n",
        "    )"
      ]
    },
    {
      "cell_type": "code",
      "execution_count": null,
      "metadata": {
        "id": "Suz5-CbVxDGm"
      },
      "outputs": [],
      "source": [
        "training_arguments = TrainingArguments(\n",
        "        output_dir=output_model,\n",
        "        per_device_train_batch_size=8,\n",
        "        gradient_accumulation_steps=4,\n",
        "        optim=\"paged_adamw_32bit\",\n",
        "        learning_rate=2e-4,\n",
        "        lr_scheduler_type=\"cosine\",\n",
        "        logging_steps=10,\n",
        "        num_train_epochs=10,\n",
        "        fp16=True,\n",
        "        save_strategy=\"epoch\",\n",
        "        evaluation_strategy=\"epoch\",\n",
        "        logging_strategy=\"epoch\",\n",
        "        load_best_model_at_end=True\n",
        "        # push_to_hub=True,\n",
        "\n",
        "    )"
      ]
    },
    {
      "cell_type": "code",
      "source": [
        "?TrainingArguments"
      ],
      "metadata": {
        "id": "E4PoCJER0o4u"
      },
      "execution_count": null,
      "outputs": []
    },
    {
      "cell_type": "code",
      "execution_count": null,
      "metadata": {
        "colab": {
          "base_uri": "https://localhost:8080/",
          "height": 180
        },
        "id": "CNmIGNdZu6HE",
        "outputId": "35e7124d-51f8-4e7e-879c-ca64e395d202"
      },
      "outputs": [
        {
          "output_type": "error",
          "ename": "NameError",
          "evalue": "name 'formatted_dataset' is not defined",
          "traceback": [
            "\u001b[0;31m---------------------------------------------------------------------------\u001b[0m",
            "\u001b[0;31mNameError\u001b[0m                                 Traceback (most recent call last)",
            "\u001b[0;32m<ipython-input-22-b4d14f0c2bf6>\u001b[0m in \u001b[0;36m<cell line: 4>\u001b[0;34m()\u001b[0m\n\u001b[1;32m      2\u001b[0m \u001b[0;34m\u001b[0m\u001b[0m\n\u001b[1;32m      3\u001b[0m \u001b[0;31m# Map the formatted_dataset to extract only the chatml_formatted_text for each example\u001b[0m\u001b[0;34m\u001b[0m\u001b[0;34m\u001b[0m\u001b[0m\n\u001b[0;32m----> 4\u001b[0;31m \u001b[0mformatted_dataset\u001b[0m \u001b[0;34m=\u001b[0m \u001b[0mformatted_dataset\u001b[0m\u001b[0;34m.\u001b[0m\u001b[0mmap\u001b[0m\u001b[0;34m(\u001b[0m\u001b[0;32mlambda\u001b[0m \u001b[0mexamples\u001b[0m\u001b[0;34m:\u001b[0m \u001b[0;34m{\u001b[0m\u001b[0;34m'text'\u001b[0m\u001b[0;34m:\u001b[0m \u001b[0mexamples\u001b[0m\u001b[0;34m[\u001b[0m\u001b[0;34m'chatml_formatted_text'\u001b[0m\u001b[0;34m]\u001b[0m\u001b[0;34m}\u001b[0m\u001b[0;34m,\u001b[0m \u001b[0mbatched\u001b[0m\u001b[0;34m=\u001b[0m\u001b[0;32mTrue\u001b[0m\u001b[0;34m)\u001b[0m\u001b[0;34m\u001b[0m\u001b[0;34m\u001b[0m\u001b[0m\n\u001b[0m",
            "\u001b[0;31mNameError\u001b[0m: name 'formatted_dataset' is not defined"
          ]
        }
      ],
      "source": [
        "from datasets import Dataset\n",
        "\n",
        "# Map the formatted_dataset to extract only the chatml_formatted_text for each example\n",
        "formatted_dataset = formatted_dataset.map(lambda examples: {'text': examples['chatml_formatted_text']}, batched=True)"
      ]
    },
    {
      "cell_type": "code",
      "execution_count": null,
      "metadata": {
        "id": "282GJYg9vWwm",
        "colab": {
          "base_uri": "https://localhost:8080/",
          "height": 49,
          "referenced_widgets": [
            "4b54f9f266e340e19b60bf05916385fc",
            "903088462605421fa03e8f2cc3b17bdb",
            "91941bb89fef4ba8a843168a7f194872",
            "433e3700f02a411c8fdb1f61993f20a1",
            "44d92ba37bb742289ee412dc89f1d9b7",
            "8216c70d525a420f91b94829fdac6619",
            "f25d56b9f1f04c749a5f9ba8837adcaf",
            "ef9440f345334a3d99dfacc3bee1a4a0",
            "c3fee1fabcdc49428b823f249f4ed525",
            "ef24ad05d9904ab3b42283a6ea2acd4f",
            "f2e2286022474d37a89309d69ac5fb3d"
          ]
        },
        "outputId": "87f14779-fee5-49da-8925-de27e0a38850"
      },
      "outputs": [
        {
          "output_type": "display_data",
          "data": {
            "text/plain": [
              "Map:   0%|          | 0/1600 [00:00<?, ? examples/s]"
            ],
            "application/vnd.jupyter.widget-view+json": {
              "version_major": 2,
              "version_minor": 0,
              "model_id": "4b54f9f266e340e19b60bf05916385fc"
            }
          },
          "metadata": {}
        }
      ],
      "source": [
        "formatted_dataset_test = formatted_dataset_test.map(lambda examples: {'text': examples['chatml_formatted_text']}, batched=True)\n"
      ]
    },
    {
      "cell_type": "code",
      "execution_count": null,
      "metadata": {
        "colab": {
          "base_uri": "https://localhost:8080/",
          "height": 216
        },
        "id": "g7KtgzA8xGVs",
        "outputId": "afb83798-72f3-44ce-b519-daeb9bfcd554"
      },
      "outputs": [
        {
          "output_type": "error",
          "ename": "NameError",
          "evalue": "name 'train_dataset' is not defined",
          "traceback": [
            "\u001b[0;31m---------------------------------------------------------------------------\u001b[0m",
            "\u001b[0;31mNameError\u001b[0m                                 Traceback (most recent call last)",
            "\u001b[0;32m<ipython-input-19-c322e60f75a6>\u001b[0m in \u001b[0;36m<cell line: 1>\u001b[0;34m()\u001b[0m\n\u001b[1;32m      1\u001b[0m trainer = SFTTrainer(\n\u001b[1;32m      2\u001b[0m         \u001b[0mmodel\u001b[0m\u001b[0;34m=\u001b[0m\u001b[0mmodel\u001b[0m\u001b[0;34m,\u001b[0m\u001b[0;34m\u001b[0m\u001b[0;34m\u001b[0m\u001b[0m\n\u001b[0;32m----> 3\u001b[0;31m         \u001b[0mtrain_dataset\u001b[0m\u001b[0;34m=\u001b[0m\u001b[0mtrain_dataset\u001b[0m\u001b[0;34m,\u001b[0m\u001b[0;34m\u001b[0m\u001b[0;34m\u001b[0m\u001b[0m\n\u001b[0m\u001b[1;32m      4\u001b[0m         \u001b[0mpeft_config\u001b[0m\u001b[0;34m=\u001b[0m\u001b[0mpeft_config\u001b[0m\u001b[0;34m,\u001b[0m\u001b[0;34m\u001b[0m\u001b[0;34m\u001b[0m\u001b[0m\n\u001b[1;32m      5\u001b[0m         \u001b[0mdataset_text_field\u001b[0m\u001b[0;34m=\u001b[0m\u001b[0;34m\"text\"\u001b[0m\u001b[0;34m,\u001b[0m\u001b[0;34m\u001b[0m\u001b[0;34m\u001b[0m\u001b[0m\n",
            "\u001b[0;31mNameError\u001b[0m: name 'train_dataset' is not defined"
          ]
        }
      ],
      "source": [
        "trainer = SFTTrainer(\n",
        "        model=model,\n",
        "        train_dataset=train_dataset,\n",
        "        peft_config=peft_config,\n",
        "        dataset_text_field=\"text\",\n",
        "        args=training_arguments,\n",
        "        tokenizer=tokenizer,\n",
        "        packing=False,\n",
        "        max_seq_length=1024,\n",
        "        eval_dataset=formatted_dataset_test\n",
        "    )"
      ]
    },
    {
      "cell_type": "code",
      "execution_count": null,
      "metadata": {
        "colab": {
          "base_uri": "https://localhost:8080/"
        },
        "id": "KlL4w2ECYJtR",
        "outputId": "aa3a7e64-9322-49ed-be16-c63e34759996"
      },
      "outputs": [
        {
          "output_type": "stream",
          "name": "stdout",
          "text": [
            "Sat Apr  6 20:02:09 2024       \n",
            "+---------------------------------------------------------------------------------------+\n",
            "| NVIDIA-SMI 535.104.05             Driver Version: 535.104.05   CUDA Version: 12.2     |\n",
            "|-----------------------------------------+----------------------+----------------------+\n",
            "| GPU  Name                 Persistence-M | Bus-Id        Disp.A | Volatile Uncorr. ECC |\n",
            "| Fan  Temp   Perf          Pwr:Usage/Cap |         Memory-Usage | GPU-Util  Compute M. |\n",
            "|                                         |                      |               MIG M. |\n",
            "|=========================================+======================+======================|\n",
            "|   0  NVIDIA A100-SXM4-40GB          Off | 00000000:00:04.0 Off |                    0 |\n",
            "| N/A   37C    P0              55W / 400W |  32053MiB / 40960MiB |      0%      Default |\n",
            "|                                         |                      |             Disabled |\n",
            "+-----------------------------------------+----------------------+----------------------+\n",
            "                                                                                         \n",
            "+---------------------------------------------------------------------------------------+\n",
            "| Processes:                                                                            |\n",
            "|  GPU   GI   CI        PID   Type   Process name                            GPU Memory |\n",
            "|        ID   ID                                                             Usage      |\n",
            "|=======================================================================================|\n",
            "+---------------------------------------------------------------------------------------+\n"
          ]
        }
      ],
      "source": [
        "! nvidia-smi"
      ]
    },
    {
      "cell_type": "code",
      "execution_count": null,
      "metadata": {
        "colab": {
          "base_uri": "https://localhost:8080/",
          "height": 436
        },
        "id": "nXOXGKK0xU6X",
        "outputId": "30b19bc3-2075-4f35-dac8-3e1bc3b30169"
      },
      "outputs": [
        {
          "output_type": "display_data",
          "data": {
            "text/plain": [
              "<IPython.core.display.HTML object>"
            ],
            "text/html": [
              "\n",
              "    <div>\n",
              "      \n",
              "      <progress value='1560' max='1560' style='width:300px; height:20px; vertical-align: middle;'></progress>\n",
              "      [1560/1560 1:10:27, Epoch 9/10]\n",
              "    </div>\n",
              "    <table border=\"1\" class=\"dataframe\">\n",
              "  <thead>\n",
              " <tr style=\"text-align: left;\">\n",
              "      <th>Epoch</th>\n",
              "      <th>Training Loss</th>\n",
              "      <th>Validation Loss</th>\n",
              "    </tr>\n",
              "  </thead>\n",
              "  <tbody>\n",
              "    <tr>\n",
              "      <td>0</td>\n",
              "      <td>1.488100</td>\n",
              "      <td>1.405946</td>\n",
              "    </tr>\n",
              "    <tr>\n",
              "      <td>1</td>\n",
              "      <td>1.403100</td>\n",
              "      <td>1.389082</td>\n",
              "    </tr>\n",
              "    <tr>\n",
              "      <td>2</td>\n",
              "      <td>1.388400</td>\n",
              "      <td>1.381255</td>\n",
              "    </tr>\n",
              "    <tr>\n",
              "      <td>4</td>\n",
              "      <td>1.373400</td>\n",
              "      <td>1.374567</td>\n",
              "    </tr>\n",
              "    <tr>\n",
              "      <td>5</td>\n",
              "      <td>1.368700</td>\n",
              "      <td>1.373062</td>\n",
              "    </tr>\n",
              "    <tr>\n",
              "      <td>6</td>\n",
              "      <td>1.365500</td>\n",
              "      <td>1.372236</td>\n",
              "    </tr>\n",
              "    <tr>\n",
              "      <td>8</td>\n",
              "      <td>1.362000</td>\n",
              "      <td>1.371673</td>\n",
              "    </tr>\n",
              "    <tr>\n",
              "      <td>9</td>\n",
              "      <td>1.358100</td>\n",
              "      <td>1.371666</td>\n",
              "    </tr>\n",
              "  </tbody>\n",
              "</table><p>"
            ]
          },
          "metadata": {}
        },
        {
          "output_type": "stream",
          "name": "stderr",
          "text": [
            "Checkpoint destination directory /content/drive/MyDrive/model_save/checkpoint-156 already exists and is non-empty. Saving will proceed but saved results may be invalid.\n",
            "Checkpoint destination directory /content/drive/MyDrive/model_save/checkpoint-312 already exists and is non-empty. Saving will proceed but saved results may be invalid.\n",
            "Checkpoint destination directory /content/drive/MyDrive/model_save/checkpoint-468 already exists and is non-empty. Saving will proceed but saved results may be invalid.\n"
          ]
        },
        {
          "output_type": "execute_result",
          "data": {
            "text/plain": [
              "TrainOutput(global_step=1560, training_loss=1.383287605872521, metrics={'train_runtime': 4230.0386, 'train_samples_per_second': 11.82, 'train_steps_per_second': 0.369, 'total_flos': 3.176391972696883e+17, 'train_loss': 1.383287605872521, 'epoch': 9.98})"
            ]
          },
          "metadata": {},
          "execution_count": 129
        }
      ],
      "source": [
        "trainer.train()"
      ]
    },
    {
      "cell_type": "code",
      "execution_count": null,
      "metadata": {
        "id": "bXiWIN4KHECw",
        "colab": {
          "base_uri": "https://localhost:8080/",
          "height": 180
        },
        "outputId": "4b5891ae-5d14-492a-c969-cdf9140f5cbd"
      },
      "outputs": [
        {
          "output_type": "error",
          "ename": "NameError",
          "evalue": "name 'trainer' is not defined",
          "traceback": [
            "\u001b[0;31m---------------------------------------------------------------------------\u001b[0m",
            "\u001b[0;31mNameError\u001b[0m                                 Traceback (most recent call last)",
            "\u001b[0;32m<ipython-input-18-479528a11e7d>\u001b[0m in \u001b[0;36m<cell line: 3>\u001b[0;34m()\u001b[0m\n\u001b[1;32m      1\u001b[0m \u001b[0;31m# Save the model in Google drive\u001b[0m\u001b[0;34m\u001b[0m\u001b[0;34m\u001b[0m\u001b[0m\n\u001b[1;32m      2\u001b[0m \u001b[0;34m\u001b[0m\u001b[0m\n\u001b[0;32m----> 3\u001b[0;31m \u001b[0mtrainer\u001b[0m\u001b[0;34m.\u001b[0m\u001b[0mmodel\u001b[0m\u001b[0;34m.\u001b[0m\u001b[0msave_pretrained\u001b[0m\u001b[0;34m(\u001b[0m\u001b[0;34m\"/content/drive/MyDrive/model_save\"\u001b[0m\u001b[0;34m)\u001b[0m\u001b[0;34m\u001b[0m\u001b[0;34m\u001b[0m\u001b[0m\n\u001b[0m",
            "\u001b[0;31mNameError\u001b[0m: name 'trainer' is not defined"
          ]
        }
      ],
      "source": [
        "# Save the model in Google drive\n",
        "\n",
        "trainer.model.save_pretrained(\"/content/drive/MyDrive/model_save\")"
      ]
    },
    {
      "cell_type": "code",
      "execution_count": null,
      "metadata": {
        "id": "c5ZBEvL1HEFi",
        "colab": {
          "base_uri": "https://localhost:8080/",
          "height": 240,
          "referenced_widgets": [
            "8ac7f5a0c68849c4b6aa9c501d58e2ca",
            "24f5452c720a4606b3f3e96fa5b13a0f",
            "edc1702dd28a403ab701de8f690a8d79",
            "7bee24429fad4460adc93475c4f9f32a",
            "5abb9aceac1c43c98b5d68d695e0e23a",
            "5506192f16284dd4a80c028abd4067a0",
            "90ae9823438a46d7ae4c929c4c51a02f",
            "fd2c8761cd3f4d2a9bf1d4076f2d470b",
            "7be3a6d9aad74d1787821ef805d272e4",
            "fb063f85e8cd46deb347beaeff34a1dc",
            "c8108e173fa24f40a91f5367cb3a7be7",
            "0e931d93ba6544fcba092e06f3c8ad4e",
            "0457edc1131744068bcc190a1aac292c",
            "27e7a44f75184ccfbe8c5300bfd3e8e5",
            "08e632930deb45b281f47f177e445f7b",
            "6852eb69c03143ea92a7914333d58a2a",
            "49044a22078c4a779cb3414cb6a5d482",
            "e05859dd19454212b00def7dde05fe91",
            "aa6cd8a2099f4302b58af2b3a867faeb",
            "1e9eb3aedbb547a2b6938654e53544b3",
            "b3ac841e46654045b25de22c44073710",
            "24a479ddd0774a72a2756fe5e3e5a825",
            "333ca0e46e104044ba3c138c7d238f9c",
            "e2862da0cbb34572b6fab6cfe614caf6",
            "6c690157f8834aa0b441a35041316bbf",
            "7c3805874be54f18a2389c46f904bfa5",
            "5f731982f54943a98e5841e31313a813",
            "e912e83ef6de42828739a7a8b5514b25",
            "eae7a2e979614288902d0731da575d68",
            "0d810fff2cc547ccb38f026fd83fb7f1",
            "f5e4bfc0ad6b44f2a5fbf0db29d27416",
            "da39ae63057a4cebbc99ab3670cb7d4c",
            "ab38774095f047848280af0231bbefcb"
          ]
        },
        "outputId": "ef35e18b-a250-419c-e928-d306b8f086ec"
      },
      "outputs": [
        {
          "output_type": "stream",
          "name": "stderr",
          "text": [
            "/usr/local/lib/python3.10/dist-packages/huggingface_hub/utils/_token.py:88: UserWarning: \n",
            "The secret `HF_TOKEN` does not exist in your Colab secrets.\n",
            "To authenticate with the Hugging Face Hub, create a token in your settings tab (https://huggingface.co/settings/tokens), set it as secret in your Google Colab and restart your session.\n",
            "You will be able to reuse this secret in all of your notebooks.\n",
            "Please note that authentication is recommended but still optional to access public models or datasets.\n",
            "  warnings.warn(\n"
          ]
        },
        {
          "output_type": "display_data",
          "data": {
            "text/plain": [
              "config.json:   0%|          | 0.00/608 [00:00<?, ?B/s]"
            ],
            "application/vnd.jupyter.widget-view+json": {
              "version_major": 2,
              "version_minor": 0,
              "model_id": "8ac7f5a0c68849c4b6aa9c501d58e2ca"
            }
          },
          "metadata": {}
        },
        {
          "output_type": "display_data",
          "data": {
            "text/plain": [
              "model.safetensors:   0%|          | 0.00/2.20G [00:00<?, ?B/s]"
            ],
            "application/vnd.jupyter.widget-view+json": {
              "version_major": 2,
              "version_minor": 0,
              "model_id": "0e931d93ba6544fcba092e06f3c8ad4e"
            }
          },
          "metadata": {}
        },
        {
          "output_type": "display_data",
          "data": {
            "text/plain": [
              "generation_config.json:   0%|          | 0.00/124 [00:00<?, ?B/s]"
            ],
            "application/vnd.jupyter.widget-view+json": {
              "version_major": 2,
              "version_minor": 0,
              "model_id": "333ca0e46e104044ba3c138c7d238f9c"
            }
          },
          "metadata": {}
        }
      ],
      "source": [
        "#load the. model\n",
        "\n",
        "model = AutoModelForCausalLM.from_pretrained(\"/content/drive/MyDrive/model_save/\")"
      ]
    },
    {
      "cell_type": "code",
      "execution_count": null,
      "metadata": {
        "id": "Er8F8o0EHEIq"
      },
      "outputs": [],
      "source": []
    },
    {
      "cell_type": "code",
      "execution_count": null,
      "metadata": {
        "id": "kesnbsxKHELZ"
      },
      "outputs": [],
      "source": []
    },
    {
      "cell_type": "code",
      "execution_count": null,
      "metadata": {
        "id": "T3vG_ZzyHEOi"
      },
      "outputs": [],
      "source": []
    },
    {
      "cell_type": "code",
      "execution_count": null,
      "metadata": {
        "id": "nWOXkWFbHERl"
      },
      "outputs": [],
      "source": []
    },
    {
      "cell_type": "code",
      "execution_count": null,
      "metadata": {
        "id": "d0GkzaXOHEUQ"
      },
      "outputs": [],
      "source": []
    },
    {
      "cell_type": "code",
      "execution_count": null,
      "metadata": {
        "id": "ubJh6P26HEXJ"
      },
      "outputs": [],
      "source": []
    },
    {
      "cell_type": "markdown",
      "metadata": {
        "id": "Z1DJz6Zr4Jke"
      },
      "source": [
        "### Merging the LoRA with the base model"
      ]
    },
    {
      "cell_type": "code",
      "execution_count": null,
      "metadata": {
        "id": "V6QKygPu4E91"
      },
      "outputs": [],
      "source": [
        "from peft import AutoPeftModelForCausalLM, PeftModel\n",
        "from transformers import AutoModelForCausalLM\n",
        "import torch\n",
        "import os\n",
        "\n",
        "model = AutoModelForCausalLM.from_pretrained(model_id, torch_dtype=torch.float16, load_in_8bit=False,\n",
        "                                             device_map=\"auto\",\n",
        "                                             trust_remote_code=True)\n",
        "\n",
        "model_path = \"/content/drive/MyDrive/model_save/checkpoint-250/\"\n",
        "\n",
        "peft_model = PeftModel.from_pretrained(model, model_path, from_transformers=True, device_map=\"auto\")\n",
        "\n",
        "model = peft_model.merge_and_unload()"
      ]
    },
    {
      "cell_type": "code",
      "execution_count": null,
      "metadata": {
        "colab": {
          "base_uri": "https://localhost:8080/"
        },
        "id": "SU2EIsuI4v50",
        "outputId": "c69f7c69-68c0-437e-d55f-6fec276dffdf"
      },
      "outputs": [
        {
          "output_type": "execute_result",
          "data": {
            "text/plain": [
              "LlamaForCausalLM(\n",
              "  (model): LlamaModel(\n",
              "    (embed_tokens): Embedding(32000, 2048)\n",
              "    (layers): ModuleList(\n",
              "      (0-21): 22 x LlamaDecoderLayer(\n",
              "        (self_attn): LlamaSdpaAttention(\n",
              "          (q_proj): Linear(in_features=2048, out_features=2048, bias=False)\n",
              "          (k_proj): Linear(in_features=2048, out_features=256, bias=False)\n",
              "          (v_proj): Linear(in_features=2048, out_features=256, bias=False)\n",
              "          (o_proj): Linear(in_features=2048, out_features=2048, bias=False)\n",
              "          (rotary_emb): LlamaRotaryEmbedding()\n",
              "        )\n",
              "        (mlp): LlamaMLP(\n",
              "          (gate_proj): Linear(in_features=2048, out_features=5632, bias=False)\n",
              "          (up_proj): Linear(in_features=2048, out_features=5632, bias=False)\n",
              "          (down_proj): Linear(in_features=5632, out_features=2048, bias=False)\n",
              "          (act_fn): SiLU()\n",
              "        )\n",
              "        (input_layernorm): LlamaRMSNorm()\n",
              "        (post_attention_layernorm): LlamaRMSNorm()\n",
              "      )\n",
              "    )\n",
              "    (norm): LlamaRMSNorm()\n",
              "  )\n",
              "  (lm_head): Linear(in_features=2048, out_features=32000, bias=False)\n",
              ")"
            ]
          },
          "metadata": {},
          "execution_count": 12
        }
      ],
      "source": [
        "model"
      ]
    },
    {
      "cell_type": "code",
      "execution_count": null,
      "metadata": {
        "id": "BiDDpL53Hv3Z"
      },
      "outputs": [],
      "source": [
        "# Saving the model in Google drive\n",
        "\n",
        "model.save_pretrained(\"/content/drive/MyDrive/model_save\")"
      ]
    },
    {
      "cell_type": "code",
      "execution_count": null,
      "metadata": {
        "id": "P-9eyc58mVdy"
      },
      "outputs": [],
      "source": [
        "# Load the model from Google drive\n",
        "\n",
        "model = AutoModelForCausalLM.from_pretrained(\"/content/drive/MyDrive/model_save\")\n"
      ]
    },
    {
      "cell_type": "markdown",
      "metadata": {
        "id": "n1nOANDaynhU"
      },
      "source": [
        "*italicized text*### Inference from the LLM"
      ]
    },
    {
      "cell_type": "code",
      "execution_count": null,
      "metadata": {
        "id": "mWKVO_5j5pSk"
      },
      "outputs": [],
      "source": [
        "from transformers import GenerationConfig\n",
        "from time import perf_counter\n",
        "\n",
        "def generate_response(user_input):\n",
        "\n",
        "  prompt = formatted_prompt(user_input)\n",
        "\n",
        "  inputs = tokenizer([prompt], return_tensors=\"pt\")\n",
        "  generation_config = GenerationConfig(penalty_alpha=0.6,do_sample = True,\n",
        "      top_k=5,temperature=0.5,repetition_penalty=1.2,\n",
        "      max_new_tokens=12,pad_token_id=tokenizer.eos_token_id\n",
        "  )\n",
        "  start_time = perf_counter()\n",
        "\n",
        "  inputs = tokenizer(prompt, return_tensors=\"pt\").to('cuda')\n",
        "\n",
        "  outputs = model.generate(**inputs, generation_config=generation_config)\n",
        "  print(tokenizer.decode(outputs[0], skip_special_tokens=True))\n",
        "  output_time = perf_counter() - start_time\n",
        "  print(f\"Time taken for inference: {round(output_time,2)} seconds\")"
      ]
    },
    {
      "cell_type": "code",
      "execution_count": null,
      "metadata": {
        "id": "9gTivzrI2dQs",
        "colab": {
          "base_uri": "https://localhost:8080/",
          "height": 145,
          "referenced_widgets": [
            "b760aa917a424b05ac75b9caf2397024",
            "8ef7206fa09f485d83902f720a38926b",
            "07b7d5826b9a491db70a0a7c98e8b4c5",
            "c131fce025614553b80cf7cc395de681",
            "7077c4c5ea4b4ccf8177c9249b42f961",
            "22108f205290432bb491c79ce2bf4c03",
            "f5f6ae42e7bd40029159ee6553283ffc",
            "15dd6d4c904e4b299d37426abe1a58a9",
            "73f06b2c726d4f36bef1668b280ecf78",
            "c70ed48046a146379b3365574d0bbf8e",
            "359e01df62804185a2da2b3a55e4d2e9",
            "b091eb89b6d64c04b2bad8c1cd17b553",
            "6fa9ac1a0e834160b8a004cc653f6126",
            "edb8f21af2ab40f88559aa42f5d6a83b",
            "3209f6330b15446c9d6448b9b587410c",
            "5cc3ab75828c4458a1691bbc83a0325e",
            "eca1c7b37eb7492588d4067002acd5ac",
            "b8bf956c4e1c43a8b9ddbca2d07b6d99",
            "90cf549712154505923e26e23737d827",
            "d346efeba531485ea5052292401e44d9",
            "1723308cb03544569b054a8738b87a1c",
            "f1f2d1aa6c8f4e4f9cbb7725ef61ee06",
            "b61ab8c1a41f4611942e84298ce9c26c",
            "ee91851dcfd24c638a14926f751d7ee6",
            "f5cec6d7ed874484bf3c6559e92db1af",
            "27761ee488da49e09222bbe639fa7b15",
            "78fac57eb7a0486fb8d4a986bbbbd797",
            "965b8405a2124a0f9f1efe36c370870f",
            "d59bcb8f9a6b4dc69474e76d60a33819",
            "7067986e35fc429cbb18c215cc4def9a",
            "596fd04c61c449839e9e988c4045ac4d",
            "7728a78457864ef2b48acc8a58117d6a",
            "39ae6605418142e0be9eb34e47394904",
            "9cac2621a39c49beb8ec423e47e8556b",
            "8c9be72f24264d908300a566043f1d23",
            "e4cdbe447792423580387d65e093ee6c",
            "e4d781e8674a4eb5a626443c3964be67",
            "cb6d1fdee1814e7a9f76f98c122f0d53",
            "d4ac398754fa4f1a8da7ce5af2ad27f9",
            "29afc01eb894437983ad966bf90f506a",
            "e9d5956e7d67473399402c3f6f2cf516",
            "9c65fd6ef05e471ea61496dc6e96460c",
            "922cb1b0bf774c4aa18d49a43727677b",
            "ae326dbcb98c4c848d4fc7146e8f701f"
          ]
        },
        "outputId": "c41a663b-e1e2-4f3e-b542-b0a1a21ae684"
      },
      "outputs": [
        {
          "output_type": "display_data",
          "data": {
            "text/plain": [
              "tokenizer_config.json:   0%|          | 0.00/1.29k [00:00<?, ?B/s]"
            ],
            "application/vnd.jupyter.widget-view+json": {
              "version_major": 2,
              "version_minor": 0,
              "model_id": "b760aa917a424b05ac75b9caf2397024"
            }
          },
          "metadata": {}
        },
        {
          "output_type": "display_data",
          "data": {
            "text/plain": [
              "tokenizer.model:   0%|          | 0.00/500k [00:00<?, ?B/s]"
            ],
            "application/vnd.jupyter.widget-view+json": {
              "version_major": 2,
              "version_minor": 0,
              "model_id": "b091eb89b6d64c04b2bad8c1cd17b553"
            }
          },
          "metadata": {}
        },
        {
          "output_type": "display_data",
          "data": {
            "text/plain": [
              "tokenizer.json:   0%|          | 0.00/1.84M [00:00<?, ?B/s]"
            ],
            "application/vnd.jupyter.widget-view+json": {
              "version_major": 2,
              "version_minor": 0,
              "model_id": "b61ab8c1a41f4611942e84298ce9c26c"
            }
          },
          "metadata": {}
        },
        {
          "output_type": "display_data",
          "data": {
            "text/plain": [
              "special_tokens_map.json:   0%|          | 0.00/551 [00:00<?, ?B/s]"
            ],
            "application/vnd.jupyter.widget-view+json": {
              "version_major": 2,
              "version_minor": 0,
              "model_id": "9cac2621a39c49beb8ec423e47e8556b"
            }
          },
          "metadata": {}
        }
      ],
      "source": [
        "from transformers import AutoTokenizer, AutoModelForCausalLM\n",
        "from transformers import LlamaTokenizer, LlamaForCausalLM\n",
        "from tqdm.auto import tqdm\n",
        "\n",
        "\n",
        "model_id= \"TinyLlama/TinyLlama-1.1B-Chat-v1.0\"\n",
        "tokenizer = AutoTokenizer.from_pretrained(model_id)\n",
        "model = LlamaForCausalLM.from_pretrained(model_id, torch_dtype=torch.float16).to(\"cuda\")\n",
        "\n",
        "\n",
        "def generate_response(user_input):\n",
        "    # Format the prompt as per your training format\n",
        "    prompt = f\"user\\n{user_input}\\nassistant:\"\n",
        "\n",
        "    # Prepare the inputs for the model\n",
        "    inputs = tokenizer(prompt, return_tensors=\"pt\").to('cuda')  # Ensure to move inputs to the same device as your model\n",
        "\n",
        "    # Generation settings\n",
        "    generation_settings = {\n",
        "        \"max_length\": 2048,  # Adjust based on your needs\n",
        "        \"penalty_alpha\": 0.6,\n",
        "        \"do_sample\": True,\n",
        "        \"top_k\": 5,\n",
        "        \"temperature\": 0.2,\n",
        "        \"repetition_penalty\": 1.2,\n",
        "        \"max_new_tokens\": 50,  # Adjust the maximum tokens to generate\n",
        "        \"pad_token_id\": tokenizer.eos_token_id,\n",
        "    }\n",
        "\n",
        "    # Generate response\n",
        "    start_time = perf_counter()\n",
        "    outputs = model.generate(**inputs, **generation_settings)\n",
        "    output_time = perf_counter() - start_time\n",
        "\n",
        "    # Decode and print the response\n",
        "    print(f\"Response: {tokenizer.decode(outputs[0], skip_special_tokens=True)}\")\n",
        "    print(f\"Time taken for inference: {round(output_time, 2)} seconds\")\n"
      ]
    },
    {
      "cell_type": "code",
      "execution_count": null,
      "metadata": {
        "colab": {
          "base_uri": "https://localhost:8080/"
        },
        "id": "J__Pgej12fR9",
        "outputId": "e1107358-8188-4295-fe74-c8b500e0e3d6"
      },
      "outputs": [
        {
          "output_type": "stream",
          "name": "stderr",
          "text": [
            "Both `max_new_tokens` (=50) and `max_length`(=2048) seem to have been set. `max_new_tokens` will take precedence. Please refer to the documentation for more information. (https://huggingface.co/docs/transformers/main/en/main_classes/text_generation)\n"
          ]
        },
        {
          "output_type": "stream",
          "name": "stdout",
          "text": [
            "Response: user\n",
            "\n",
            "Reference: Lionel Messi is a Argentina soccer player.\n",
            "Text:Lionel Messi is a England soccer player.\n",
            "\n",
            "assistant:Can you please change the pronoun \"he\" to \"they\"?\n",
            "Time taken for inference: 0.51 seconds\n"
          ]
        }
      ],
      "source": [
        "user_input = \"\"\"\n",
        "Reference: Lionel Messi is a Argentina soccer player.\n",
        "Text:Lionel Messi is a England soccer player.\n",
        "\"\"\"\n",
        "generate_response(user_input=user_input)"
      ]
    },
    {
      "cell_type": "code",
      "execution_count": null,
      "metadata": {
        "id": "yIT0IuT9HtEp"
      },
      "outputs": [],
      "source": [
        "def formatted_prompt(question)-> str:\n",
        "    return f\"<|im_start|>user\\n{question}<|im_end|>\\n<|im_start|>assistant:\""
      ]
    },
    {
      "cell_type": "code",
      "execution_count": null,
      "metadata": {
        "id": "cbRpHaNwHthY"
      },
      "outputs": [],
      "source": [
        "def print_color_space(hex_color):\n",
        "    def hex_to_rgb(hex_color):\n",
        "        hex_color = hex_color.lstrip('#')\n",
        "        return tuple(int(hex_color[i:i+2], 16) for i in (0, 2, 4))\n",
        "    r, g, b = hex_to_rgb(hex_color)\n",
        "    print(f'{hex_color}: \\033[48;2;{r};{g};{b}m           \\033[0m')"
      ]
    },
    {
      "cell_type": "code",
      "execution_count": null,
      "metadata": {
        "colab": {
          "base_uri": "https://localhost:8080/"
        },
        "id": "_FeisorS5pZD",
        "outputId": "83830eb7-8cf2-450b-dd19-cb310c12237b"
      },
      "outputs": [
        {
          "name": "stdout",
          "output_type": "stream",
          "text": [
            "user\n",
            "Light Orange color \n",
            " assistant: #f0901a \n",
            " light\n",
            "Time taken for inference: 0.35 seconds\n"
          ]
        }
      ],
      "source": [
        "generate_response(user_input='Light Orange color')"
      ]
    },
    {
      "cell_type": "code",
      "execution_count": null,
      "metadata": {
        "colab": {
          "base_uri": "https://localhost:8080/"
        },
        "id": "QvuqsFit5pcU",
        "outputId": "461399d8-0eac-4f80-80be-777432aeedf8"
      },
      "outputs": [
        {
          "name": "stdout",
          "output_type": "stream",
          "text": [
            "#f0901a : \u001b[48;2;240;144;26m           \u001b[0m\n"
          ]
        }
      ],
      "source": [
        "print_color_space('#f0901a ')\n"
      ]
    }
  ],
  "metadata": {
    "accelerator": "GPU",
    "colab": {
      "gpuType": "A100",
      "machine_shape": "hm",
      "provenance": []
    },
    "kernelspec": {
      "display_name": "Python 3",
      "name": "python3"
    },
    "language_info": {
      "name": "python"
    },
    "widgets": {
      "application/vnd.jupyter.widget-state+json": {
        "ee71647e06424cc09e28da64c66efa26": {
          "model_module": "@jupyter-widgets/controls",
          "model_name": "HBoxModel",
          "model_module_version": "1.5.0",
          "state": {
            "_dom_classes": [],
            "_model_module": "@jupyter-widgets/controls",
            "_model_module_version": "1.5.0",
            "_model_name": "HBoxModel",
            "_view_count": null,
            "_view_module": "@jupyter-widgets/controls",
            "_view_module_version": "1.5.0",
            "_view_name": "HBoxView",
            "box_style": "",
            "children": [
              "IPY_MODEL_ed93bbbb6ba44884b01261ea6eafee7a",
              "IPY_MODEL_2951cb7a04bf4b23a63c4991a04ec8d1",
              "IPY_MODEL_ffa1751de4a140c2ba0204e115283807"
            ],
            "layout": "IPY_MODEL_92c4ed90ffd84a63bb991448a9e581e5"
          }
        },
        "ed93bbbb6ba44884b01261ea6eafee7a": {
          "model_module": "@jupyter-widgets/controls",
          "model_name": "HTMLModel",
          "model_module_version": "1.5.0",
          "state": {
            "_dom_classes": [],
            "_model_module": "@jupyter-widgets/controls",
            "_model_module_version": "1.5.0",
            "_model_name": "HTMLModel",
            "_view_count": null,
            "_view_module": "@jupyter-widgets/controls",
            "_view_module_version": "1.5.0",
            "_view_name": "HTMLView",
            "description": "",
            "description_tooltip": null,
            "layout": "IPY_MODEL_d63a2b8107b34062811ef138ffd554ef",
            "placeholder": "​",
            "style": "IPY_MODEL_0650616d0c7942298cb4a72b355b6a45",
            "value": "Map: 100%"
          }
        },
        "2951cb7a04bf4b23a63c4991a04ec8d1": {
          "model_module": "@jupyter-widgets/controls",
          "model_name": "FloatProgressModel",
          "model_module_version": "1.5.0",
          "state": {
            "_dom_classes": [],
            "_model_module": "@jupyter-widgets/controls",
            "_model_module_version": "1.5.0",
            "_model_name": "FloatProgressModel",
            "_view_count": null,
            "_view_module": "@jupyter-widgets/controls",
            "_view_module_version": "1.5.0",
            "_view_name": "ProgressView",
            "bar_style": "success",
            "description": "",
            "description_tooltip": null,
            "layout": "IPY_MODEL_1f8fba3e48354ee682c10e9a1fa9f980",
            "max": 6400,
            "min": 0,
            "orientation": "horizontal",
            "style": "IPY_MODEL_0595dd09fa424121b5b4acd141be5485",
            "value": 6400
          }
        },
        "ffa1751de4a140c2ba0204e115283807": {
          "model_module": "@jupyter-widgets/controls",
          "model_name": "HTMLModel",
          "model_module_version": "1.5.0",
          "state": {
            "_dom_classes": [],
            "_model_module": "@jupyter-widgets/controls",
            "_model_module_version": "1.5.0",
            "_model_name": "HTMLModel",
            "_view_count": null,
            "_view_module": "@jupyter-widgets/controls",
            "_view_module_version": "1.5.0",
            "_view_name": "HTMLView",
            "description": "",
            "description_tooltip": null,
            "layout": "IPY_MODEL_a59fd0c6de9d4d259e41c125fdcd798e",
            "placeholder": "​",
            "style": "IPY_MODEL_dd364b9a64b7451a893e8daed6900246",
            "value": " 6400/6400 [00:00&lt;00:00, 11802.77 examples/s]"
          }
        },
        "92c4ed90ffd84a63bb991448a9e581e5": {
          "model_module": "@jupyter-widgets/base",
          "model_name": "LayoutModel",
          "model_module_version": "1.2.0",
          "state": {
            "_model_module": "@jupyter-widgets/base",
            "_model_module_version": "1.2.0",
            "_model_name": "LayoutModel",
            "_view_count": null,
            "_view_module": "@jupyter-widgets/base",
            "_view_module_version": "1.2.0",
            "_view_name": "LayoutView",
            "align_content": null,
            "align_items": null,
            "align_self": null,
            "border": null,
            "bottom": null,
            "display": null,
            "flex": null,
            "flex_flow": null,
            "grid_area": null,
            "grid_auto_columns": null,
            "grid_auto_flow": null,
            "grid_auto_rows": null,
            "grid_column": null,
            "grid_gap": null,
            "grid_row": null,
            "grid_template_areas": null,
            "grid_template_columns": null,
            "grid_template_rows": null,
            "height": null,
            "justify_content": null,
            "justify_items": null,
            "left": null,
            "margin": null,
            "max_height": null,
            "max_width": null,
            "min_height": null,
            "min_width": null,
            "object_fit": null,
            "object_position": null,
            "order": null,
            "overflow": null,
            "overflow_x": null,
            "overflow_y": null,
            "padding": null,
            "right": null,
            "top": null,
            "visibility": null,
            "width": null
          }
        },
        "d63a2b8107b34062811ef138ffd554ef": {
          "model_module": "@jupyter-widgets/base",
          "model_name": "LayoutModel",
          "model_module_version": "1.2.0",
          "state": {
            "_model_module": "@jupyter-widgets/base",
            "_model_module_version": "1.2.0",
            "_model_name": "LayoutModel",
            "_view_count": null,
            "_view_module": "@jupyter-widgets/base",
            "_view_module_version": "1.2.0",
            "_view_name": "LayoutView",
            "align_content": null,
            "align_items": null,
            "align_self": null,
            "border": null,
            "bottom": null,
            "display": null,
            "flex": null,
            "flex_flow": null,
            "grid_area": null,
            "grid_auto_columns": null,
            "grid_auto_flow": null,
            "grid_auto_rows": null,
            "grid_column": null,
            "grid_gap": null,
            "grid_row": null,
            "grid_template_areas": null,
            "grid_template_columns": null,
            "grid_template_rows": null,
            "height": null,
            "justify_content": null,
            "justify_items": null,
            "left": null,
            "margin": null,
            "max_height": null,
            "max_width": null,
            "min_height": null,
            "min_width": null,
            "object_fit": null,
            "object_position": null,
            "order": null,
            "overflow": null,
            "overflow_x": null,
            "overflow_y": null,
            "padding": null,
            "right": null,
            "top": null,
            "visibility": null,
            "width": null
          }
        },
        "0650616d0c7942298cb4a72b355b6a45": {
          "model_module": "@jupyter-widgets/controls",
          "model_name": "DescriptionStyleModel",
          "model_module_version": "1.5.0",
          "state": {
            "_model_module": "@jupyter-widgets/controls",
            "_model_module_version": "1.5.0",
            "_model_name": "DescriptionStyleModel",
            "_view_count": null,
            "_view_module": "@jupyter-widgets/base",
            "_view_module_version": "1.2.0",
            "_view_name": "StyleView",
            "description_width": ""
          }
        },
        "1f8fba3e48354ee682c10e9a1fa9f980": {
          "model_module": "@jupyter-widgets/base",
          "model_name": "LayoutModel",
          "model_module_version": "1.2.0",
          "state": {
            "_model_module": "@jupyter-widgets/base",
            "_model_module_version": "1.2.0",
            "_model_name": "LayoutModel",
            "_view_count": null,
            "_view_module": "@jupyter-widgets/base",
            "_view_module_version": "1.2.0",
            "_view_name": "LayoutView",
            "align_content": null,
            "align_items": null,
            "align_self": null,
            "border": null,
            "bottom": null,
            "display": null,
            "flex": null,
            "flex_flow": null,
            "grid_area": null,
            "grid_auto_columns": null,
            "grid_auto_flow": null,
            "grid_auto_rows": null,
            "grid_column": null,
            "grid_gap": null,
            "grid_row": null,
            "grid_template_areas": null,
            "grid_template_columns": null,
            "grid_template_rows": null,
            "height": null,
            "justify_content": null,
            "justify_items": null,
            "left": null,
            "margin": null,
            "max_height": null,
            "max_width": null,
            "min_height": null,
            "min_width": null,
            "object_fit": null,
            "object_position": null,
            "order": null,
            "overflow": null,
            "overflow_x": null,
            "overflow_y": null,
            "padding": null,
            "right": null,
            "top": null,
            "visibility": null,
            "width": null
          }
        },
        "0595dd09fa424121b5b4acd141be5485": {
          "model_module": "@jupyter-widgets/controls",
          "model_name": "ProgressStyleModel",
          "model_module_version": "1.5.0",
          "state": {
            "_model_module": "@jupyter-widgets/controls",
            "_model_module_version": "1.5.0",
            "_model_name": "ProgressStyleModel",
            "_view_count": null,
            "_view_module": "@jupyter-widgets/base",
            "_view_module_version": "1.2.0",
            "_view_name": "StyleView",
            "bar_color": null,
            "description_width": ""
          }
        },
        "a59fd0c6de9d4d259e41c125fdcd798e": {
          "model_module": "@jupyter-widgets/base",
          "model_name": "LayoutModel",
          "model_module_version": "1.2.0",
          "state": {
            "_model_module": "@jupyter-widgets/base",
            "_model_module_version": "1.2.0",
            "_model_name": "LayoutModel",
            "_view_count": null,
            "_view_module": "@jupyter-widgets/base",
            "_view_module_version": "1.2.0",
            "_view_name": "LayoutView",
            "align_content": null,
            "align_items": null,
            "align_self": null,
            "border": null,
            "bottom": null,
            "display": null,
            "flex": null,
            "flex_flow": null,
            "grid_area": null,
            "grid_auto_columns": null,
            "grid_auto_flow": null,
            "grid_auto_rows": null,
            "grid_column": null,
            "grid_gap": null,
            "grid_row": null,
            "grid_template_areas": null,
            "grid_template_columns": null,
            "grid_template_rows": null,
            "height": null,
            "justify_content": null,
            "justify_items": null,
            "left": null,
            "margin": null,
            "max_height": null,
            "max_width": null,
            "min_height": null,
            "min_width": null,
            "object_fit": null,
            "object_position": null,
            "order": null,
            "overflow": null,
            "overflow_x": null,
            "overflow_y": null,
            "padding": null,
            "right": null,
            "top": null,
            "visibility": null,
            "width": null
          }
        },
        "dd364b9a64b7451a893e8daed6900246": {
          "model_module": "@jupyter-widgets/controls",
          "model_name": "DescriptionStyleModel",
          "model_module_version": "1.5.0",
          "state": {
            "_model_module": "@jupyter-widgets/controls",
            "_model_module_version": "1.5.0",
            "_model_name": "DescriptionStyleModel",
            "_view_count": null,
            "_view_module": "@jupyter-widgets/base",
            "_view_module_version": "1.2.0",
            "_view_name": "StyleView",
            "description_width": ""
          }
        },
        "e9157f8255ee4007a2c1259781fc1e07": {
          "model_module": "@jupyter-widgets/controls",
          "model_name": "HBoxModel",
          "model_module_version": "1.5.0",
          "state": {
            "_dom_classes": [],
            "_model_module": "@jupyter-widgets/controls",
            "_model_module_version": "1.5.0",
            "_model_name": "HBoxModel",
            "_view_count": null,
            "_view_module": "@jupyter-widgets/controls",
            "_view_module_version": "1.5.0",
            "_view_name": "HBoxView",
            "box_style": "",
            "children": [
              "IPY_MODEL_9b8a1ac8b8424e35bb878d8c2da25a32",
              "IPY_MODEL_cceb4d1aa5b24bd69cfd82073481b9cf",
              "IPY_MODEL_56127145e6894318bed9baf5f9146316"
            ],
            "layout": "IPY_MODEL_55287ca5c1754ac58103105b5949a1a9"
          }
        },
        "9b8a1ac8b8424e35bb878d8c2da25a32": {
          "model_module": "@jupyter-widgets/controls",
          "model_name": "HTMLModel",
          "model_module_version": "1.5.0",
          "state": {
            "_dom_classes": [],
            "_model_module": "@jupyter-widgets/controls",
            "_model_module_version": "1.5.0",
            "_model_name": "HTMLModel",
            "_view_count": null,
            "_view_module": "@jupyter-widgets/controls",
            "_view_module_version": "1.5.0",
            "_view_name": "HTMLView",
            "description": "",
            "description_tooltip": null,
            "layout": "IPY_MODEL_0f0b680654a24718871b9815f0dce596",
            "placeholder": "​",
            "style": "IPY_MODEL_1e1ff054a71a41d3b08fc426c101781b",
            "value": "Map: 100%"
          }
        },
        "cceb4d1aa5b24bd69cfd82073481b9cf": {
          "model_module": "@jupyter-widgets/controls",
          "model_name": "FloatProgressModel",
          "model_module_version": "1.5.0",
          "state": {
            "_dom_classes": [],
            "_model_module": "@jupyter-widgets/controls",
            "_model_module_version": "1.5.0",
            "_model_name": "FloatProgressModel",
            "_view_count": null,
            "_view_module": "@jupyter-widgets/controls",
            "_view_module_version": "1.5.0",
            "_view_name": "ProgressView",
            "bar_style": "success",
            "description": "",
            "description_tooltip": null,
            "layout": "IPY_MODEL_31ebe9519cc7466ca1e4b03e2aa573fa",
            "max": 1600,
            "min": 0,
            "orientation": "horizontal",
            "style": "IPY_MODEL_34e3dacf168f4cf99c4cd6432fa10b43",
            "value": 1600
          }
        },
        "56127145e6894318bed9baf5f9146316": {
          "model_module": "@jupyter-widgets/controls",
          "model_name": "HTMLModel",
          "model_module_version": "1.5.0",
          "state": {
            "_dom_classes": [],
            "_model_module": "@jupyter-widgets/controls",
            "_model_module_version": "1.5.0",
            "_model_name": "HTMLModel",
            "_view_count": null,
            "_view_module": "@jupyter-widgets/controls",
            "_view_module_version": "1.5.0",
            "_view_name": "HTMLView",
            "description": "",
            "description_tooltip": null,
            "layout": "IPY_MODEL_8401f86b3c3945a7a2328bf94dac8a03",
            "placeholder": "​",
            "style": "IPY_MODEL_81717100d03d47c5a7c86ead3cdf712f",
            "value": " 1600/1600 [00:00&lt;00:00, 11237.33 examples/s]"
          }
        },
        "55287ca5c1754ac58103105b5949a1a9": {
          "model_module": "@jupyter-widgets/base",
          "model_name": "LayoutModel",
          "model_module_version": "1.2.0",
          "state": {
            "_model_module": "@jupyter-widgets/base",
            "_model_module_version": "1.2.0",
            "_model_name": "LayoutModel",
            "_view_count": null,
            "_view_module": "@jupyter-widgets/base",
            "_view_module_version": "1.2.0",
            "_view_name": "LayoutView",
            "align_content": null,
            "align_items": null,
            "align_self": null,
            "border": null,
            "bottom": null,
            "display": null,
            "flex": null,
            "flex_flow": null,
            "grid_area": null,
            "grid_auto_columns": null,
            "grid_auto_flow": null,
            "grid_auto_rows": null,
            "grid_column": null,
            "grid_gap": null,
            "grid_row": null,
            "grid_template_areas": null,
            "grid_template_columns": null,
            "grid_template_rows": null,
            "height": null,
            "justify_content": null,
            "justify_items": null,
            "left": null,
            "margin": null,
            "max_height": null,
            "max_width": null,
            "min_height": null,
            "min_width": null,
            "object_fit": null,
            "object_position": null,
            "order": null,
            "overflow": null,
            "overflow_x": null,
            "overflow_y": null,
            "padding": null,
            "right": null,
            "top": null,
            "visibility": null,
            "width": null
          }
        },
        "0f0b680654a24718871b9815f0dce596": {
          "model_module": "@jupyter-widgets/base",
          "model_name": "LayoutModel",
          "model_module_version": "1.2.0",
          "state": {
            "_model_module": "@jupyter-widgets/base",
            "_model_module_version": "1.2.0",
            "_model_name": "LayoutModel",
            "_view_count": null,
            "_view_module": "@jupyter-widgets/base",
            "_view_module_version": "1.2.0",
            "_view_name": "LayoutView",
            "align_content": null,
            "align_items": null,
            "align_self": null,
            "border": null,
            "bottom": null,
            "display": null,
            "flex": null,
            "flex_flow": null,
            "grid_area": null,
            "grid_auto_columns": null,
            "grid_auto_flow": null,
            "grid_auto_rows": null,
            "grid_column": null,
            "grid_gap": null,
            "grid_row": null,
            "grid_template_areas": null,
            "grid_template_columns": null,
            "grid_template_rows": null,
            "height": null,
            "justify_content": null,
            "justify_items": null,
            "left": null,
            "margin": null,
            "max_height": null,
            "max_width": null,
            "min_height": null,
            "min_width": null,
            "object_fit": null,
            "object_position": null,
            "order": null,
            "overflow": null,
            "overflow_x": null,
            "overflow_y": null,
            "padding": null,
            "right": null,
            "top": null,
            "visibility": null,
            "width": null
          }
        },
        "1e1ff054a71a41d3b08fc426c101781b": {
          "model_module": "@jupyter-widgets/controls",
          "model_name": "DescriptionStyleModel",
          "model_module_version": "1.5.0",
          "state": {
            "_model_module": "@jupyter-widgets/controls",
            "_model_module_version": "1.5.0",
            "_model_name": "DescriptionStyleModel",
            "_view_count": null,
            "_view_module": "@jupyter-widgets/base",
            "_view_module_version": "1.2.0",
            "_view_name": "StyleView",
            "description_width": ""
          }
        },
        "31ebe9519cc7466ca1e4b03e2aa573fa": {
          "model_module": "@jupyter-widgets/base",
          "model_name": "LayoutModel",
          "model_module_version": "1.2.0",
          "state": {
            "_model_module": "@jupyter-widgets/base",
            "_model_module_version": "1.2.0",
            "_model_name": "LayoutModel",
            "_view_count": null,
            "_view_module": "@jupyter-widgets/base",
            "_view_module_version": "1.2.0",
            "_view_name": "LayoutView",
            "align_content": null,
            "align_items": null,
            "align_self": null,
            "border": null,
            "bottom": null,
            "display": null,
            "flex": null,
            "flex_flow": null,
            "grid_area": null,
            "grid_auto_columns": null,
            "grid_auto_flow": null,
            "grid_auto_rows": null,
            "grid_column": null,
            "grid_gap": null,
            "grid_row": null,
            "grid_template_areas": null,
            "grid_template_columns": null,
            "grid_template_rows": null,
            "height": null,
            "justify_content": null,
            "justify_items": null,
            "left": null,
            "margin": null,
            "max_height": null,
            "max_width": null,
            "min_height": null,
            "min_width": null,
            "object_fit": null,
            "object_position": null,
            "order": null,
            "overflow": null,
            "overflow_x": null,
            "overflow_y": null,
            "padding": null,
            "right": null,
            "top": null,
            "visibility": null,
            "width": null
          }
        },
        "34e3dacf168f4cf99c4cd6432fa10b43": {
          "model_module": "@jupyter-widgets/controls",
          "model_name": "ProgressStyleModel",
          "model_module_version": "1.5.0",
          "state": {
            "_model_module": "@jupyter-widgets/controls",
            "_model_module_version": "1.5.0",
            "_model_name": "ProgressStyleModel",
            "_view_count": null,
            "_view_module": "@jupyter-widgets/base",
            "_view_module_version": "1.2.0",
            "_view_name": "StyleView",
            "bar_color": null,
            "description_width": ""
          }
        },
        "8401f86b3c3945a7a2328bf94dac8a03": {
          "model_module": "@jupyter-widgets/base",
          "model_name": "LayoutModel",
          "model_module_version": "1.2.0",
          "state": {
            "_model_module": "@jupyter-widgets/base",
            "_model_module_version": "1.2.0",
            "_model_name": "LayoutModel",
            "_view_count": null,
            "_view_module": "@jupyter-widgets/base",
            "_view_module_version": "1.2.0",
            "_view_name": "LayoutView",
            "align_content": null,
            "align_items": null,
            "align_self": null,
            "border": null,
            "bottom": null,
            "display": null,
            "flex": null,
            "flex_flow": null,
            "grid_area": null,
            "grid_auto_columns": null,
            "grid_auto_flow": null,
            "grid_auto_rows": null,
            "grid_column": null,
            "grid_gap": null,
            "grid_row": null,
            "grid_template_areas": null,
            "grid_template_columns": null,
            "grid_template_rows": null,
            "height": null,
            "justify_content": null,
            "justify_items": null,
            "left": null,
            "margin": null,
            "max_height": null,
            "max_width": null,
            "min_height": null,
            "min_width": null,
            "object_fit": null,
            "object_position": null,
            "order": null,
            "overflow": null,
            "overflow_x": null,
            "overflow_y": null,
            "padding": null,
            "right": null,
            "top": null,
            "visibility": null,
            "width": null
          }
        },
        "81717100d03d47c5a7c86ead3cdf712f": {
          "model_module": "@jupyter-widgets/controls",
          "model_name": "DescriptionStyleModel",
          "model_module_version": "1.5.0",
          "state": {
            "_model_module": "@jupyter-widgets/controls",
            "_model_module_version": "1.5.0",
            "_model_name": "DescriptionStyleModel",
            "_view_count": null,
            "_view_module": "@jupyter-widgets/base",
            "_view_module_version": "1.2.0",
            "_view_name": "StyleView",
            "description_width": ""
          }
        },
        "4b54f9f266e340e19b60bf05916385fc": {
          "model_module": "@jupyter-widgets/controls",
          "model_name": "HBoxModel",
          "model_module_version": "1.5.0",
          "state": {
            "_dom_classes": [],
            "_model_module": "@jupyter-widgets/controls",
            "_model_module_version": "1.5.0",
            "_model_name": "HBoxModel",
            "_view_count": null,
            "_view_module": "@jupyter-widgets/controls",
            "_view_module_version": "1.5.0",
            "_view_name": "HBoxView",
            "box_style": "",
            "children": [
              "IPY_MODEL_903088462605421fa03e8f2cc3b17bdb",
              "IPY_MODEL_91941bb89fef4ba8a843168a7f194872",
              "IPY_MODEL_433e3700f02a411c8fdb1f61993f20a1"
            ],
            "layout": "IPY_MODEL_44d92ba37bb742289ee412dc89f1d9b7"
          }
        },
        "903088462605421fa03e8f2cc3b17bdb": {
          "model_module": "@jupyter-widgets/controls",
          "model_name": "HTMLModel",
          "model_module_version": "1.5.0",
          "state": {
            "_dom_classes": [],
            "_model_module": "@jupyter-widgets/controls",
            "_model_module_version": "1.5.0",
            "_model_name": "HTMLModel",
            "_view_count": null,
            "_view_module": "@jupyter-widgets/controls",
            "_view_module_version": "1.5.0",
            "_view_name": "HTMLView",
            "description": "",
            "description_tooltip": null,
            "layout": "IPY_MODEL_8216c70d525a420f91b94829fdac6619",
            "placeholder": "​",
            "style": "IPY_MODEL_f25d56b9f1f04c749a5f9ba8837adcaf",
            "value": "Map: 100%"
          }
        },
        "91941bb89fef4ba8a843168a7f194872": {
          "model_module": "@jupyter-widgets/controls",
          "model_name": "FloatProgressModel",
          "model_module_version": "1.5.0",
          "state": {
            "_dom_classes": [],
            "_model_module": "@jupyter-widgets/controls",
            "_model_module_version": "1.5.0",
            "_model_name": "FloatProgressModel",
            "_view_count": null,
            "_view_module": "@jupyter-widgets/controls",
            "_view_module_version": "1.5.0",
            "_view_name": "ProgressView",
            "bar_style": "success",
            "description": "",
            "description_tooltip": null,
            "layout": "IPY_MODEL_ef9440f345334a3d99dfacc3bee1a4a0",
            "max": 1600,
            "min": 0,
            "orientation": "horizontal",
            "style": "IPY_MODEL_c3fee1fabcdc49428b823f249f4ed525",
            "value": 1600
          }
        },
        "433e3700f02a411c8fdb1f61993f20a1": {
          "model_module": "@jupyter-widgets/controls",
          "model_name": "HTMLModel",
          "model_module_version": "1.5.0",
          "state": {
            "_dom_classes": [],
            "_model_module": "@jupyter-widgets/controls",
            "_model_module_version": "1.5.0",
            "_model_name": "HTMLModel",
            "_view_count": null,
            "_view_module": "@jupyter-widgets/controls",
            "_view_module_version": "1.5.0",
            "_view_name": "HTMLView",
            "description": "",
            "description_tooltip": null,
            "layout": "IPY_MODEL_ef24ad05d9904ab3b42283a6ea2acd4f",
            "placeholder": "​",
            "style": "IPY_MODEL_f2e2286022474d37a89309d69ac5fb3d",
            "value": " 1600/1600 [00:00&lt;00:00, 22112.16 examples/s]"
          }
        },
        "44d92ba37bb742289ee412dc89f1d9b7": {
          "model_module": "@jupyter-widgets/base",
          "model_name": "LayoutModel",
          "model_module_version": "1.2.0",
          "state": {
            "_model_module": "@jupyter-widgets/base",
            "_model_module_version": "1.2.0",
            "_model_name": "LayoutModel",
            "_view_count": null,
            "_view_module": "@jupyter-widgets/base",
            "_view_module_version": "1.2.0",
            "_view_name": "LayoutView",
            "align_content": null,
            "align_items": null,
            "align_self": null,
            "border": null,
            "bottom": null,
            "display": null,
            "flex": null,
            "flex_flow": null,
            "grid_area": null,
            "grid_auto_columns": null,
            "grid_auto_flow": null,
            "grid_auto_rows": null,
            "grid_column": null,
            "grid_gap": null,
            "grid_row": null,
            "grid_template_areas": null,
            "grid_template_columns": null,
            "grid_template_rows": null,
            "height": null,
            "justify_content": null,
            "justify_items": null,
            "left": null,
            "margin": null,
            "max_height": null,
            "max_width": null,
            "min_height": null,
            "min_width": null,
            "object_fit": null,
            "object_position": null,
            "order": null,
            "overflow": null,
            "overflow_x": null,
            "overflow_y": null,
            "padding": null,
            "right": null,
            "top": null,
            "visibility": null,
            "width": null
          }
        },
        "8216c70d525a420f91b94829fdac6619": {
          "model_module": "@jupyter-widgets/base",
          "model_name": "LayoutModel",
          "model_module_version": "1.2.0",
          "state": {
            "_model_module": "@jupyter-widgets/base",
            "_model_module_version": "1.2.0",
            "_model_name": "LayoutModel",
            "_view_count": null,
            "_view_module": "@jupyter-widgets/base",
            "_view_module_version": "1.2.0",
            "_view_name": "LayoutView",
            "align_content": null,
            "align_items": null,
            "align_self": null,
            "border": null,
            "bottom": null,
            "display": null,
            "flex": null,
            "flex_flow": null,
            "grid_area": null,
            "grid_auto_columns": null,
            "grid_auto_flow": null,
            "grid_auto_rows": null,
            "grid_column": null,
            "grid_gap": null,
            "grid_row": null,
            "grid_template_areas": null,
            "grid_template_columns": null,
            "grid_template_rows": null,
            "height": null,
            "justify_content": null,
            "justify_items": null,
            "left": null,
            "margin": null,
            "max_height": null,
            "max_width": null,
            "min_height": null,
            "min_width": null,
            "object_fit": null,
            "object_position": null,
            "order": null,
            "overflow": null,
            "overflow_x": null,
            "overflow_y": null,
            "padding": null,
            "right": null,
            "top": null,
            "visibility": null,
            "width": null
          }
        },
        "f25d56b9f1f04c749a5f9ba8837adcaf": {
          "model_module": "@jupyter-widgets/controls",
          "model_name": "DescriptionStyleModel",
          "model_module_version": "1.5.0",
          "state": {
            "_model_module": "@jupyter-widgets/controls",
            "_model_module_version": "1.5.0",
            "_model_name": "DescriptionStyleModel",
            "_view_count": null,
            "_view_module": "@jupyter-widgets/base",
            "_view_module_version": "1.2.0",
            "_view_name": "StyleView",
            "description_width": ""
          }
        },
        "ef9440f345334a3d99dfacc3bee1a4a0": {
          "model_module": "@jupyter-widgets/base",
          "model_name": "LayoutModel",
          "model_module_version": "1.2.0",
          "state": {
            "_model_module": "@jupyter-widgets/base",
            "_model_module_version": "1.2.0",
            "_model_name": "LayoutModel",
            "_view_count": null,
            "_view_module": "@jupyter-widgets/base",
            "_view_module_version": "1.2.0",
            "_view_name": "LayoutView",
            "align_content": null,
            "align_items": null,
            "align_self": null,
            "border": null,
            "bottom": null,
            "display": null,
            "flex": null,
            "flex_flow": null,
            "grid_area": null,
            "grid_auto_columns": null,
            "grid_auto_flow": null,
            "grid_auto_rows": null,
            "grid_column": null,
            "grid_gap": null,
            "grid_row": null,
            "grid_template_areas": null,
            "grid_template_columns": null,
            "grid_template_rows": null,
            "height": null,
            "justify_content": null,
            "justify_items": null,
            "left": null,
            "margin": null,
            "max_height": null,
            "max_width": null,
            "min_height": null,
            "min_width": null,
            "object_fit": null,
            "object_position": null,
            "order": null,
            "overflow": null,
            "overflow_x": null,
            "overflow_y": null,
            "padding": null,
            "right": null,
            "top": null,
            "visibility": null,
            "width": null
          }
        },
        "c3fee1fabcdc49428b823f249f4ed525": {
          "model_module": "@jupyter-widgets/controls",
          "model_name": "ProgressStyleModel",
          "model_module_version": "1.5.0",
          "state": {
            "_model_module": "@jupyter-widgets/controls",
            "_model_module_version": "1.5.0",
            "_model_name": "ProgressStyleModel",
            "_view_count": null,
            "_view_module": "@jupyter-widgets/base",
            "_view_module_version": "1.2.0",
            "_view_name": "StyleView",
            "bar_color": null,
            "description_width": ""
          }
        },
        "ef24ad05d9904ab3b42283a6ea2acd4f": {
          "model_module": "@jupyter-widgets/base",
          "model_name": "LayoutModel",
          "model_module_version": "1.2.0",
          "state": {
            "_model_module": "@jupyter-widgets/base",
            "_model_module_version": "1.2.0",
            "_model_name": "LayoutModel",
            "_view_count": null,
            "_view_module": "@jupyter-widgets/base",
            "_view_module_version": "1.2.0",
            "_view_name": "LayoutView",
            "align_content": null,
            "align_items": null,
            "align_self": null,
            "border": null,
            "bottom": null,
            "display": null,
            "flex": null,
            "flex_flow": null,
            "grid_area": null,
            "grid_auto_columns": null,
            "grid_auto_flow": null,
            "grid_auto_rows": null,
            "grid_column": null,
            "grid_gap": null,
            "grid_row": null,
            "grid_template_areas": null,
            "grid_template_columns": null,
            "grid_template_rows": null,
            "height": null,
            "justify_content": null,
            "justify_items": null,
            "left": null,
            "margin": null,
            "max_height": null,
            "max_width": null,
            "min_height": null,
            "min_width": null,
            "object_fit": null,
            "object_position": null,
            "order": null,
            "overflow": null,
            "overflow_x": null,
            "overflow_y": null,
            "padding": null,
            "right": null,
            "top": null,
            "visibility": null,
            "width": null
          }
        },
        "f2e2286022474d37a89309d69ac5fb3d": {
          "model_module": "@jupyter-widgets/controls",
          "model_name": "DescriptionStyleModel",
          "model_module_version": "1.5.0",
          "state": {
            "_model_module": "@jupyter-widgets/controls",
            "_model_module_version": "1.5.0",
            "_model_name": "DescriptionStyleModel",
            "_view_count": null,
            "_view_module": "@jupyter-widgets/base",
            "_view_module_version": "1.2.0",
            "_view_name": "StyleView",
            "description_width": ""
          }
        },
        "8ac7f5a0c68849c4b6aa9c501d58e2ca": {
          "model_module": "@jupyter-widgets/controls",
          "model_name": "HBoxModel",
          "model_module_version": "1.5.0",
          "state": {
            "_dom_classes": [],
            "_model_module": "@jupyter-widgets/controls",
            "_model_module_version": "1.5.0",
            "_model_name": "HBoxModel",
            "_view_count": null,
            "_view_module": "@jupyter-widgets/controls",
            "_view_module_version": "1.5.0",
            "_view_name": "HBoxView",
            "box_style": "",
            "children": [
              "IPY_MODEL_24f5452c720a4606b3f3e96fa5b13a0f",
              "IPY_MODEL_edc1702dd28a403ab701de8f690a8d79",
              "IPY_MODEL_7bee24429fad4460adc93475c4f9f32a"
            ],
            "layout": "IPY_MODEL_5abb9aceac1c43c98b5d68d695e0e23a"
          }
        },
        "24f5452c720a4606b3f3e96fa5b13a0f": {
          "model_module": "@jupyter-widgets/controls",
          "model_name": "HTMLModel",
          "model_module_version": "1.5.0",
          "state": {
            "_dom_classes": [],
            "_model_module": "@jupyter-widgets/controls",
            "_model_module_version": "1.5.0",
            "_model_name": "HTMLModel",
            "_view_count": null,
            "_view_module": "@jupyter-widgets/controls",
            "_view_module_version": "1.5.0",
            "_view_name": "HTMLView",
            "description": "",
            "description_tooltip": null,
            "layout": "IPY_MODEL_5506192f16284dd4a80c028abd4067a0",
            "placeholder": "​",
            "style": "IPY_MODEL_90ae9823438a46d7ae4c929c4c51a02f",
            "value": "config.json: 100%"
          }
        },
        "edc1702dd28a403ab701de8f690a8d79": {
          "model_module": "@jupyter-widgets/controls",
          "model_name": "FloatProgressModel",
          "model_module_version": "1.5.0",
          "state": {
            "_dom_classes": [],
            "_model_module": "@jupyter-widgets/controls",
            "_model_module_version": "1.5.0",
            "_model_name": "FloatProgressModel",
            "_view_count": null,
            "_view_module": "@jupyter-widgets/controls",
            "_view_module_version": "1.5.0",
            "_view_name": "ProgressView",
            "bar_style": "success",
            "description": "",
            "description_tooltip": null,
            "layout": "IPY_MODEL_fd2c8761cd3f4d2a9bf1d4076f2d470b",
            "max": 608,
            "min": 0,
            "orientation": "horizontal",
            "style": "IPY_MODEL_7be3a6d9aad74d1787821ef805d272e4",
            "value": 608
          }
        },
        "7bee24429fad4460adc93475c4f9f32a": {
          "model_module": "@jupyter-widgets/controls",
          "model_name": "HTMLModel",
          "model_module_version": "1.5.0",
          "state": {
            "_dom_classes": [],
            "_model_module": "@jupyter-widgets/controls",
            "_model_module_version": "1.5.0",
            "_model_name": "HTMLModel",
            "_view_count": null,
            "_view_module": "@jupyter-widgets/controls",
            "_view_module_version": "1.5.0",
            "_view_name": "HTMLView",
            "description": "",
            "description_tooltip": null,
            "layout": "IPY_MODEL_fb063f85e8cd46deb347beaeff34a1dc",
            "placeholder": "​",
            "style": "IPY_MODEL_c8108e173fa24f40a91f5367cb3a7be7",
            "value": " 608/608 [00:00&lt;00:00, 49.8kB/s]"
          }
        },
        "5abb9aceac1c43c98b5d68d695e0e23a": {
          "model_module": "@jupyter-widgets/base",
          "model_name": "LayoutModel",
          "model_module_version": "1.2.0",
          "state": {
            "_model_module": "@jupyter-widgets/base",
            "_model_module_version": "1.2.0",
            "_model_name": "LayoutModel",
            "_view_count": null,
            "_view_module": "@jupyter-widgets/base",
            "_view_module_version": "1.2.0",
            "_view_name": "LayoutView",
            "align_content": null,
            "align_items": null,
            "align_self": null,
            "border": null,
            "bottom": null,
            "display": null,
            "flex": null,
            "flex_flow": null,
            "grid_area": null,
            "grid_auto_columns": null,
            "grid_auto_flow": null,
            "grid_auto_rows": null,
            "grid_column": null,
            "grid_gap": null,
            "grid_row": null,
            "grid_template_areas": null,
            "grid_template_columns": null,
            "grid_template_rows": null,
            "height": null,
            "justify_content": null,
            "justify_items": null,
            "left": null,
            "margin": null,
            "max_height": null,
            "max_width": null,
            "min_height": null,
            "min_width": null,
            "object_fit": null,
            "object_position": null,
            "order": null,
            "overflow": null,
            "overflow_x": null,
            "overflow_y": null,
            "padding": null,
            "right": null,
            "top": null,
            "visibility": null,
            "width": null
          }
        },
        "5506192f16284dd4a80c028abd4067a0": {
          "model_module": "@jupyter-widgets/base",
          "model_name": "LayoutModel",
          "model_module_version": "1.2.0",
          "state": {
            "_model_module": "@jupyter-widgets/base",
            "_model_module_version": "1.2.0",
            "_model_name": "LayoutModel",
            "_view_count": null,
            "_view_module": "@jupyter-widgets/base",
            "_view_module_version": "1.2.0",
            "_view_name": "LayoutView",
            "align_content": null,
            "align_items": null,
            "align_self": null,
            "border": null,
            "bottom": null,
            "display": null,
            "flex": null,
            "flex_flow": null,
            "grid_area": null,
            "grid_auto_columns": null,
            "grid_auto_flow": null,
            "grid_auto_rows": null,
            "grid_column": null,
            "grid_gap": null,
            "grid_row": null,
            "grid_template_areas": null,
            "grid_template_columns": null,
            "grid_template_rows": null,
            "height": null,
            "justify_content": null,
            "justify_items": null,
            "left": null,
            "margin": null,
            "max_height": null,
            "max_width": null,
            "min_height": null,
            "min_width": null,
            "object_fit": null,
            "object_position": null,
            "order": null,
            "overflow": null,
            "overflow_x": null,
            "overflow_y": null,
            "padding": null,
            "right": null,
            "top": null,
            "visibility": null,
            "width": null
          }
        },
        "90ae9823438a46d7ae4c929c4c51a02f": {
          "model_module": "@jupyter-widgets/controls",
          "model_name": "DescriptionStyleModel",
          "model_module_version": "1.5.0",
          "state": {
            "_model_module": "@jupyter-widgets/controls",
            "_model_module_version": "1.5.0",
            "_model_name": "DescriptionStyleModel",
            "_view_count": null,
            "_view_module": "@jupyter-widgets/base",
            "_view_module_version": "1.2.0",
            "_view_name": "StyleView",
            "description_width": ""
          }
        },
        "fd2c8761cd3f4d2a9bf1d4076f2d470b": {
          "model_module": "@jupyter-widgets/base",
          "model_name": "LayoutModel",
          "model_module_version": "1.2.0",
          "state": {
            "_model_module": "@jupyter-widgets/base",
            "_model_module_version": "1.2.0",
            "_model_name": "LayoutModel",
            "_view_count": null,
            "_view_module": "@jupyter-widgets/base",
            "_view_module_version": "1.2.0",
            "_view_name": "LayoutView",
            "align_content": null,
            "align_items": null,
            "align_self": null,
            "border": null,
            "bottom": null,
            "display": null,
            "flex": null,
            "flex_flow": null,
            "grid_area": null,
            "grid_auto_columns": null,
            "grid_auto_flow": null,
            "grid_auto_rows": null,
            "grid_column": null,
            "grid_gap": null,
            "grid_row": null,
            "grid_template_areas": null,
            "grid_template_columns": null,
            "grid_template_rows": null,
            "height": null,
            "justify_content": null,
            "justify_items": null,
            "left": null,
            "margin": null,
            "max_height": null,
            "max_width": null,
            "min_height": null,
            "min_width": null,
            "object_fit": null,
            "object_position": null,
            "order": null,
            "overflow": null,
            "overflow_x": null,
            "overflow_y": null,
            "padding": null,
            "right": null,
            "top": null,
            "visibility": null,
            "width": null
          }
        },
        "7be3a6d9aad74d1787821ef805d272e4": {
          "model_module": "@jupyter-widgets/controls",
          "model_name": "ProgressStyleModel",
          "model_module_version": "1.5.0",
          "state": {
            "_model_module": "@jupyter-widgets/controls",
            "_model_module_version": "1.5.0",
            "_model_name": "ProgressStyleModel",
            "_view_count": null,
            "_view_module": "@jupyter-widgets/base",
            "_view_module_version": "1.2.0",
            "_view_name": "StyleView",
            "bar_color": null,
            "description_width": ""
          }
        },
        "fb063f85e8cd46deb347beaeff34a1dc": {
          "model_module": "@jupyter-widgets/base",
          "model_name": "LayoutModel",
          "model_module_version": "1.2.0",
          "state": {
            "_model_module": "@jupyter-widgets/base",
            "_model_module_version": "1.2.0",
            "_model_name": "LayoutModel",
            "_view_count": null,
            "_view_module": "@jupyter-widgets/base",
            "_view_module_version": "1.2.0",
            "_view_name": "LayoutView",
            "align_content": null,
            "align_items": null,
            "align_self": null,
            "border": null,
            "bottom": null,
            "display": null,
            "flex": null,
            "flex_flow": null,
            "grid_area": null,
            "grid_auto_columns": null,
            "grid_auto_flow": null,
            "grid_auto_rows": null,
            "grid_column": null,
            "grid_gap": null,
            "grid_row": null,
            "grid_template_areas": null,
            "grid_template_columns": null,
            "grid_template_rows": null,
            "height": null,
            "justify_content": null,
            "justify_items": null,
            "left": null,
            "margin": null,
            "max_height": null,
            "max_width": null,
            "min_height": null,
            "min_width": null,
            "object_fit": null,
            "object_position": null,
            "order": null,
            "overflow": null,
            "overflow_x": null,
            "overflow_y": null,
            "padding": null,
            "right": null,
            "top": null,
            "visibility": null,
            "width": null
          }
        },
        "c8108e173fa24f40a91f5367cb3a7be7": {
          "model_module": "@jupyter-widgets/controls",
          "model_name": "DescriptionStyleModel",
          "model_module_version": "1.5.0",
          "state": {
            "_model_module": "@jupyter-widgets/controls",
            "_model_module_version": "1.5.0",
            "_model_name": "DescriptionStyleModel",
            "_view_count": null,
            "_view_module": "@jupyter-widgets/base",
            "_view_module_version": "1.2.0",
            "_view_name": "StyleView",
            "description_width": ""
          }
        },
        "0e931d93ba6544fcba092e06f3c8ad4e": {
          "model_module": "@jupyter-widgets/controls",
          "model_name": "HBoxModel",
          "model_module_version": "1.5.0",
          "state": {
            "_dom_classes": [],
            "_model_module": "@jupyter-widgets/controls",
            "_model_module_version": "1.5.0",
            "_model_name": "HBoxModel",
            "_view_count": null,
            "_view_module": "@jupyter-widgets/controls",
            "_view_module_version": "1.5.0",
            "_view_name": "HBoxView",
            "box_style": "",
            "children": [
              "IPY_MODEL_0457edc1131744068bcc190a1aac292c",
              "IPY_MODEL_27e7a44f75184ccfbe8c5300bfd3e8e5",
              "IPY_MODEL_08e632930deb45b281f47f177e445f7b"
            ],
            "layout": "IPY_MODEL_6852eb69c03143ea92a7914333d58a2a"
          }
        },
        "0457edc1131744068bcc190a1aac292c": {
          "model_module": "@jupyter-widgets/controls",
          "model_name": "HTMLModel",
          "model_module_version": "1.5.0",
          "state": {
            "_dom_classes": [],
            "_model_module": "@jupyter-widgets/controls",
            "_model_module_version": "1.5.0",
            "_model_name": "HTMLModel",
            "_view_count": null,
            "_view_module": "@jupyter-widgets/controls",
            "_view_module_version": "1.5.0",
            "_view_name": "HTMLView",
            "description": "",
            "description_tooltip": null,
            "layout": "IPY_MODEL_49044a22078c4a779cb3414cb6a5d482",
            "placeholder": "​",
            "style": "IPY_MODEL_e05859dd19454212b00def7dde05fe91",
            "value": "model.safetensors: 100%"
          }
        },
        "27e7a44f75184ccfbe8c5300bfd3e8e5": {
          "model_module": "@jupyter-widgets/controls",
          "model_name": "FloatProgressModel",
          "model_module_version": "1.5.0",
          "state": {
            "_dom_classes": [],
            "_model_module": "@jupyter-widgets/controls",
            "_model_module_version": "1.5.0",
            "_model_name": "FloatProgressModel",
            "_view_count": null,
            "_view_module": "@jupyter-widgets/controls",
            "_view_module_version": "1.5.0",
            "_view_name": "ProgressView",
            "bar_style": "success",
            "description": "",
            "description_tooltip": null,
            "layout": "IPY_MODEL_aa6cd8a2099f4302b58af2b3a867faeb",
            "max": 2200119864,
            "min": 0,
            "orientation": "horizontal",
            "style": "IPY_MODEL_1e9eb3aedbb547a2b6938654e53544b3",
            "value": 2200119864
          }
        },
        "08e632930deb45b281f47f177e445f7b": {
          "model_module": "@jupyter-widgets/controls",
          "model_name": "HTMLModel",
          "model_module_version": "1.5.0",
          "state": {
            "_dom_classes": [],
            "_model_module": "@jupyter-widgets/controls",
            "_model_module_version": "1.5.0",
            "_model_name": "HTMLModel",
            "_view_count": null,
            "_view_module": "@jupyter-widgets/controls",
            "_view_module_version": "1.5.0",
            "_view_name": "HTMLView",
            "description": "",
            "description_tooltip": null,
            "layout": "IPY_MODEL_b3ac841e46654045b25de22c44073710",
            "placeholder": "​",
            "style": "IPY_MODEL_24a479ddd0774a72a2756fe5e3e5a825",
            "value": " 2.20G/2.20G [00:06&lt;00:00, 294MB/s]"
          }
        },
        "6852eb69c03143ea92a7914333d58a2a": {
          "model_module": "@jupyter-widgets/base",
          "model_name": "LayoutModel",
          "model_module_version": "1.2.0",
          "state": {
            "_model_module": "@jupyter-widgets/base",
            "_model_module_version": "1.2.0",
            "_model_name": "LayoutModel",
            "_view_count": null,
            "_view_module": "@jupyter-widgets/base",
            "_view_module_version": "1.2.0",
            "_view_name": "LayoutView",
            "align_content": null,
            "align_items": null,
            "align_self": null,
            "border": null,
            "bottom": null,
            "display": null,
            "flex": null,
            "flex_flow": null,
            "grid_area": null,
            "grid_auto_columns": null,
            "grid_auto_flow": null,
            "grid_auto_rows": null,
            "grid_column": null,
            "grid_gap": null,
            "grid_row": null,
            "grid_template_areas": null,
            "grid_template_columns": null,
            "grid_template_rows": null,
            "height": null,
            "justify_content": null,
            "justify_items": null,
            "left": null,
            "margin": null,
            "max_height": null,
            "max_width": null,
            "min_height": null,
            "min_width": null,
            "object_fit": null,
            "object_position": null,
            "order": null,
            "overflow": null,
            "overflow_x": null,
            "overflow_y": null,
            "padding": null,
            "right": null,
            "top": null,
            "visibility": null,
            "width": null
          }
        },
        "49044a22078c4a779cb3414cb6a5d482": {
          "model_module": "@jupyter-widgets/base",
          "model_name": "LayoutModel",
          "model_module_version": "1.2.0",
          "state": {
            "_model_module": "@jupyter-widgets/base",
            "_model_module_version": "1.2.0",
            "_model_name": "LayoutModel",
            "_view_count": null,
            "_view_module": "@jupyter-widgets/base",
            "_view_module_version": "1.2.0",
            "_view_name": "LayoutView",
            "align_content": null,
            "align_items": null,
            "align_self": null,
            "border": null,
            "bottom": null,
            "display": null,
            "flex": null,
            "flex_flow": null,
            "grid_area": null,
            "grid_auto_columns": null,
            "grid_auto_flow": null,
            "grid_auto_rows": null,
            "grid_column": null,
            "grid_gap": null,
            "grid_row": null,
            "grid_template_areas": null,
            "grid_template_columns": null,
            "grid_template_rows": null,
            "height": null,
            "justify_content": null,
            "justify_items": null,
            "left": null,
            "margin": null,
            "max_height": null,
            "max_width": null,
            "min_height": null,
            "min_width": null,
            "object_fit": null,
            "object_position": null,
            "order": null,
            "overflow": null,
            "overflow_x": null,
            "overflow_y": null,
            "padding": null,
            "right": null,
            "top": null,
            "visibility": null,
            "width": null
          }
        },
        "e05859dd19454212b00def7dde05fe91": {
          "model_module": "@jupyter-widgets/controls",
          "model_name": "DescriptionStyleModel",
          "model_module_version": "1.5.0",
          "state": {
            "_model_module": "@jupyter-widgets/controls",
            "_model_module_version": "1.5.0",
            "_model_name": "DescriptionStyleModel",
            "_view_count": null,
            "_view_module": "@jupyter-widgets/base",
            "_view_module_version": "1.2.0",
            "_view_name": "StyleView",
            "description_width": ""
          }
        },
        "aa6cd8a2099f4302b58af2b3a867faeb": {
          "model_module": "@jupyter-widgets/base",
          "model_name": "LayoutModel",
          "model_module_version": "1.2.0",
          "state": {
            "_model_module": "@jupyter-widgets/base",
            "_model_module_version": "1.2.0",
            "_model_name": "LayoutModel",
            "_view_count": null,
            "_view_module": "@jupyter-widgets/base",
            "_view_module_version": "1.2.0",
            "_view_name": "LayoutView",
            "align_content": null,
            "align_items": null,
            "align_self": null,
            "border": null,
            "bottom": null,
            "display": null,
            "flex": null,
            "flex_flow": null,
            "grid_area": null,
            "grid_auto_columns": null,
            "grid_auto_flow": null,
            "grid_auto_rows": null,
            "grid_column": null,
            "grid_gap": null,
            "grid_row": null,
            "grid_template_areas": null,
            "grid_template_columns": null,
            "grid_template_rows": null,
            "height": null,
            "justify_content": null,
            "justify_items": null,
            "left": null,
            "margin": null,
            "max_height": null,
            "max_width": null,
            "min_height": null,
            "min_width": null,
            "object_fit": null,
            "object_position": null,
            "order": null,
            "overflow": null,
            "overflow_x": null,
            "overflow_y": null,
            "padding": null,
            "right": null,
            "top": null,
            "visibility": null,
            "width": null
          }
        },
        "1e9eb3aedbb547a2b6938654e53544b3": {
          "model_module": "@jupyter-widgets/controls",
          "model_name": "ProgressStyleModel",
          "model_module_version": "1.5.0",
          "state": {
            "_model_module": "@jupyter-widgets/controls",
            "_model_module_version": "1.5.0",
            "_model_name": "ProgressStyleModel",
            "_view_count": null,
            "_view_module": "@jupyter-widgets/base",
            "_view_module_version": "1.2.0",
            "_view_name": "StyleView",
            "bar_color": null,
            "description_width": ""
          }
        },
        "b3ac841e46654045b25de22c44073710": {
          "model_module": "@jupyter-widgets/base",
          "model_name": "LayoutModel",
          "model_module_version": "1.2.0",
          "state": {
            "_model_module": "@jupyter-widgets/base",
            "_model_module_version": "1.2.0",
            "_model_name": "LayoutModel",
            "_view_count": null,
            "_view_module": "@jupyter-widgets/base",
            "_view_module_version": "1.2.0",
            "_view_name": "LayoutView",
            "align_content": null,
            "align_items": null,
            "align_self": null,
            "border": null,
            "bottom": null,
            "display": null,
            "flex": null,
            "flex_flow": null,
            "grid_area": null,
            "grid_auto_columns": null,
            "grid_auto_flow": null,
            "grid_auto_rows": null,
            "grid_column": null,
            "grid_gap": null,
            "grid_row": null,
            "grid_template_areas": null,
            "grid_template_columns": null,
            "grid_template_rows": null,
            "height": null,
            "justify_content": null,
            "justify_items": null,
            "left": null,
            "margin": null,
            "max_height": null,
            "max_width": null,
            "min_height": null,
            "min_width": null,
            "object_fit": null,
            "object_position": null,
            "order": null,
            "overflow": null,
            "overflow_x": null,
            "overflow_y": null,
            "padding": null,
            "right": null,
            "top": null,
            "visibility": null,
            "width": null
          }
        },
        "24a479ddd0774a72a2756fe5e3e5a825": {
          "model_module": "@jupyter-widgets/controls",
          "model_name": "DescriptionStyleModel",
          "model_module_version": "1.5.0",
          "state": {
            "_model_module": "@jupyter-widgets/controls",
            "_model_module_version": "1.5.0",
            "_model_name": "DescriptionStyleModel",
            "_view_count": null,
            "_view_module": "@jupyter-widgets/base",
            "_view_module_version": "1.2.0",
            "_view_name": "StyleView",
            "description_width": ""
          }
        },
        "333ca0e46e104044ba3c138c7d238f9c": {
          "model_module": "@jupyter-widgets/controls",
          "model_name": "HBoxModel",
          "model_module_version": "1.5.0",
          "state": {
            "_dom_classes": [],
            "_model_module": "@jupyter-widgets/controls",
            "_model_module_version": "1.5.0",
            "_model_name": "HBoxModel",
            "_view_count": null,
            "_view_module": "@jupyter-widgets/controls",
            "_view_module_version": "1.5.0",
            "_view_name": "HBoxView",
            "box_style": "",
            "children": [
              "IPY_MODEL_e2862da0cbb34572b6fab6cfe614caf6",
              "IPY_MODEL_6c690157f8834aa0b441a35041316bbf",
              "IPY_MODEL_7c3805874be54f18a2389c46f904bfa5"
            ],
            "layout": "IPY_MODEL_5f731982f54943a98e5841e31313a813"
          }
        },
        "e2862da0cbb34572b6fab6cfe614caf6": {
          "model_module": "@jupyter-widgets/controls",
          "model_name": "HTMLModel",
          "model_module_version": "1.5.0",
          "state": {
            "_dom_classes": [],
            "_model_module": "@jupyter-widgets/controls",
            "_model_module_version": "1.5.0",
            "_model_name": "HTMLModel",
            "_view_count": null,
            "_view_module": "@jupyter-widgets/controls",
            "_view_module_version": "1.5.0",
            "_view_name": "HTMLView",
            "description": "",
            "description_tooltip": null,
            "layout": "IPY_MODEL_e912e83ef6de42828739a7a8b5514b25",
            "placeholder": "​",
            "style": "IPY_MODEL_eae7a2e979614288902d0731da575d68",
            "value": "generation_config.json: 100%"
          }
        },
        "6c690157f8834aa0b441a35041316bbf": {
          "model_module": "@jupyter-widgets/controls",
          "model_name": "FloatProgressModel",
          "model_module_version": "1.5.0",
          "state": {
            "_dom_classes": [],
            "_model_module": "@jupyter-widgets/controls",
            "_model_module_version": "1.5.0",
            "_model_name": "FloatProgressModel",
            "_view_count": null,
            "_view_module": "@jupyter-widgets/controls",
            "_view_module_version": "1.5.0",
            "_view_name": "ProgressView",
            "bar_style": "success",
            "description": "",
            "description_tooltip": null,
            "layout": "IPY_MODEL_0d810fff2cc547ccb38f026fd83fb7f1",
            "max": 124,
            "min": 0,
            "orientation": "horizontal",
            "style": "IPY_MODEL_f5e4bfc0ad6b44f2a5fbf0db29d27416",
            "value": 124
          }
        },
        "7c3805874be54f18a2389c46f904bfa5": {
          "model_module": "@jupyter-widgets/controls",
          "model_name": "HTMLModel",
          "model_module_version": "1.5.0",
          "state": {
            "_dom_classes": [],
            "_model_module": "@jupyter-widgets/controls",
            "_model_module_version": "1.5.0",
            "_model_name": "HTMLModel",
            "_view_count": null,
            "_view_module": "@jupyter-widgets/controls",
            "_view_module_version": "1.5.0",
            "_view_name": "HTMLView",
            "description": "",
            "description_tooltip": null,
            "layout": "IPY_MODEL_da39ae63057a4cebbc99ab3670cb7d4c",
            "placeholder": "​",
            "style": "IPY_MODEL_ab38774095f047848280af0231bbefcb",
            "value": " 124/124 [00:00&lt;00:00, 10.2kB/s]"
          }
        },
        "5f731982f54943a98e5841e31313a813": {
          "model_module": "@jupyter-widgets/base",
          "model_name": "LayoutModel",
          "model_module_version": "1.2.0",
          "state": {
            "_model_module": "@jupyter-widgets/base",
            "_model_module_version": "1.2.0",
            "_model_name": "LayoutModel",
            "_view_count": null,
            "_view_module": "@jupyter-widgets/base",
            "_view_module_version": "1.2.0",
            "_view_name": "LayoutView",
            "align_content": null,
            "align_items": null,
            "align_self": null,
            "border": null,
            "bottom": null,
            "display": null,
            "flex": null,
            "flex_flow": null,
            "grid_area": null,
            "grid_auto_columns": null,
            "grid_auto_flow": null,
            "grid_auto_rows": null,
            "grid_column": null,
            "grid_gap": null,
            "grid_row": null,
            "grid_template_areas": null,
            "grid_template_columns": null,
            "grid_template_rows": null,
            "height": null,
            "justify_content": null,
            "justify_items": null,
            "left": null,
            "margin": null,
            "max_height": null,
            "max_width": null,
            "min_height": null,
            "min_width": null,
            "object_fit": null,
            "object_position": null,
            "order": null,
            "overflow": null,
            "overflow_x": null,
            "overflow_y": null,
            "padding": null,
            "right": null,
            "top": null,
            "visibility": null,
            "width": null
          }
        },
        "e912e83ef6de42828739a7a8b5514b25": {
          "model_module": "@jupyter-widgets/base",
          "model_name": "LayoutModel",
          "model_module_version": "1.2.0",
          "state": {
            "_model_module": "@jupyter-widgets/base",
            "_model_module_version": "1.2.0",
            "_model_name": "LayoutModel",
            "_view_count": null,
            "_view_module": "@jupyter-widgets/base",
            "_view_module_version": "1.2.0",
            "_view_name": "LayoutView",
            "align_content": null,
            "align_items": null,
            "align_self": null,
            "border": null,
            "bottom": null,
            "display": null,
            "flex": null,
            "flex_flow": null,
            "grid_area": null,
            "grid_auto_columns": null,
            "grid_auto_flow": null,
            "grid_auto_rows": null,
            "grid_column": null,
            "grid_gap": null,
            "grid_row": null,
            "grid_template_areas": null,
            "grid_template_columns": null,
            "grid_template_rows": null,
            "height": null,
            "justify_content": null,
            "justify_items": null,
            "left": null,
            "margin": null,
            "max_height": null,
            "max_width": null,
            "min_height": null,
            "min_width": null,
            "object_fit": null,
            "object_position": null,
            "order": null,
            "overflow": null,
            "overflow_x": null,
            "overflow_y": null,
            "padding": null,
            "right": null,
            "top": null,
            "visibility": null,
            "width": null
          }
        },
        "eae7a2e979614288902d0731da575d68": {
          "model_module": "@jupyter-widgets/controls",
          "model_name": "DescriptionStyleModel",
          "model_module_version": "1.5.0",
          "state": {
            "_model_module": "@jupyter-widgets/controls",
            "_model_module_version": "1.5.0",
            "_model_name": "DescriptionStyleModel",
            "_view_count": null,
            "_view_module": "@jupyter-widgets/base",
            "_view_module_version": "1.2.0",
            "_view_name": "StyleView",
            "description_width": ""
          }
        },
        "0d810fff2cc547ccb38f026fd83fb7f1": {
          "model_module": "@jupyter-widgets/base",
          "model_name": "LayoutModel",
          "model_module_version": "1.2.0",
          "state": {
            "_model_module": "@jupyter-widgets/base",
            "_model_module_version": "1.2.0",
            "_model_name": "LayoutModel",
            "_view_count": null,
            "_view_module": "@jupyter-widgets/base",
            "_view_module_version": "1.2.0",
            "_view_name": "LayoutView",
            "align_content": null,
            "align_items": null,
            "align_self": null,
            "border": null,
            "bottom": null,
            "display": null,
            "flex": null,
            "flex_flow": null,
            "grid_area": null,
            "grid_auto_columns": null,
            "grid_auto_flow": null,
            "grid_auto_rows": null,
            "grid_column": null,
            "grid_gap": null,
            "grid_row": null,
            "grid_template_areas": null,
            "grid_template_columns": null,
            "grid_template_rows": null,
            "height": null,
            "justify_content": null,
            "justify_items": null,
            "left": null,
            "margin": null,
            "max_height": null,
            "max_width": null,
            "min_height": null,
            "min_width": null,
            "object_fit": null,
            "object_position": null,
            "order": null,
            "overflow": null,
            "overflow_x": null,
            "overflow_y": null,
            "padding": null,
            "right": null,
            "top": null,
            "visibility": null,
            "width": null
          }
        },
        "f5e4bfc0ad6b44f2a5fbf0db29d27416": {
          "model_module": "@jupyter-widgets/controls",
          "model_name": "ProgressStyleModel",
          "model_module_version": "1.5.0",
          "state": {
            "_model_module": "@jupyter-widgets/controls",
            "_model_module_version": "1.5.0",
            "_model_name": "ProgressStyleModel",
            "_view_count": null,
            "_view_module": "@jupyter-widgets/base",
            "_view_module_version": "1.2.0",
            "_view_name": "StyleView",
            "bar_color": null,
            "description_width": ""
          }
        },
        "da39ae63057a4cebbc99ab3670cb7d4c": {
          "model_module": "@jupyter-widgets/base",
          "model_name": "LayoutModel",
          "model_module_version": "1.2.0",
          "state": {
            "_model_module": "@jupyter-widgets/base",
            "_model_module_version": "1.2.0",
            "_model_name": "LayoutModel",
            "_view_count": null,
            "_view_module": "@jupyter-widgets/base",
            "_view_module_version": "1.2.0",
            "_view_name": "LayoutView",
            "align_content": null,
            "align_items": null,
            "align_self": null,
            "border": null,
            "bottom": null,
            "display": null,
            "flex": null,
            "flex_flow": null,
            "grid_area": null,
            "grid_auto_columns": null,
            "grid_auto_flow": null,
            "grid_auto_rows": null,
            "grid_column": null,
            "grid_gap": null,
            "grid_row": null,
            "grid_template_areas": null,
            "grid_template_columns": null,
            "grid_template_rows": null,
            "height": null,
            "justify_content": null,
            "justify_items": null,
            "left": null,
            "margin": null,
            "max_height": null,
            "max_width": null,
            "min_height": null,
            "min_width": null,
            "object_fit": null,
            "object_position": null,
            "order": null,
            "overflow": null,
            "overflow_x": null,
            "overflow_y": null,
            "padding": null,
            "right": null,
            "top": null,
            "visibility": null,
            "width": null
          }
        },
        "ab38774095f047848280af0231bbefcb": {
          "model_module": "@jupyter-widgets/controls",
          "model_name": "DescriptionStyleModel",
          "model_module_version": "1.5.0",
          "state": {
            "_model_module": "@jupyter-widgets/controls",
            "_model_module_version": "1.5.0",
            "_model_name": "DescriptionStyleModel",
            "_view_count": null,
            "_view_module": "@jupyter-widgets/base",
            "_view_module_version": "1.2.0",
            "_view_name": "StyleView",
            "description_width": ""
          }
        },
        "b760aa917a424b05ac75b9caf2397024": {
          "model_module": "@jupyter-widgets/controls",
          "model_name": "HBoxModel",
          "model_module_version": "1.5.0",
          "state": {
            "_dom_classes": [],
            "_model_module": "@jupyter-widgets/controls",
            "_model_module_version": "1.5.0",
            "_model_name": "HBoxModel",
            "_view_count": null,
            "_view_module": "@jupyter-widgets/controls",
            "_view_module_version": "1.5.0",
            "_view_name": "HBoxView",
            "box_style": "",
            "children": [
              "IPY_MODEL_8ef7206fa09f485d83902f720a38926b",
              "IPY_MODEL_07b7d5826b9a491db70a0a7c98e8b4c5",
              "IPY_MODEL_c131fce025614553b80cf7cc395de681"
            ],
            "layout": "IPY_MODEL_7077c4c5ea4b4ccf8177c9249b42f961"
          }
        },
        "8ef7206fa09f485d83902f720a38926b": {
          "model_module": "@jupyter-widgets/controls",
          "model_name": "HTMLModel",
          "model_module_version": "1.5.0",
          "state": {
            "_dom_classes": [],
            "_model_module": "@jupyter-widgets/controls",
            "_model_module_version": "1.5.0",
            "_model_name": "HTMLModel",
            "_view_count": null,
            "_view_module": "@jupyter-widgets/controls",
            "_view_module_version": "1.5.0",
            "_view_name": "HTMLView",
            "description": "",
            "description_tooltip": null,
            "layout": "IPY_MODEL_22108f205290432bb491c79ce2bf4c03",
            "placeholder": "​",
            "style": "IPY_MODEL_f5f6ae42e7bd40029159ee6553283ffc",
            "value": "tokenizer_config.json: 100%"
          }
        },
        "07b7d5826b9a491db70a0a7c98e8b4c5": {
          "model_module": "@jupyter-widgets/controls",
          "model_name": "FloatProgressModel",
          "model_module_version": "1.5.0",
          "state": {
            "_dom_classes": [],
            "_model_module": "@jupyter-widgets/controls",
            "_model_module_version": "1.5.0",
            "_model_name": "FloatProgressModel",
            "_view_count": null,
            "_view_module": "@jupyter-widgets/controls",
            "_view_module_version": "1.5.0",
            "_view_name": "ProgressView",
            "bar_style": "success",
            "description": "",
            "description_tooltip": null,
            "layout": "IPY_MODEL_15dd6d4c904e4b299d37426abe1a58a9",
            "max": 1289,
            "min": 0,
            "orientation": "horizontal",
            "style": "IPY_MODEL_73f06b2c726d4f36bef1668b280ecf78",
            "value": 1289
          }
        },
        "c131fce025614553b80cf7cc395de681": {
          "model_module": "@jupyter-widgets/controls",
          "model_name": "HTMLModel",
          "model_module_version": "1.5.0",
          "state": {
            "_dom_classes": [],
            "_model_module": "@jupyter-widgets/controls",
            "_model_module_version": "1.5.0",
            "_model_name": "HTMLModel",
            "_view_count": null,
            "_view_module": "@jupyter-widgets/controls",
            "_view_module_version": "1.5.0",
            "_view_name": "HTMLView",
            "description": "",
            "description_tooltip": null,
            "layout": "IPY_MODEL_c70ed48046a146379b3365574d0bbf8e",
            "placeholder": "​",
            "style": "IPY_MODEL_359e01df62804185a2da2b3a55e4d2e9",
            "value": " 1.29k/1.29k [00:00&lt;00:00, 76.3kB/s]"
          }
        },
        "7077c4c5ea4b4ccf8177c9249b42f961": {
          "model_module": "@jupyter-widgets/base",
          "model_name": "LayoutModel",
          "model_module_version": "1.2.0",
          "state": {
            "_model_module": "@jupyter-widgets/base",
            "_model_module_version": "1.2.0",
            "_model_name": "LayoutModel",
            "_view_count": null,
            "_view_module": "@jupyter-widgets/base",
            "_view_module_version": "1.2.0",
            "_view_name": "LayoutView",
            "align_content": null,
            "align_items": null,
            "align_self": null,
            "border": null,
            "bottom": null,
            "display": null,
            "flex": null,
            "flex_flow": null,
            "grid_area": null,
            "grid_auto_columns": null,
            "grid_auto_flow": null,
            "grid_auto_rows": null,
            "grid_column": null,
            "grid_gap": null,
            "grid_row": null,
            "grid_template_areas": null,
            "grid_template_columns": null,
            "grid_template_rows": null,
            "height": null,
            "justify_content": null,
            "justify_items": null,
            "left": null,
            "margin": null,
            "max_height": null,
            "max_width": null,
            "min_height": null,
            "min_width": null,
            "object_fit": null,
            "object_position": null,
            "order": null,
            "overflow": null,
            "overflow_x": null,
            "overflow_y": null,
            "padding": null,
            "right": null,
            "top": null,
            "visibility": null,
            "width": null
          }
        },
        "22108f205290432bb491c79ce2bf4c03": {
          "model_module": "@jupyter-widgets/base",
          "model_name": "LayoutModel",
          "model_module_version": "1.2.0",
          "state": {
            "_model_module": "@jupyter-widgets/base",
            "_model_module_version": "1.2.0",
            "_model_name": "LayoutModel",
            "_view_count": null,
            "_view_module": "@jupyter-widgets/base",
            "_view_module_version": "1.2.0",
            "_view_name": "LayoutView",
            "align_content": null,
            "align_items": null,
            "align_self": null,
            "border": null,
            "bottom": null,
            "display": null,
            "flex": null,
            "flex_flow": null,
            "grid_area": null,
            "grid_auto_columns": null,
            "grid_auto_flow": null,
            "grid_auto_rows": null,
            "grid_column": null,
            "grid_gap": null,
            "grid_row": null,
            "grid_template_areas": null,
            "grid_template_columns": null,
            "grid_template_rows": null,
            "height": null,
            "justify_content": null,
            "justify_items": null,
            "left": null,
            "margin": null,
            "max_height": null,
            "max_width": null,
            "min_height": null,
            "min_width": null,
            "object_fit": null,
            "object_position": null,
            "order": null,
            "overflow": null,
            "overflow_x": null,
            "overflow_y": null,
            "padding": null,
            "right": null,
            "top": null,
            "visibility": null,
            "width": null
          }
        },
        "f5f6ae42e7bd40029159ee6553283ffc": {
          "model_module": "@jupyter-widgets/controls",
          "model_name": "DescriptionStyleModel",
          "model_module_version": "1.5.0",
          "state": {
            "_model_module": "@jupyter-widgets/controls",
            "_model_module_version": "1.5.0",
            "_model_name": "DescriptionStyleModel",
            "_view_count": null,
            "_view_module": "@jupyter-widgets/base",
            "_view_module_version": "1.2.0",
            "_view_name": "StyleView",
            "description_width": ""
          }
        },
        "15dd6d4c904e4b299d37426abe1a58a9": {
          "model_module": "@jupyter-widgets/base",
          "model_name": "LayoutModel",
          "model_module_version": "1.2.0",
          "state": {
            "_model_module": "@jupyter-widgets/base",
            "_model_module_version": "1.2.0",
            "_model_name": "LayoutModel",
            "_view_count": null,
            "_view_module": "@jupyter-widgets/base",
            "_view_module_version": "1.2.0",
            "_view_name": "LayoutView",
            "align_content": null,
            "align_items": null,
            "align_self": null,
            "border": null,
            "bottom": null,
            "display": null,
            "flex": null,
            "flex_flow": null,
            "grid_area": null,
            "grid_auto_columns": null,
            "grid_auto_flow": null,
            "grid_auto_rows": null,
            "grid_column": null,
            "grid_gap": null,
            "grid_row": null,
            "grid_template_areas": null,
            "grid_template_columns": null,
            "grid_template_rows": null,
            "height": null,
            "justify_content": null,
            "justify_items": null,
            "left": null,
            "margin": null,
            "max_height": null,
            "max_width": null,
            "min_height": null,
            "min_width": null,
            "object_fit": null,
            "object_position": null,
            "order": null,
            "overflow": null,
            "overflow_x": null,
            "overflow_y": null,
            "padding": null,
            "right": null,
            "top": null,
            "visibility": null,
            "width": null
          }
        },
        "73f06b2c726d4f36bef1668b280ecf78": {
          "model_module": "@jupyter-widgets/controls",
          "model_name": "ProgressStyleModel",
          "model_module_version": "1.5.0",
          "state": {
            "_model_module": "@jupyter-widgets/controls",
            "_model_module_version": "1.5.0",
            "_model_name": "ProgressStyleModel",
            "_view_count": null,
            "_view_module": "@jupyter-widgets/base",
            "_view_module_version": "1.2.0",
            "_view_name": "StyleView",
            "bar_color": null,
            "description_width": ""
          }
        },
        "c70ed48046a146379b3365574d0bbf8e": {
          "model_module": "@jupyter-widgets/base",
          "model_name": "LayoutModel",
          "model_module_version": "1.2.0",
          "state": {
            "_model_module": "@jupyter-widgets/base",
            "_model_module_version": "1.2.0",
            "_model_name": "LayoutModel",
            "_view_count": null,
            "_view_module": "@jupyter-widgets/base",
            "_view_module_version": "1.2.0",
            "_view_name": "LayoutView",
            "align_content": null,
            "align_items": null,
            "align_self": null,
            "border": null,
            "bottom": null,
            "display": null,
            "flex": null,
            "flex_flow": null,
            "grid_area": null,
            "grid_auto_columns": null,
            "grid_auto_flow": null,
            "grid_auto_rows": null,
            "grid_column": null,
            "grid_gap": null,
            "grid_row": null,
            "grid_template_areas": null,
            "grid_template_columns": null,
            "grid_template_rows": null,
            "height": null,
            "justify_content": null,
            "justify_items": null,
            "left": null,
            "margin": null,
            "max_height": null,
            "max_width": null,
            "min_height": null,
            "min_width": null,
            "object_fit": null,
            "object_position": null,
            "order": null,
            "overflow": null,
            "overflow_x": null,
            "overflow_y": null,
            "padding": null,
            "right": null,
            "top": null,
            "visibility": null,
            "width": null
          }
        },
        "359e01df62804185a2da2b3a55e4d2e9": {
          "model_module": "@jupyter-widgets/controls",
          "model_name": "DescriptionStyleModel",
          "model_module_version": "1.5.0",
          "state": {
            "_model_module": "@jupyter-widgets/controls",
            "_model_module_version": "1.5.0",
            "_model_name": "DescriptionStyleModel",
            "_view_count": null,
            "_view_module": "@jupyter-widgets/base",
            "_view_module_version": "1.2.0",
            "_view_name": "StyleView",
            "description_width": ""
          }
        },
        "b091eb89b6d64c04b2bad8c1cd17b553": {
          "model_module": "@jupyter-widgets/controls",
          "model_name": "HBoxModel",
          "model_module_version": "1.5.0",
          "state": {
            "_dom_classes": [],
            "_model_module": "@jupyter-widgets/controls",
            "_model_module_version": "1.5.0",
            "_model_name": "HBoxModel",
            "_view_count": null,
            "_view_module": "@jupyter-widgets/controls",
            "_view_module_version": "1.5.0",
            "_view_name": "HBoxView",
            "box_style": "",
            "children": [
              "IPY_MODEL_6fa9ac1a0e834160b8a004cc653f6126",
              "IPY_MODEL_edb8f21af2ab40f88559aa42f5d6a83b",
              "IPY_MODEL_3209f6330b15446c9d6448b9b587410c"
            ],
            "layout": "IPY_MODEL_5cc3ab75828c4458a1691bbc83a0325e"
          }
        },
        "6fa9ac1a0e834160b8a004cc653f6126": {
          "model_module": "@jupyter-widgets/controls",
          "model_name": "HTMLModel",
          "model_module_version": "1.5.0",
          "state": {
            "_dom_classes": [],
            "_model_module": "@jupyter-widgets/controls",
            "_model_module_version": "1.5.0",
            "_model_name": "HTMLModel",
            "_view_count": null,
            "_view_module": "@jupyter-widgets/controls",
            "_view_module_version": "1.5.0",
            "_view_name": "HTMLView",
            "description": "",
            "description_tooltip": null,
            "layout": "IPY_MODEL_eca1c7b37eb7492588d4067002acd5ac",
            "placeholder": "​",
            "style": "IPY_MODEL_b8bf956c4e1c43a8b9ddbca2d07b6d99",
            "value": "tokenizer.model: 100%"
          }
        },
        "edb8f21af2ab40f88559aa42f5d6a83b": {
          "model_module": "@jupyter-widgets/controls",
          "model_name": "FloatProgressModel",
          "model_module_version": "1.5.0",
          "state": {
            "_dom_classes": [],
            "_model_module": "@jupyter-widgets/controls",
            "_model_module_version": "1.5.0",
            "_model_name": "FloatProgressModel",
            "_view_count": null,
            "_view_module": "@jupyter-widgets/controls",
            "_view_module_version": "1.5.0",
            "_view_name": "ProgressView",
            "bar_style": "success",
            "description": "",
            "description_tooltip": null,
            "layout": "IPY_MODEL_90cf549712154505923e26e23737d827",
            "max": 499723,
            "min": 0,
            "orientation": "horizontal",
            "style": "IPY_MODEL_d346efeba531485ea5052292401e44d9",
            "value": 499723
          }
        },
        "3209f6330b15446c9d6448b9b587410c": {
          "model_module": "@jupyter-widgets/controls",
          "model_name": "HTMLModel",
          "model_module_version": "1.5.0",
          "state": {
            "_dom_classes": [],
            "_model_module": "@jupyter-widgets/controls",
            "_model_module_version": "1.5.0",
            "_model_name": "HTMLModel",
            "_view_count": null,
            "_view_module": "@jupyter-widgets/controls",
            "_view_module_version": "1.5.0",
            "_view_name": "HTMLView",
            "description": "",
            "description_tooltip": null,
            "layout": "IPY_MODEL_1723308cb03544569b054a8738b87a1c",
            "placeholder": "​",
            "style": "IPY_MODEL_f1f2d1aa6c8f4e4f9cbb7725ef61ee06",
            "value": " 500k/500k [00:00&lt;00:00, 2.82MB/s]"
          }
        },
        "5cc3ab75828c4458a1691bbc83a0325e": {
          "model_module": "@jupyter-widgets/base",
          "model_name": "LayoutModel",
          "model_module_version": "1.2.0",
          "state": {
            "_model_module": "@jupyter-widgets/base",
            "_model_module_version": "1.2.0",
            "_model_name": "LayoutModel",
            "_view_count": null,
            "_view_module": "@jupyter-widgets/base",
            "_view_module_version": "1.2.0",
            "_view_name": "LayoutView",
            "align_content": null,
            "align_items": null,
            "align_self": null,
            "border": null,
            "bottom": null,
            "display": null,
            "flex": null,
            "flex_flow": null,
            "grid_area": null,
            "grid_auto_columns": null,
            "grid_auto_flow": null,
            "grid_auto_rows": null,
            "grid_column": null,
            "grid_gap": null,
            "grid_row": null,
            "grid_template_areas": null,
            "grid_template_columns": null,
            "grid_template_rows": null,
            "height": null,
            "justify_content": null,
            "justify_items": null,
            "left": null,
            "margin": null,
            "max_height": null,
            "max_width": null,
            "min_height": null,
            "min_width": null,
            "object_fit": null,
            "object_position": null,
            "order": null,
            "overflow": null,
            "overflow_x": null,
            "overflow_y": null,
            "padding": null,
            "right": null,
            "top": null,
            "visibility": null,
            "width": null
          }
        },
        "eca1c7b37eb7492588d4067002acd5ac": {
          "model_module": "@jupyter-widgets/base",
          "model_name": "LayoutModel",
          "model_module_version": "1.2.0",
          "state": {
            "_model_module": "@jupyter-widgets/base",
            "_model_module_version": "1.2.0",
            "_model_name": "LayoutModel",
            "_view_count": null,
            "_view_module": "@jupyter-widgets/base",
            "_view_module_version": "1.2.0",
            "_view_name": "LayoutView",
            "align_content": null,
            "align_items": null,
            "align_self": null,
            "border": null,
            "bottom": null,
            "display": null,
            "flex": null,
            "flex_flow": null,
            "grid_area": null,
            "grid_auto_columns": null,
            "grid_auto_flow": null,
            "grid_auto_rows": null,
            "grid_column": null,
            "grid_gap": null,
            "grid_row": null,
            "grid_template_areas": null,
            "grid_template_columns": null,
            "grid_template_rows": null,
            "height": null,
            "justify_content": null,
            "justify_items": null,
            "left": null,
            "margin": null,
            "max_height": null,
            "max_width": null,
            "min_height": null,
            "min_width": null,
            "object_fit": null,
            "object_position": null,
            "order": null,
            "overflow": null,
            "overflow_x": null,
            "overflow_y": null,
            "padding": null,
            "right": null,
            "top": null,
            "visibility": null,
            "width": null
          }
        },
        "b8bf956c4e1c43a8b9ddbca2d07b6d99": {
          "model_module": "@jupyter-widgets/controls",
          "model_name": "DescriptionStyleModel",
          "model_module_version": "1.5.0",
          "state": {
            "_model_module": "@jupyter-widgets/controls",
            "_model_module_version": "1.5.0",
            "_model_name": "DescriptionStyleModel",
            "_view_count": null,
            "_view_module": "@jupyter-widgets/base",
            "_view_module_version": "1.2.0",
            "_view_name": "StyleView",
            "description_width": ""
          }
        },
        "90cf549712154505923e26e23737d827": {
          "model_module": "@jupyter-widgets/base",
          "model_name": "LayoutModel",
          "model_module_version": "1.2.0",
          "state": {
            "_model_module": "@jupyter-widgets/base",
            "_model_module_version": "1.2.0",
            "_model_name": "LayoutModel",
            "_view_count": null,
            "_view_module": "@jupyter-widgets/base",
            "_view_module_version": "1.2.0",
            "_view_name": "LayoutView",
            "align_content": null,
            "align_items": null,
            "align_self": null,
            "border": null,
            "bottom": null,
            "display": null,
            "flex": null,
            "flex_flow": null,
            "grid_area": null,
            "grid_auto_columns": null,
            "grid_auto_flow": null,
            "grid_auto_rows": null,
            "grid_column": null,
            "grid_gap": null,
            "grid_row": null,
            "grid_template_areas": null,
            "grid_template_columns": null,
            "grid_template_rows": null,
            "height": null,
            "justify_content": null,
            "justify_items": null,
            "left": null,
            "margin": null,
            "max_height": null,
            "max_width": null,
            "min_height": null,
            "min_width": null,
            "object_fit": null,
            "object_position": null,
            "order": null,
            "overflow": null,
            "overflow_x": null,
            "overflow_y": null,
            "padding": null,
            "right": null,
            "top": null,
            "visibility": null,
            "width": null
          }
        },
        "d346efeba531485ea5052292401e44d9": {
          "model_module": "@jupyter-widgets/controls",
          "model_name": "ProgressStyleModel",
          "model_module_version": "1.5.0",
          "state": {
            "_model_module": "@jupyter-widgets/controls",
            "_model_module_version": "1.5.0",
            "_model_name": "ProgressStyleModel",
            "_view_count": null,
            "_view_module": "@jupyter-widgets/base",
            "_view_module_version": "1.2.0",
            "_view_name": "StyleView",
            "bar_color": null,
            "description_width": ""
          }
        },
        "1723308cb03544569b054a8738b87a1c": {
          "model_module": "@jupyter-widgets/base",
          "model_name": "LayoutModel",
          "model_module_version": "1.2.0",
          "state": {
            "_model_module": "@jupyter-widgets/base",
            "_model_module_version": "1.2.0",
            "_model_name": "LayoutModel",
            "_view_count": null,
            "_view_module": "@jupyter-widgets/base",
            "_view_module_version": "1.2.0",
            "_view_name": "LayoutView",
            "align_content": null,
            "align_items": null,
            "align_self": null,
            "border": null,
            "bottom": null,
            "display": null,
            "flex": null,
            "flex_flow": null,
            "grid_area": null,
            "grid_auto_columns": null,
            "grid_auto_flow": null,
            "grid_auto_rows": null,
            "grid_column": null,
            "grid_gap": null,
            "grid_row": null,
            "grid_template_areas": null,
            "grid_template_columns": null,
            "grid_template_rows": null,
            "height": null,
            "justify_content": null,
            "justify_items": null,
            "left": null,
            "margin": null,
            "max_height": null,
            "max_width": null,
            "min_height": null,
            "min_width": null,
            "object_fit": null,
            "object_position": null,
            "order": null,
            "overflow": null,
            "overflow_x": null,
            "overflow_y": null,
            "padding": null,
            "right": null,
            "top": null,
            "visibility": null,
            "width": null
          }
        },
        "f1f2d1aa6c8f4e4f9cbb7725ef61ee06": {
          "model_module": "@jupyter-widgets/controls",
          "model_name": "DescriptionStyleModel",
          "model_module_version": "1.5.0",
          "state": {
            "_model_module": "@jupyter-widgets/controls",
            "_model_module_version": "1.5.0",
            "_model_name": "DescriptionStyleModel",
            "_view_count": null,
            "_view_module": "@jupyter-widgets/base",
            "_view_module_version": "1.2.0",
            "_view_name": "StyleView",
            "description_width": ""
          }
        },
        "b61ab8c1a41f4611942e84298ce9c26c": {
          "model_module": "@jupyter-widgets/controls",
          "model_name": "HBoxModel",
          "model_module_version": "1.5.0",
          "state": {
            "_dom_classes": [],
            "_model_module": "@jupyter-widgets/controls",
            "_model_module_version": "1.5.0",
            "_model_name": "HBoxModel",
            "_view_count": null,
            "_view_module": "@jupyter-widgets/controls",
            "_view_module_version": "1.5.0",
            "_view_name": "HBoxView",
            "box_style": "",
            "children": [
              "IPY_MODEL_ee91851dcfd24c638a14926f751d7ee6",
              "IPY_MODEL_f5cec6d7ed874484bf3c6559e92db1af",
              "IPY_MODEL_27761ee488da49e09222bbe639fa7b15"
            ],
            "layout": "IPY_MODEL_78fac57eb7a0486fb8d4a986bbbbd797"
          }
        },
        "ee91851dcfd24c638a14926f751d7ee6": {
          "model_module": "@jupyter-widgets/controls",
          "model_name": "HTMLModel",
          "model_module_version": "1.5.0",
          "state": {
            "_dom_classes": [],
            "_model_module": "@jupyter-widgets/controls",
            "_model_module_version": "1.5.0",
            "_model_name": "HTMLModel",
            "_view_count": null,
            "_view_module": "@jupyter-widgets/controls",
            "_view_module_version": "1.5.0",
            "_view_name": "HTMLView",
            "description": "",
            "description_tooltip": null,
            "layout": "IPY_MODEL_965b8405a2124a0f9f1efe36c370870f",
            "placeholder": "​",
            "style": "IPY_MODEL_d59bcb8f9a6b4dc69474e76d60a33819",
            "value": "tokenizer.json: 100%"
          }
        },
        "f5cec6d7ed874484bf3c6559e92db1af": {
          "model_module": "@jupyter-widgets/controls",
          "model_name": "FloatProgressModel",
          "model_module_version": "1.5.0",
          "state": {
            "_dom_classes": [],
            "_model_module": "@jupyter-widgets/controls",
            "_model_module_version": "1.5.0",
            "_model_name": "FloatProgressModel",
            "_view_count": null,
            "_view_module": "@jupyter-widgets/controls",
            "_view_module_version": "1.5.0",
            "_view_name": "ProgressView",
            "bar_style": "success",
            "description": "",
            "description_tooltip": null,
            "layout": "IPY_MODEL_7067986e35fc429cbb18c215cc4def9a",
            "max": 1842767,
            "min": 0,
            "orientation": "horizontal",
            "style": "IPY_MODEL_596fd04c61c449839e9e988c4045ac4d",
            "value": 1842767
          }
        },
        "27761ee488da49e09222bbe639fa7b15": {
          "model_module": "@jupyter-widgets/controls",
          "model_name": "HTMLModel",
          "model_module_version": "1.5.0",
          "state": {
            "_dom_classes": [],
            "_model_module": "@jupyter-widgets/controls",
            "_model_module_version": "1.5.0",
            "_model_name": "HTMLModel",
            "_view_count": null,
            "_view_module": "@jupyter-widgets/controls",
            "_view_module_version": "1.5.0",
            "_view_name": "HTMLView",
            "description": "",
            "description_tooltip": null,
            "layout": "IPY_MODEL_7728a78457864ef2b48acc8a58117d6a",
            "placeholder": "​",
            "style": "IPY_MODEL_39ae6605418142e0be9eb34e47394904",
            "value": " 1.84M/1.84M [00:00&lt;00:00, 3.71MB/s]"
          }
        },
        "78fac57eb7a0486fb8d4a986bbbbd797": {
          "model_module": "@jupyter-widgets/base",
          "model_name": "LayoutModel",
          "model_module_version": "1.2.0",
          "state": {
            "_model_module": "@jupyter-widgets/base",
            "_model_module_version": "1.2.0",
            "_model_name": "LayoutModel",
            "_view_count": null,
            "_view_module": "@jupyter-widgets/base",
            "_view_module_version": "1.2.0",
            "_view_name": "LayoutView",
            "align_content": null,
            "align_items": null,
            "align_self": null,
            "border": null,
            "bottom": null,
            "display": null,
            "flex": null,
            "flex_flow": null,
            "grid_area": null,
            "grid_auto_columns": null,
            "grid_auto_flow": null,
            "grid_auto_rows": null,
            "grid_column": null,
            "grid_gap": null,
            "grid_row": null,
            "grid_template_areas": null,
            "grid_template_columns": null,
            "grid_template_rows": null,
            "height": null,
            "justify_content": null,
            "justify_items": null,
            "left": null,
            "margin": null,
            "max_height": null,
            "max_width": null,
            "min_height": null,
            "min_width": null,
            "object_fit": null,
            "object_position": null,
            "order": null,
            "overflow": null,
            "overflow_x": null,
            "overflow_y": null,
            "padding": null,
            "right": null,
            "top": null,
            "visibility": null,
            "width": null
          }
        },
        "965b8405a2124a0f9f1efe36c370870f": {
          "model_module": "@jupyter-widgets/base",
          "model_name": "LayoutModel",
          "model_module_version": "1.2.0",
          "state": {
            "_model_module": "@jupyter-widgets/base",
            "_model_module_version": "1.2.0",
            "_model_name": "LayoutModel",
            "_view_count": null,
            "_view_module": "@jupyter-widgets/base",
            "_view_module_version": "1.2.0",
            "_view_name": "LayoutView",
            "align_content": null,
            "align_items": null,
            "align_self": null,
            "border": null,
            "bottom": null,
            "display": null,
            "flex": null,
            "flex_flow": null,
            "grid_area": null,
            "grid_auto_columns": null,
            "grid_auto_flow": null,
            "grid_auto_rows": null,
            "grid_column": null,
            "grid_gap": null,
            "grid_row": null,
            "grid_template_areas": null,
            "grid_template_columns": null,
            "grid_template_rows": null,
            "height": null,
            "justify_content": null,
            "justify_items": null,
            "left": null,
            "margin": null,
            "max_height": null,
            "max_width": null,
            "min_height": null,
            "min_width": null,
            "object_fit": null,
            "object_position": null,
            "order": null,
            "overflow": null,
            "overflow_x": null,
            "overflow_y": null,
            "padding": null,
            "right": null,
            "top": null,
            "visibility": null,
            "width": null
          }
        },
        "d59bcb8f9a6b4dc69474e76d60a33819": {
          "model_module": "@jupyter-widgets/controls",
          "model_name": "DescriptionStyleModel",
          "model_module_version": "1.5.0",
          "state": {
            "_model_module": "@jupyter-widgets/controls",
            "_model_module_version": "1.5.0",
            "_model_name": "DescriptionStyleModel",
            "_view_count": null,
            "_view_module": "@jupyter-widgets/base",
            "_view_module_version": "1.2.0",
            "_view_name": "StyleView",
            "description_width": ""
          }
        },
        "7067986e35fc429cbb18c215cc4def9a": {
          "model_module": "@jupyter-widgets/base",
          "model_name": "LayoutModel",
          "model_module_version": "1.2.0",
          "state": {
            "_model_module": "@jupyter-widgets/base",
            "_model_module_version": "1.2.0",
            "_model_name": "LayoutModel",
            "_view_count": null,
            "_view_module": "@jupyter-widgets/base",
            "_view_module_version": "1.2.0",
            "_view_name": "LayoutView",
            "align_content": null,
            "align_items": null,
            "align_self": null,
            "border": null,
            "bottom": null,
            "display": null,
            "flex": null,
            "flex_flow": null,
            "grid_area": null,
            "grid_auto_columns": null,
            "grid_auto_flow": null,
            "grid_auto_rows": null,
            "grid_column": null,
            "grid_gap": null,
            "grid_row": null,
            "grid_template_areas": null,
            "grid_template_columns": null,
            "grid_template_rows": null,
            "height": null,
            "justify_content": null,
            "justify_items": null,
            "left": null,
            "margin": null,
            "max_height": null,
            "max_width": null,
            "min_height": null,
            "min_width": null,
            "object_fit": null,
            "object_position": null,
            "order": null,
            "overflow": null,
            "overflow_x": null,
            "overflow_y": null,
            "padding": null,
            "right": null,
            "top": null,
            "visibility": null,
            "width": null
          }
        },
        "596fd04c61c449839e9e988c4045ac4d": {
          "model_module": "@jupyter-widgets/controls",
          "model_name": "ProgressStyleModel",
          "model_module_version": "1.5.0",
          "state": {
            "_model_module": "@jupyter-widgets/controls",
            "_model_module_version": "1.5.0",
            "_model_name": "ProgressStyleModel",
            "_view_count": null,
            "_view_module": "@jupyter-widgets/base",
            "_view_module_version": "1.2.0",
            "_view_name": "StyleView",
            "bar_color": null,
            "description_width": ""
          }
        },
        "7728a78457864ef2b48acc8a58117d6a": {
          "model_module": "@jupyter-widgets/base",
          "model_name": "LayoutModel",
          "model_module_version": "1.2.0",
          "state": {
            "_model_module": "@jupyter-widgets/base",
            "_model_module_version": "1.2.0",
            "_model_name": "LayoutModel",
            "_view_count": null,
            "_view_module": "@jupyter-widgets/base",
            "_view_module_version": "1.2.0",
            "_view_name": "LayoutView",
            "align_content": null,
            "align_items": null,
            "align_self": null,
            "border": null,
            "bottom": null,
            "display": null,
            "flex": null,
            "flex_flow": null,
            "grid_area": null,
            "grid_auto_columns": null,
            "grid_auto_flow": null,
            "grid_auto_rows": null,
            "grid_column": null,
            "grid_gap": null,
            "grid_row": null,
            "grid_template_areas": null,
            "grid_template_columns": null,
            "grid_template_rows": null,
            "height": null,
            "justify_content": null,
            "justify_items": null,
            "left": null,
            "margin": null,
            "max_height": null,
            "max_width": null,
            "min_height": null,
            "min_width": null,
            "object_fit": null,
            "object_position": null,
            "order": null,
            "overflow": null,
            "overflow_x": null,
            "overflow_y": null,
            "padding": null,
            "right": null,
            "top": null,
            "visibility": null,
            "width": null
          }
        },
        "39ae6605418142e0be9eb34e47394904": {
          "model_module": "@jupyter-widgets/controls",
          "model_name": "DescriptionStyleModel",
          "model_module_version": "1.5.0",
          "state": {
            "_model_module": "@jupyter-widgets/controls",
            "_model_module_version": "1.5.0",
            "_model_name": "DescriptionStyleModel",
            "_view_count": null,
            "_view_module": "@jupyter-widgets/base",
            "_view_module_version": "1.2.0",
            "_view_name": "StyleView",
            "description_width": ""
          }
        },
        "9cac2621a39c49beb8ec423e47e8556b": {
          "model_module": "@jupyter-widgets/controls",
          "model_name": "HBoxModel",
          "model_module_version": "1.5.0",
          "state": {
            "_dom_classes": [],
            "_model_module": "@jupyter-widgets/controls",
            "_model_module_version": "1.5.0",
            "_model_name": "HBoxModel",
            "_view_count": null,
            "_view_module": "@jupyter-widgets/controls",
            "_view_module_version": "1.5.0",
            "_view_name": "HBoxView",
            "box_style": "",
            "children": [
              "IPY_MODEL_8c9be72f24264d908300a566043f1d23",
              "IPY_MODEL_e4cdbe447792423580387d65e093ee6c",
              "IPY_MODEL_e4d781e8674a4eb5a626443c3964be67"
            ],
            "layout": "IPY_MODEL_cb6d1fdee1814e7a9f76f98c122f0d53"
          }
        },
        "8c9be72f24264d908300a566043f1d23": {
          "model_module": "@jupyter-widgets/controls",
          "model_name": "HTMLModel",
          "model_module_version": "1.5.0",
          "state": {
            "_dom_classes": [],
            "_model_module": "@jupyter-widgets/controls",
            "_model_module_version": "1.5.0",
            "_model_name": "HTMLModel",
            "_view_count": null,
            "_view_module": "@jupyter-widgets/controls",
            "_view_module_version": "1.5.0",
            "_view_name": "HTMLView",
            "description": "",
            "description_tooltip": null,
            "layout": "IPY_MODEL_d4ac398754fa4f1a8da7ce5af2ad27f9",
            "placeholder": "​",
            "style": "IPY_MODEL_29afc01eb894437983ad966bf90f506a",
            "value": "special_tokens_map.json: 100%"
          }
        },
        "e4cdbe447792423580387d65e093ee6c": {
          "model_module": "@jupyter-widgets/controls",
          "model_name": "FloatProgressModel",
          "model_module_version": "1.5.0",
          "state": {
            "_dom_classes": [],
            "_model_module": "@jupyter-widgets/controls",
            "_model_module_version": "1.5.0",
            "_model_name": "FloatProgressModel",
            "_view_count": null,
            "_view_module": "@jupyter-widgets/controls",
            "_view_module_version": "1.5.0",
            "_view_name": "ProgressView",
            "bar_style": "success",
            "description": "",
            "description_tooltip": null,
            "layout": "IPY_MODEL_e9d5956e7d67473399402c3f6f2cf516",
            "max": 551,
            "min": 0,
            "orientation": "horizontal",
            "style": "IPY_MODEL_9c65fd6ef05e471ea61496dc6e96460c",
            "value": 551
          }
        },
        "e4d781e8674a4eb5a626443c3964be67": {
          "model_module": "@jupyter-widgets/controls",
          "model_name": "HTMLModel",
          "model_module_version": "1.5.0",
          "state": {
            "_dom_classes": [],
            "_model_module": "@jupyter-widgets/controls",
            "_model_module_version": "1.5.0",
            "_model_name": "HTMLModel",
            "_view_count": null,
            "_view_module": "@jupyter-widgets/controls",
            "_view_module_version": "1.5.0",
            "_view_name": "HTMLView",
            "description": "",
            "description_tooltip": null,
            "layout": "IPY_MODEL_922cb1b0bf774c4aa18d49a43727677b",
            "placeholder": "​",
            "style": "IPY_MODEL_ae326dbcb98c4c848d4fc7146e8f701f",
            "value": " 551/551 [00:00&lt;00:00, 50.4kB/s]"
          }
        },
        "cb6d1fdee1814e7a9f76f98c122f0d53": {
          "model_module": "@jupyter-widgets/base",
          "model_name": "LayoutModel",
          "model_module_version": "1.2.0",
          "state": {
            "_model_module": "@jupyter-widgets/base",
            "_model_module_version": "1.2.0",
            "_model_name": "LayoutModel",
            "_view_count": null,
            "_view_module": "@jupyter-widgets/base",
            "_view_module_version": "1.2.0",
            "_view_name": "LayoutView",
            "align_content": null,
            "align_items": null,
            "align_self": null,
            "border": null,
            "bottom": null,
            "display": null,
            "flex": null,
            "flex_flow": null,
            "grid_area": null,
            "grid_auto_columns": null,
            "grid_auto_flow": null,
            "grid_auto_rows": null,
            "grid_column": null,
            "grid_gap": null,
            "grid_row": null,
            "grid_template_areas": null,
            "grid_template_columns": null,
            "grid_template_rows": null,
            "height": null,
            "justify_content": null,
            "justify_items": null,
            "left": null,
            "margin": null,
            "max_height": null,
            "max_width": null,
            "min_height": null,
            "min_width": null,
            "object_fit": null,
            "object_position": null,
            "order": null,
            "overflow": null,
            "overflow_x": null,
            "overflow_y": null,
            "padding": null,
            "right": null,
            "top": null,
            "visibility": null,
            "width": null
          }
        },
        "d4ac398754fa4f1a8da7ce5af2ad27f9": {
          "model_module": "@jupyter-widgets/base",
          "model_name": "LayoutModel",
          "model_module_version": "1.2.0",
          "state": {
            "_model_module": "@jupyter-widgets/base",
            "_model_module_version": "1.2.0",
            "_model_name": "LayoutModel",
            "_view_count": null,
            "_view_module": "@jupyter-widgets/base",
            "_view_module_version": "1.2.0",
            "_view_name": "LayoutView",
            "align_content": null,
            "align_items": null,
            "align_self": null,
            "border": null,
            "bottom": null,
            "display": null,
            "flex": null,
            "flex_flow": null,
            "grid_area": null,
            "grid_auto_columns": null,
            "grid_auto_flow": null,
            "grid_auto_rows": null,
            "grid_column": null,
            "grid_gap": null,
            "grid_row": null,
            "grid_template_areas": null,
            "grid_template_columns": null,
            "grid_template_rows": null,
            "height": null,
            "justify_content": null,
            "justify_items": null,
            "left": null,
            "margin": null,
            "max_height": null,
            "max_width": null,
            "min_height": null,
            "min_width": null,
            "object_fit": null,
            "object_position": null,
            "order": null,
            "overflow": null,
            "overflow_x": null,
            "overflow_y": null,
            "padding": null,
            "right": null,
            "top": null,
            "visibility": null,
            "width": null
          }
        },
        "29afc01eb894437983ad966bf90f506a": {
          "model_module": "@jupyter-widgets/controls",
          "model_name": "DescriptionStyleModel",
          "model_module_version": "1.5.0",
          "state": {
            "_model_module": "@jupyter-widgets/controls",
            "_model_module_version": "1.5.0",
            "_model_name": "DescriptionStyleModel",
            "_view_count": null,
            "_view_module": "@jupyter-widgets/base",
            "_view_module_version": "1.2.0",
            "_view_name": "StyleView",
            "description_width": ""
          }
        },
        "e9d5956e7d67473399402c3f6f2cf516": {
          "model_module": "@jupyter-widgets/base",
          "model_name": "LayoutModel",
          "model_module_version": "1.2.0",
          "state": {
            "_model_module": "@jupyter-widgets/base",
            "_model_module_version": "1.2.0",
            "_model_name": "LayoutModel",
            "_view_count": null,
            "_view_module": "@jupyter-widgets/base",
            "_view_module_version": "1.2.0",
            "_view_name": "LayoutView",
            "align_content": null,
            "align_items": null,
            "align_self": null,
            "border": null,
            "bottom": null,
            "display": null,
            "flex": null,
            "flex_flow": null,
            "grid_area": null,
            "grid_auto_columns": null,
            "grid_auto_flow": null,
            "grid_auto_rows": null,
            "grid_column": null,
            "grid_gap": null,
            "grid_row": null,
            "grid_template_areas": null,
            "grid_template_columns": null,
            "grid_template_rows": null,
            "height": null,
            "justify_content": null,
            "justify_items": null,
            "left": null,
            "margin": null,
            "max_height": null,
            "max_width": null,
            "min_height": null,
            "min_width": null,
            "object_fit": null,
            "object_position": null,
            "order": null,
            "overflow": null,
            "overflow_x": null,
            "overflow_y": null,
            "padding": null,
            "right": null,
            "top": null,
            "visibility": null,
            "width": null
          }
        },
        "9c65fd6ef05e471ea61496dc6e96460c": {
          "model_module": "@jupyter-widgets/controls",
          "model_name": "ProgressStyleModel",
          "model_module_version": "1.5.0",
          "state": {
            "_model_module": "@jupyter-widgets/controls",
            "_model_module_version": "1.5.0",
            "_model_name": "ProgressStyleModel",
            "_view_count": null,
            "_view_module": "@jupyter-widgets/base",
            "_view_module_version": "1.2.0",
            "_view_name": "StyleView",
            "bar_color": null,
            "description_width": ""
          }
        },
        "922cb1b0bf774c4aa18d49a43727677b": {
          "model_module": "@jupyter-widgets/base",
          "model_name": "LayoutModel",
          "model_module_version": "1.2.0",
          "state": {
            "_model_module": "@jupyter-widgets/base",
            "_model_module_version": "1.2.0",
            "_model_name": "LayoutModel",
            "_view_count": null,
            "_view_module": "@jupyter-widgets/base",
            "_view_module_version": "1.2.0",
            "_view_name": "LayoutView",
            "align_content": null,
            "align_items": null,
            "align_self": null,
            "border": null,
            "bottom": null,
            "display": null,
            "flex": null,
            "flex_flow": null,
            "grid_area": null,
            "grid_auto_columns": null,
            "grid_auto_flow": null,
            "grid_auto_rows": null,
            "grid_column": null,
            "grid_gap": null,
            "grid_row": null,
            "grid_template_areas": null,
            "grid_template_columns": null,
            "grid_template_rows": null,
            "height": null,
            "justify_content": null,
            "justify_items": null,
            "left": null,
            "margin": null,
            "max_height": null,
            "max_width": null,
            "min_height": null,
            "min_width": null,
            "object_fit": null,
            "object_position": null,
            "order": null,
            "overflow": null,
            "overflow_x": null,
            "overflow_y": null,
            "padding": null,
            "right": null,
            "top": null,
            "visibility": null,
            "width": null
          }
        },
        "ae326dbcb98c4c848d4fc7146e8f701f": {
          "model_module": "@jupyter-widgets/controls",
          "model_name": "DescriptionStyleModel",
          "model_module_version": "1.5.0",
          "state": {
            "_model_module": "@jupyter-widgets/controls",
            "_model_module_version": "1.5.0",
            "_model_name": "DescriptionStyleModel",
            "_view_count": null,
            "_view_module": "@jupyter-widgets/base",
            "_view_module_version": "1.2.0",
            "_view_name": "StyleView",
            "description_width": ""
          }
        }
      }
    }
  },
  "nbformat": 4,
  "nbformat_minor": 0
}